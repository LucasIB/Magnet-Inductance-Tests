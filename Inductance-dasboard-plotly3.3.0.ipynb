{
 "cells": [
  {
   "cell_type": "markdown",
   "metadata": {},
   "source": [
    "## Fazendo plots separados para o Dash de indutância com plotly 3.3.0"
   ]
  },
  {
   "cell_type": "markdown",
   "metadata": {},
   "source": [
    "**Exportando nosso gráfico para conta do Plotly na nuvem**"
   ]
  },
  {
   "cell_type": "markdown",
   "metadata": {},
   "source": [
    "- Criar conta no portal **plot.ly**\n",
    "- Obter credenciais da API\n",
    "- Importa método para plot **online**\n",
    "- Substitua o método iplot() pelo método **plot()**"
   ]
  },
  {
   "cell_type": "markdown",
   "metadata": {},
   "source": [
    "**Configurando credenciais**"
   ]
  },
  {
   "cell_type": "code",
   "execution_count": 104,
   "metadata": {},
   "outputs": [],
   "source": [
    "import plotly\n",
    "plotly.tools.set_credentials_file(username='LucasIB', api_key='oZYuCLNJPCWNcwJpMA2H')"
   ]
  },
  {
   "cell_type": "markdown",
   "metadata": {},
   "source": [
    "**Importando método para plot online**"
   ]
  },
  {
   "cell_type": "code",
   "execution_count": 105,
   "metadata": {},
   "outputs": [],
   "source": [
    "import plotly.plotly as pyo"
   ]
  },
  {
   "cell_type": "code",
   "execution_count": 94,
   "metadata": {},
   "outputs": [],
   "source": [
    "#plotly.tools.set_credentials_file(username='LucasIB', api_key='•••••••••')"
   ]
  },
  {
   "cell_type": "code",
   "execution_count": 95,
   "metadata": {},
   "outputs": [],
   "source": [
    "import plotly.graph_objs as go\n",
    "\n",
    "_dict_inductance = {\n",
    "    'CV': [0.00156769, 0.00246953, 0.00262631, 0.00286779, 0.00299718,\n",
    "           0.00289128, 0.00281451, 0.0028337 , 0.00281157, 0.0028023 ],\n",
    "    'CH': [0.00208073, 0.00274155, 0.00301928, 0.00316398, 0.00333924,\n",
    "           0.0032438 , 0.00305018, 0.00299117, 0.00295591, 0.00293359],\n",
    "    'QS': [0.00399917, 0.00613224, 0.00634324, 0.00622694, 0.00633215,\n",
    "           0.00705117, 0.00820824, 0.00890014, 0.00909269, 0.00905809],\n",
    "    'current[A]CH-CV': np.arange(0.1,1.1,0.1),\n",
    "    'current[A]QS': np.arange(0.1,3.0,0.3)}"
   ]
  },
  {
   "cell_type": "code",
   "execution_count": 96,
   "metadata": {},
   "outputs": [
    {
     "data": {
      "text/plain": [
       "'3.3.0'"
      ]
     },
     "execution_count": 96,
     "metadata": {},
     "output_type": "execute_result"
    }
   ],
   "source": [
    "import plotly\n",
    "plotly.__version__"
   ]
  },
  {
   "cell_type": "code",
   "execution_count": 106,
   "metadata": {
    "scrolled": false
   },
   "outputs": [
    {
     "data": {
      "text/html": [
       "<iframe id=\"igraph\" scrolling=\"no\" style=\"border:none;\" seamless=\"seamless\" src=\"https://plot.ly/~LucasIB/6.embed\" height=\"525px\" width=\"100%\"></iframe>"
      ],
      "text/plain": [
       "<plotly.tools.PlotlyDisplay object>"
      ]
     },
     "execution_count": 106,
     "metadata": {},
     "output_type": "execute_result"
    }
   ],
   "source": [
    "import plotly.offline as py\n",
    "import plotly.graph_objs as go\n",
    "fig = go.Figure()\n",
    "fig.add_trace(go.Scatter(x=_dict_inductance['current[A]CH-CV'], y=_dict_inductance['CV'],\n",
    "             mode='lines+markers',\n",
    "             name='CV'))\n",
    "fig.add_trace(go.Scatter(x=_dict_inductance['current[A]CH-CV'], y=_dict_inductance['CH'],\n",
    "                         mode='lines+markers',\n",
    "                         name='CH'))\n",
    "fig.add_trace(go.Scatter(x=_dict_inductance['current[A]QS'], y=_dict_inductance['QS'],\n",
    "                         mode='lines+markers',\n",
    "                         name='QS'))\n",
    "\n",
    "\n",
    "fig.layout = {\n",
    "    'title': '<b>Inductance as a function of current L (H) x I (A)</b>',\n",
    "    'yaxis': {'title': 'L(H)'},\n",
    "    'xaxis': {'title': 'I (A)',\n",
    "              'range': [0,1]}}\n",
    "    \n",
    "#py.iplot(fig)\n",
    "pyo.iplot(fig)                      "
   ]
  },
  {
   "cell_type": "code",
   "execution_count": 271,
   "metadata": {},
   "outputs": [
    {
     "data": {
      "text/html": [
       "\n",
       "<!DOCTYPE HTML>\n",
       "<html>\n",
       "  <head>\n",
       "    <style>\n",
       "      body {\n",
       "        margin: 0px;\n",
       "        padding: 0px;\n",
       "      }\n",
       "    </style>\n",
       "  </head>\n",
       "  <body>\n",
       "    <canvas id=\"myCanvas\" width=\"500\" height=\"500\"></canvas>\n",
       "    <script>\n",
       "      var canvas = document.getElementById('myCanvas');\n",
       "      var context = canvas.getContext('2d');\n",
       "      <!-- Dashboard -->\n",
       "      context.beginPath();\n",
       "      context.rect(0, 0, 500, 500);\n",
       "      context.lineWidth = 2;\n",
       "      context.strokeStyle = 'black';\n",
       "      context.stroke();\n",
       "      </script>\n",
       "  </body>\n",
       "</html>\n"
      ],
      "text/plain": [
       "<IPython.core.display.HTML object>"
      ]
     },
     "execution_count": 271,
     "metadata": {},
     "output_type": "execute_result"
    }
   ],
   "source": [
    "import plotly.dashboard_objs as dashboard\n",
    "import IPython.display\n",
    "from IPython.display import Image\n",
    "my_dboard = dashboard.Dashboard()\n",
    "my_dboard.get_preview()"
   ]
  },
  {
   "cell_type": "code",
   "execution_count": 272,
   "metadata": {},
   "outputs": [],
   "source": [
    "import plotly.graph_objs as go\n",
    "import plotly.plotly as py\n",
    "from plotly import tools\n",
    "import numpy as np\n",
    "\n",
    "import _data_for_dash as _dd\n",
    "\n",
    "#DataFrames list with all steps CV and CH values:\n",
    "_ch_list, _cv_list, _qs_list = _dd.export_list()"
   ]
  },
  {
   "cell_type": "code",
   "execution_count": 274,
   "metadata": {},
   "outputs": [],
   "source": [
    "#Creating CH, CV, QS plots\n",
    "def plot_graph(value=_ch_list, _name='CH Coil'):     \n",
    "    # Top left (1x1)\n",
    "    trace1 = go.Scatter(\n",
    "        x=value[0]['time(s)'],\n",
    "        y=value[0]['I(A)'],\n",
    "        name='Step 0-0.1A',\n",
    "    )\n",
    "    trace2 = go.Scatter(\n",
    "        x=value[0]['time(s)'],\n",
    "        y=value[0]['dI/dt'],\n",
    "        name='Step 0-0.1A',\n",
    "        yaxis='y2'\n",
    "    )\n",
    "\n",
    "    # Top right (1x2)\n",
    "    trace3 = go.Scatter(\n",
    "        x=value[1]['time(s)'],\n",
    "        y=value[1]['I(A)'],\n",
    "        name='Step 0-0.2A',\n",
    "        xaxis='x2',\n",
    "        yaxis='y3'\n",
    "    )\n",
    "    trace4 = go.Scatter(\n",
    "        x=value[1]['time(s)'],\n",
    "        y=value[1]['dI/dt'],\n",
    "        name='Step 0-0.2A',\n",
    "        xaxis='x2',\n",
    "        yaxis='y4'\n",
    "    )\n",
    "\n",
    "    # Bottom left (2x1)\n",
    "    trace5 = go.Scatter(\n",
    "        x=value[2]['time(s)'],\n",
    "        y=value[2]['I(A)'],\n",
    "        name='Step 0-0.3A',\n",
    "        xaxis='x3',\n",
    "        yaxis='y5'\n",
    "    )\n",
    "    trace6 = go.Scatter(\n",
    "        x=value[2]['time(s)'],\n",
    "        y=value[2]['dI/dt'],\n",
    "        name='Step 0-0.3A',\n",
    "        xaxis='x3',\n",
    "        yaxis='y6'\n",
    "    )\n",
    "\n",
    "    # Bottom right (2x2)\n",
    "    trace7 = go.Scatter(\n",
    "        x=value[3]['time(s)'],\n",
    "        y=value[3]['I(A)'],\n",
    "        name='Step 0-0.4A',\n",
    "        xaxis='x4',\n",
    "        yaxis='y7'\n",
    "    )\n",
    "    trace8 = go.Scatter(\n",
    "        x=value[3]['time(s)'],\n",
    "        y=value[3]['dI/dt'],\n",
    "        name='Step 0-0.4A',\n",
    "        xaxis='x4',\n",
    "        yaxis='y8'\n",
    "    )  \n",
    "\n",
    "    data = [trace1, trace2, trace3, trace4, trace5, trace6, trace7, trace8]\n",
    "    \n",
    "    layout = go.Layout(\n",
    "        title=_name+\" dI/dt and I versus time for all steps\",\n",
    "        legend={'x': 1.1},\n",
    "        width=1000,\n",
    "        height=500,\n",
    "        # Top left\n",
    "        xaxis=dict(\n",
    "            title='time (s)',\n",
    "            domain=[0, 0.4]\n",
    "        ),\n",
    "        yaxis=dict(\n",
    "            title='I (A)',\n",
    "            type='linear',\n",
    "            domain=[0.6, 1.0],\n",
    "            anchor='x'\n",
    "        ),\n",
    "        yaxis2=dict(\n",
    "            title='dI/dt (A/s)',\n",
    "            overlaying='y',\n",
    "            side='right'\n",
    "        ),\n",
    "\n",
    "        # Top right\n",
    "        xaxis2=dict(\n",
    "            title='time (s)',\n",
    "            domain=[0.6, 1.0],\n",
    "            anchor='y3'\n",
    "        ),\n",
    "        yaxis3=dict(\n",
    "            type='linear',\n",
    "            title='I (A)',\n",
    "            domain=[0.6, 1.0],\n",
    "            anchor='x2'\n",
    "        ),\n",
    "        yaxis4=dict(\n",
    "            title='dI/dt (A/s)',\n",
    "            domain=[0.6, 1.0],\n",
    "            overlaying='y3',\n",
    "            side='right',\n",
    "            anchor='x2'\n",
    "        ),\n",
    "\n",
    "        # Bottom left\n",
    "        xaxis3=dict(\n",
    "            title='time (s)',\n",
    "            domain=[0, 0.4],\n",
    "            anchor='y5'\n",
    "        ),\n",
    "        yaxis5=dict(\n",
    "            type='linear',\n",
    "            title='I (A)',\n",
    "            domain=[0, 0.4],\n",
    "            anchor='x3'\n",
    "        ),\n",
    "        yaxis6=dict(\n",
    "            title='dI/dt (A/s)',\n",
    "            domain=[0, 0.4],\n",
    "            overlaying='y5',\n",
    "            side='right',\n",
    "            anchor='x3'\n",
    "        ),\n",
    "\n",
    "        # Bottom right\n",
    "        xaxis4=dict(\n",
    "            title='time (s)',\n",
    "            domain=[0.6, 1.0],\n",
    "            anchor='y7'\n",
    "        ),\n",
    "        yaxis7=dict(\n",
    "            type='linear',\n",
    "            title='I (A)',\n",
    "            domain=[0, 0.4],\n",
    "            anchor='x4'\n",
    "        ),\n",
    "        yaxis8=dict(\n",
    "            title='dI/dt (A/s)',\n",
    "            domain=[0, 0.4],\n",
    "            overlaying='y7',\n",
    "            side='right',\n",
    "            anchor='x4'\n",
    "        )\n",
    "    )\n",
    "\n",
    "    fig = go.Figure(data=data, layout=layout)\n",
    "    return py.iplot(fig, filename='multiple-y-axes-subplots', auto_open=False)\n",
    "    #return py.plot(fig, filename=_name+' subplots', auto_open=False)"
   ]
  },
  {
   "cell_type": "code",
   "execution_count": 275,
   "metadata": {},
   "outputs": [],
   "source": [
    "url_ch = plot_graph(_ch_list, 'CH Coil')\n",
    "url_cv = plot_graph(_cv_list, 'CV Coil')\n",
    "url_qs = plot_graph(_qs_list, 'QS Coil')"
   ]
  },
  {
   "cell_type": "code",
   "execution_count": 276,
   "metadata": {},
   "outputs": [
    {
     "name": "stdout",
     "output_type": "stream",
     "text": [
      "https://plot.ly/~LucasIB/12\n",
      "https://plot.ly/~LucasIB/14\n",
      "https://plot.ly/~LucasIB/16\n"
     ]
    }
   ],
   "source": [
    "print(url_ch)\n",
    "print(url_cv)\n",
    "print(url_qs)"
   ]
  },
  {
   "cell_type": "code",
   "execution_count": 277,
   "metadata": {},
   "outputs": [],
   "source": [
    "import re\n",
    "\n",
    "def fileId_from_url(url):\n",
    "    \"\"\"Return fileId from a url.\"\"\"\n",
    "    raw_fileId = re.findall(\"~[A-z]+/[0-9]+\", url)[0][1: ]\n",
    "    return raw_fileId.replace('/', ':')\n",
    "\n",
    "fileId_ch = fileId_from_url(url_ch)\n",
    "fileId_cv = fileId_from_url(url_cv)\n",
    "fileId_qs = fileId_from_url(url_qs)"
   ]
  },
  {
   "cell_type": "code",
   "execution_count": 278,
   "metadata": {},
   "outputs": [
    {
     "name": "stdout",
     "output_type": "stream",
     "text": [
      "LucasIB:12\n",
      "LucasIB:14\n",
      "LucasIB:16\n"
     ]
    }
   ],
   "source": [
    "print(fileId_ch)\n",
    "print(fileId_cv)\n",
    "print(fileId_qs)"
   ]
  },
  {
   "cell_type": "code",
   "execution_count": 279,
   "metadata": {},
   "outputs": [
    {
     "data": {
      "text/plain": [
       "'LucasIB:6'"
      ]
     },
     "execution_count": 279,
     "metadata": {},
     "output_type": "execute_result"
    }
   ],
   "source": [
    "fileId_2 = fileId_from_url('https://plot.ly/~LucasIB/6/inductance-as-a-function-of-current-l-h-x-i-a/')\n",
    "fileId_2"
   ]
  },
  {
   "cell_type": "code",
   "execution_count": 280,
   "metadata": {},
   "outputs": [],
   "source": [
    "text_for_box = \"\"\"\n",
    "> ### Inductance FC test\n",
    "> @author: lucas.balthazar\n",
    "> - Magnet under test: Fast Corrector - FC-001 - CV & CH Coil;\n",
    ">\n",
    "> - Power Supply: CAENels FAST-PS 1020;\n",
    "> - Goal: Measure the possible inductance variation as a function of the applied current.\n",
    "> - Procedure: The input current in the coils is varied in continuous steps from 0.1 A amplitude to a maximum nominal setting according to magnetic field requirements.\n",
    "    With the oscilloscope, we measure the variation of current and voltage in the coils,\n",
    "    calculate the resistance through the relation between voltage and current over time,\n",
    "    it is possible to determine the time constant of the RL circuit and this way, calculate the inductance of the coil.\"\"\"\n",
    "\n",
    "box_text = {\n",
    "    'type': 'box',\n",
    "    'boxType': 'text',\n",
    "    'text': text_for_box,\n",
    "    'title': 'Model: FC-001 - Correction function: FC1'\n",
    "}\n",
    "\n",
    "box_induct = {\n",
    "    'type': 'box',\n",
    "    'boxType': 'plot',\n",
    "    'fileId': fileId_2,\n",
    "    'title': 'Inductance as a function of current L(H) x I(A)'\n",
    "}\n",
    "\n",
    "box_ch = {\n",
    "    'type': 'box',\n",
    "    'boxType': 'plot',\n",
    "    'fileId': fileId_ch,\n",
    "    'title': 'CH coil I(A) and dI/dt(A/s) steps'\n",
    "\n",
    "}\n",
    "\n",
    "box_cv = {\n",
    "    'type': 'box',\n",
    "    'boxType': 'plot',\n",
    "    'fileId': fileId_cv,\n",
    "    'title': 'CV coil I(A) and dI/dt(A/s) steps'\n",
    "\n",
    "}\n",
    "\n",
    "box_qs = {\n",
    "    'type': 'box',\n",
    "    'boxType': 'plot',\n",
    "    'fileId': fileId_qs,\n",
    "    'title': 'QS coil I(A) and dI/dt(A/s) steps'\n",
    "\n",
    "}\n",
    "\n",
    "my_dboard.insert(box_qs)"
   ]
  },
  {
   "cell_type": "code",
   "execution_count": 281,
   "metadata": {},
   "outputs": [],
   "source": [
    "my_dboard.insert(box_cv, 'above', 1)"
   ]
  },
  {
   "cell_type": "code",
   "execution_count": 282,
   "metadata": {},
   "outputs": [],
   "source": [
    "my_dboard.insert(box_ch, 'above', 1)"
   ]
  },
  {
   "cell_type": "code",
   "execution_count": 283,
   "metadata": {},
   "outputs": [],
   "source": [
    "my_dboard.insert(box_induct, 'above', 1)"
   ]
  },
  {
   "cell_type": "code",
   "execution_count": 284,
   "metadata": {},
   "outputs": [],
   "source": [
    "#my_dboard.insert(box_text, 'above', 1)"
   ]
  },
  {
   "cell_type": "code",
   "execution_count": 285,
   "metadata": {
    "scrolled": true
   },
   "outputs": [],
   "source": [
    "my_dboard.insert(box_text, 'left', 1, fill_percent=38)"
   ]
  },
  {
   "cell_type": "code",
   "execution_count": 286,
   "metadata": {
    "scrolled": false
   },
   "outputs": [
    {
     "data": {
      "text/plain": [
       "{'boxType': 'text',\n",
       " 'text': '\\n> ### Inductance FC test\\n> @author: lucas.balthazar\\n> - Magnet under test: Fast Corrector - FC-001 - CV & CH Coil;\\n>\\n> - Power Supply: CAENels FAST-PS 1020;\\n> - Goal: Measure the possible inductance variation as a function of the applied current.\\n> - Procedure: The input current in the coils is varied in continuous steps from 0.1 A amplitude to a maximum nominal setting according to magnetic field requirements.\\n    With the oscilloscope, we measure the variation of current and voltage in the coils,\\n    calculate the resistance through the relation between voltage and current over time,\\n    it is possible to determine the time constant of the RL circuit and this way, calculate the inductance of the coil.',\n",
       " 'title': 'Model: FC-001 - Correction function: FC1',\n",
       " 'type': 'box'}"
      ]
     },
     "execution_count": 286,
     "metadata": {},
     "output_type": "execute_result"
    }
   ],
   "source": [
    "my_dboard.get_box(1)"
   ]
  },
  {
   "cell_type": "code",
   "execution_count": 287,
   "metadata": {},
   "outputs": [],
   "source": [
    "my_dboard['settings']['title'] = 'Inductance Magnet Report for Fast Corrector - FC001'"
   ]
  },
  {
   "cell_type": "code",
   "execution_count": 288,
   "metadata": {},
   "outputs": [],
   "source": [
    "my_dboard['settings']['logoUrl'] = 'https://www.lnls.cnpem.br/wp-content/uploads/2019/01/LNLS-Assinatura.svg'"
   ]
  },
  {
   "cell_type": "code",
   "execution_count": 289,
   "metadata": {},
   "outputs": [],
   "source": [
    "my_dboard['settings']['links'] = []\n",
    "my_dboard['settings']['links'].append({'title': 'Link to my GitHub', 'url': 'https://github.com/LucasIB'})\n",
    "my_dboard['settings']['links'].append({'title': 'Link to my Plotly', 'url': 'https://plot.ly/~LucasIB/'})"
   ]
  },
  {
   "cell_type": "code",
   "execution_count": 290,
   "metadata": {},
   "outputs": [],
   "source": [
    "my_dboard['settings']['foregroundColor'] = '#000000'\n",
    "my_dboard['settings']['backgroundColor'] = '#86b3e3'\n",
    "my_dboard['settings']['headerForegroundColor'] = '#ffffff'\n",
    "my_dboard['settings']['headerBackgroundColor'] = '#4979b3'\n",
    "my_dboard['settings']['boxBackgroundColor'] = '#ffffff'\n",
    "my_dboard['settings']['boxBorderColor'] = '#000000'\n",
    "my_dboard['settings']['boxHeaderBackgroundColor'] = '#ffffff'"
   ]
  },
  {
   "cell_type": "code",
   "execution_count": 291,
   "metadata": {},
   "outputs": [],
   "source": [
    "my_dboard['settings']['fontFamily'] = 'Raleway'\n",
    "my_dboard['settings']['headerFontSize'] = '1.8em'\n",
    "my_dboard['settings']['headerFontWeight'] = '200'"
   ]
  },
  {
   "cell_type": "code",
   "execution_count": 292,
   "metadata": {},
   "outputs": [
    {
     "data": {
      "text/plain": [
       "'https://plot.ly/~LucasIB/19/inductance-magnet-report-for-fast-corrector-fc001/'"
      ]
     },
     "execution_count": 292,
     "metadata": {},
     "output_type": "execute_result"
    }
   ],
   "source": [
    "import plotly.plotly as py\n",
    "py.dashboard_ops.upload(my_dboard, 'Dashboard_inductance')"
   ]
  }
 ],
 "metadata": {
  "colab": {
   "name": "Visualizacao-Plotly-01.ipynb",
   "provenance": [],
   "version": "0.3.2"
  },
  "kernelspec": {
   "display_name": "Python 3",
   "language": "python",
   "name": "python3"
  },
  "language_info": {
   "codemirror_mode": {
    "name": "ipython",
    "version": 3
   },
   "file_extension": ".py",
   "mimetype": "text/x-python",
   "name": "python",
   "nbconvert_exporter": "python",
   "pygments_lexer": "ipython3",
   "version": "3.6.4"
  }
 },
 "nbformat": 4,
 "nbformat_minor": 1
}
