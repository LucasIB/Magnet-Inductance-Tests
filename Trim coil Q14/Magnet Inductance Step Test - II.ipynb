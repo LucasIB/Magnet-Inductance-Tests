{
 "cells": [
  {
   "cell_type": "markdown",
   "metadata": {},
   "source": [
    "<a href=\"https://www.lnls.cnpem.br/\"><img src=\"https://www.lnls.cnpem.br/wp-content/uploads/2019/01/LNLS-Assinatura.svg\" style=\"width:200px; text-align:left;\"></a><i><b> </i></b>"
   ]
  },
  {
   "cell_type": "markdown",
   "metadata": {},
   "source": [
    "## Magnet Inductance Step Test - II"
   ]
  },
  {
   "cell_type": "markdown",
   "metadata": {},
   "source": [
    "> Magnet under test: Q14-003 - trim coil\n",
    "\n",
    "> Power Supply: CAENels FAST-PS 1020"
   ]
  },
  {
   "cell_type": "code",
   "execution_count": 1,
   "metadata": {},
   "outputs": [],
   "source": [
    "#!/usr/bin/python\n",
    "# -*- coding: utf-8 -*-\n",
    "import numpy as np\n",
    "import pandas as pd\n",
    "import matplotlib.pyplot as plt\n",
    "import matplotlib.style as style\n",
    "from sympy import *\n",
    "import scipy\n",
    "init_printing(True)\n",
    "%matplotlib inline"
   ]
  },
  {
   "cell_type": "code",
   "execution_count": 2,
   "metadata": {},
   "outputs": [],
   "source": [
    "#Modifying the plot style\n",
    "style.use('default')"
   ]
  },
  {
   "cell_type": "code",
   "execution_count": 3,
   "metadata": {},
   "outputs": [],
   "source": [
    "# Defining Variables\n",
    "E, DeltaI, DeltaT, DeltaV, L = symbols('epsilon Delta_I Delta_t Delta_V L')\n",
    "Lt, V_t, R_0, I_t, t, V, tau = symbols('L(t) V(t) R_0 I(t) t V tau')\n",
    "I, Ee, R, e, I_tau = symbols('I E R e I_tau')"
   ]
  },
  {
   "cell_type": "markdown",
   "metadata": {},
   "source": [
    "### Definitions"
   ]
  },
  {
   "cell_type": "code",
   "execution_count": 4,
   "metadata": {},
   "outputs": [],
   "source": [
    "_induct = Eq(L,-E*(DeltaT/DeltaI))\n",
    "_induct_time = Eq(Lt,-1*(V_t - R_0*I_t)*(DeltaT/DeltaI))\n",
    "_R0 = Eq(R_0, DeltaV/DeltaI)\n",
    "\n",
    "#Deduction\n",
    "_circuit_RL = Eq(I,(Ee/R_0)-(Ee/R_0)*e**((-R_0/L)*t))"
   ]
  },
  {
   "cell_type": "code",
   "execution_count": 5,
   "metadata": {
    "scrolled": false
   },
   "outputs": [
    {
     "data": {
      "image/png": "[encoded data removed]",
      "text/latex": [
       "$$I = \\frac{E}{R_{0}} - \\frac{E e^{- \\frac{R_{0} t}{L}}}{R_{0}}$$"
      ],
      "text/plain": [
       "            -R₀⋅t \n",
       "            ──────\n",
       "              L   \n",
       "    E    E⋅e      \n",
       "I = ── - ─────────\n",
       "    R₀       R₀   "
      ]
     },
     "execution_count": 5,
     "metadata": {},
     "output_type": "execute_result"
    }
   ],
   "source": [
    "_circuit_RL"
   ]
  },
  {
   "cell_type": "code",
   "execution_count": 6,
   "metadata": {
    "scrolled": true
   },
   "outputs": [
    {
     "data": {
      "image/png": "[encoded data removed]",
      "text/latex": [
       "$$\\tau = \\frac{L}{R_{0}}$$"
      ],
      "text/plain": [
       "    L \n",
       "τ = ──\n",
       "    R₀"
      ]
     },
     "execution_count": 6,
     "metadata": {},
     "output_type": "execute_result"
    }
   ],
   "source": [
    "_time_const = Eq(tau, L/R_0)\n",
    "_time_const"
   ]
  },
  {
   "cell_type": "code",
   "execution_count": 7,
   "metadata": {},
   "outputs": [
    {
     "data": {
      "image/png": "[encoded data removed]",
      "text/latex": [
       "$$\\frac{L}{R_{0}} = t$$"
      ],
      "text/plain": [
       "L     \n",
       "── = t\n",
       "R₀    "
      ]
     },
     "execution_count": 7,
     "metadata": {},
     "output_type": "execute_result"
    }
   ],
   "source": [
    "_time_tau = Eq(_time_const.rhs,t)\n",
    "_time_tau"
   ]
  },
  {
   "cell_type": "code",
   "execution_count": 8,
   "metadata": {
    "scrolled": true
   },
   "outputs": [
    {
     "data": {
      "image/png": "[encoded data removed]",
      "text/latex": [
       "$$R_{0} = \\frac{\\Delta_{V}}{\\Delta_{I}}$$"
      ],
      "text/plain": [
       "     Δ_V\n",
       "R₀ = ───\n",
       "     Δ_I"
      ]
     },
     "execution_count": 8,
     "metadata": {},
     "output_type": "execute_result"
    }
   ],
   "source": [
    "_R0"
   ]
  },
  {
   "cell_type": "code",
   "execution_count": 9,
   "metadata": {
    "scrolled": true
   },
   "outputs": [
    {
     "data": {
      "image/png": "[encoded data removed]",
      "text/latex": [
       "$$L = - \\frac{\\Delta_{t} \\epsilon}{\\Delta_{I}}$$"
      ],
      "text/plain": [
       "    -Δₜ⋅ε \n",
       "L = ──────\n",
       "     Δ_I  "
      ]
     },
     "execution_count": 9,
     "metadata": {},
     "output_type": "execute_result"
    }
   ],
   "source": [
    "_induct"
   ]
  },
  {
   "cell_type": "markdown",
   "metadata": {},
   "source": [
    "### Using Time Constants for RL Circuits"
   ]
  },
  {
   "cell_type": "code",
   "execution_count": 10,
   "metadata": {},
   "outputs": [],
   "source": [
    "_I_tau = Eq(I_tau, (Ee/R_0)-(Ee/R_0)*e**((-R_0/L)*_time_tau.lhs))#.simplify()"
   ]
  },
  {
   "cell_type": "code",
   "execution_count": 11,
   "metadata": {},
   "outputs": [
    {
     "data": {
      "image/png": "[encoded data removed]",
      "text/latex": [
       "$$I_{\\tau} = \\frac{E \\left(e - 1\\right)}{R_{0} e}$$"
      ],
      "text/plain": [
       "       E⋅(e - 1)\n",
       "Iₜₐᵤ = ─────────\n",
       "          R₀⋅e  "
      ]
     },
     "execution_count": 11,
     "metadata": {},
     "output_type": "execute_result"
    }
   ],
   "source": [
    "_I_tau_sim = simplify(_I_tau)\n",
    "_I_tau_sim"
   ]
  },
  {
   "cell_type": "code",
   "execution_count": 12,
   "metadata": {},
   "outputs": [
    {
     "data": {
      "image/png": "[encoded data removed]",
      "text/latex": [
       "$$e = 2.71828182845905$$"
      ],
      "text/plain": [
       "e = 2.71828182845905"
      ]
     },
     "execution_count": 12,
     "metadata": {},
     "output_type": "execute_result"
    }
   ],
   "source": [
    "neper = Eq(e,np.exp(1))\n",
    "neper"
   ]
  },
  {
   "cell_type": "code",
   "execution_count": 13,
   "metadata": {},
   "outputs": [
    {
     "data": {
      "image/png": "[encoded data removed]",
      "text/latex": [
       "$$I_{\\tau} = 0.632120558828558 I$$"
      ],
      "text/plain": [
       "Iₜₐᵤ = 0.632120558828558⋅I"
      ]
     },
     "execution_count": 13,
     "metadata": {},
     "output_type": "execute_result"
    }
   ],
   "source": [
    "_I_tau =  Eq(I_tau, (_circuit_RL.lhs)-(_circuit_RL.lhs)*neper.rhs**((-R_0/L)*_time_tau.lhs)).simplify()\n",
    "_I_tau"
   ]
  },
  {
   "cell_type": "code",
   "execution_count": 14,
   "metadata": {},
   "outputs": [
    {
     "data": {
      "image/png": "[encoded data removed]",
      "text/plain": [
       "<IPython.core.display.Image object>"
      ]
     },
     "execution_count": 14,
     "metadata": {},
     "output_type": "execute_result"
    }
   ],
   "source": [
    "from IPython.display import Image\n",
    "Image(filename='Magnet_Inductance_Test_image.png')"
   ]
  },
  {
   "cell_type": "markdown",
   "metadata": {},
   "source": [
    "## Step ramp test 0 to 6 A"
   ]
  },
  {
   "cell_type": "code",
   "execution_count": 15,
   "metadata": {},
   "outputs": [],
   "source": [
    "#Import current steps data files\n",
    "_step_01 = pd.read_csv('step_01a.csv', sep=',', header=1)\n",
    "_step_02 = pd.read_csv('step_02a.csv', sep=',', header=1)\n",
    "_step_03 = pd.read_csv('step_03a.csv', sep=',', header=1)\n",
    "_step_04 = pd.read_csv('step_04a.csv', sep=',', header=1)\n",
    "_step_05 = pd.read_csv('step_05a.csv', sep=',', header=1)\n",
    "_step_06 = pd.read_csv('step_06a.csv', sep=',', header=1)"
   ]
  },
  {
   "cell_type": "code",
   "execution_count": 16,
   "metadata": {},
   "outputs": [],
   "source": [
    "#Creating dictionary with steps\n",
    "_dict = {'step01': _step_01,\n",
    "         'step02': _step_02,\n",
    "         'step03': _step_03,\n",
    "         'step04': _step_04,\n",
    "         'step05': _step_05,\n",
    "         'step06': _step_06}"
   ]
  },
  {
   "cell_type": "code",
   "execution_count": 17,
   "metadata": {},
   "outputs": [],
   "source": [
    "#Manipulating data for build list of arrays\n",
    "_volts_array = []\n",
    "_current_array = []\n",
    "_resistance_array = []\n",
    "for item in _dict:\n",
    "    _volts_array.append(_dict[str(item)].Volt)\n",
    "    _current_array.append(_dict[str(item)].Ampere)\n",
    "    _resistance_array.append(_dict[str(item)].Volt/_dict[str(item)].Ampere)\n",
    "\n",
    "#Convert list to numpy array\n",
    "_volts_array = np.asarray(_volts_array)\n",
    "_current_array = np.asarray(_current_array)\n",
    "_resistance_array = np.asarray(_resistance_array)\n",
    "\n",
    "#Transposed arrays\n",
    "_volts_array = _volts_array.T\n",
    "_current_array = _current_array.T\n",
    "_resistance_array = _resistance_array.T"
   ]
  },
  {
   "cell_type": "code",
   "execution_count": 18,
   "metadata": {},
   "outputs": [],
   "source": [
    "#Creating DF for volts\n",
    "_DF_for_volts = pd.DataFrame(_volts_array,\n",
    "                             index=_step_01.second,\n",
    "                             columns=['Step01_volts(v)', 'Step02_volts(v)', 'Step03_volts(v)',\n",
    "                                      'Step04_volts(v)', 'Step05_volts(v)', 'Step06_volts(v)'])\n",
    "#Creating DF for ampere\n",
    "_DF_for_amp = pd.DataFrame(_current_array,\n",
    "                           index=_step_01.second,\n",
    "                           columns=['Step01_amp(A)', 'Step02_amp(A)', 'Step03_amp(A)',\n",
    "                                    'Step04_amp(A)', 'Step05_amp(A)', 'Step06_amp(A)'])\n",
    "#Creating DF for resistance\n",
    "_DF_for_resis = pd.DataFrame(_resistance_array,\n",
    "                             index=_step_01.second,\n",
    "                             columns=['Step01_R(ohm)','Step02_R(ohm)', 'Step03_R(ohm)',\n",
    "                                      'Step04_R(ohm)', 'Step05_R(ohm)', 'Step06_R(ohm)'])"
   ]
  },
  {
   "cell_type": "code",
   "execution_count": 19,
   "metadata": {},
   "outputs": [
    {
     "data": {
      "text/html": [
       "<div>\n",
       "<style scoped>\n",
       "    .dataframe tbody tr th:only-of-type {\n",
       "        vertical-align: middle;\n",
       "    }\n",
       "\n",
       "    .dataframe tbody tr th {\n",
       "        vertical-align: top;\n",
       "    }\n",
       "\n",
       "    .dataframe thead th {\n",
       "        text-align: right;\n",
       "    }\n",
       "</style>\n",
       "<table border=\"1\" class=\"dataframe\">\n",
       "  <thead>\n",
       "    <tr style=\"text-align: right;\">\n",
       "      <th></th>\n",
       "      <th>Step01_volts(v)</th>\n",
       "      <th>Step02_volts(v)</th>\n",
       "      <th>Step03_volts(v)</th>\n",
       "      <th>Step04_volts(v)</th>\n",
       "      <th>Step05_volts(v)</th>\n",
       "      <th>Step06_volts(v)</th>\n",
       "    </tr>\n",
       "    <tr>\n",
       "      <th>second</th>\n",
       "      <th></th>\n",
       "      <th></th>\n",
       "      <th></th>\n",
       "      <th></th>\n",
       "      <th></th>\n",
       "      <th></th>\n",
       "    </tr>\n",
       "  </thead>\n",
       "  <tbody>\n",
       "    <tr>\n",
       "      <th>-2.5000</th>\n",
       "      <td>-0.007027</td>\n",
       "      <td>-0.006776</td>\n",
       "      <td>-0.007228</td>\n",
       "      <td>-0.007480</td>\n",
       "      <td>-0.075086</td>\n",
       "      <td>-0.076343</td>\n",
       "    </tr>\n",
       "    <tr>\n",
       "      <th>-2.4975</th>\n",
       "      <td>-0.007027</td>\n",
       "      <td>-0.007027</td>\n",
       "      <td>-0.007228</td>\n",
       "      <td>-0.007228</td>\n",
       "      <td>-0.075086</td>\n",
       "      <td>-0.075086</td>\n",
       "    </tr>\n",
       "    <tr>\n",
       "      <th>-2.4950</th>\n",
       "      <td>-0.007279</td>\n",
       "      <td>-0.006776</td>\n",
       "      <td>-0.007228</td>\n",
       "      <td>-0.006977</td>\n",
       "      <td>-0.075086</td>\n",
       "      <td>-0.076343</td>\n",
       "    </tr>\n",
       "    <tr>\n",
       "      <th>-2.4925</th>\n",
       "      <td>-0.007279</td>\n",
       "      <td>-0.007279</td>\n",
       "      <td>-0.006977</td>\n",
       "      <td>-0.007228</td>\n",
       "      <td>-0.075086</td>\n",
       "      <td>-0.077599</td>\n",
       "    </tr>\n",
       "    <tr>\n",
       "      <th>-2.4900</th>\n",
       "      <td>-0.006792</td>\n",
       "      <td>-0.006792</td>\n",
       "      <td>-0.007480</td>\n",
       "      <td>-0.006993</td>\n",
       "      <td>-0.076343</td>\n",
       "      <td>-0.076421</td>\n",
       "    </tr>\n",
       "  </tbody>\n",
       "</table>\n",
       "</div>"
      ],
      "text/plain": [
       "         Step01_volts(v)  Step02_volts(v)  Step03_volts(v)  Step04_volts(v)  \\\n",
       "second                                                                        \n",
       "-2.5000        -0.007027        -0.006776        -0.007228        -0.007480   \n",
       "-2.4975        -0.007027        -0.007027        -0.007228        -0.007228   \n",
       "-2.4950        -0.007279        -0.006776        -0.007228        -0.006977   \n",
       "-2.4925        -0.007279        -0.007279        -0.006977        -0.007228   \n",
       "-2.4900        -0.006792        -0.006792        -0.007480        -0.006993   \n",
       "\n",
       "         Step05_volts(v)  Step06_volts(v)  \n",
       "second                                     \n",
       "-2.5000        -0.075086        -0.076343  \n",
       "-2.4975        -0.075086        -0.075086  \n",
       "-2.4950        -0.075086        -0.076343  \n",
       "-2.4925        -0.075086        -0.077599  \n",
       "-2.4900        -0.076343        -0.076421  "
      ]
     },
     "execution_count": 19,
     "metadata": {},
     "output_type": "execute_result"
    }
   ],
   "source": [
    "_DF_for_volts.head()"
   ]
  },
  {
   "cell_type": "code",
   "execution_count": 20,
   "metadata": {
    "scrolled": true
   },
   "outputs": [
    {
     "data": {
      "text/html": [
       "<div>\n",
       "<style scoped>\n",
       "    .dataframe tbody tr th:only-of-type {\n",
       "        vertical-align: middle;\n",
       "    }\n",
       "\n",
       "    .dataframe tbody tr th {\n",
       "        vertical-align: top;\n",
       "    }\n",
       "\n",
       "    .dataframe thead th {\n",
       "        text-align: right;\n",
       "    }\n",
       "</style>\n",
       "<table border=\"1\" class=\"dataframe\">\n",
       "  <thead>\n",
       "    <tr style=\"text-align: right;\">\n",
       "      <th></th>\n",
       "      <th>Step01_amp(A)</th>\n",
       "      <th>Step02_amp(A)</th>\n",
       "      <th>Step03_amp(A)</th>\n",
       "      <th>Step04_amp(A)</th>\n",
       "      <th>Step05_amp(A)</th>\n",
       "      <th>Step06_amp(A)</th>\n",
       "    </tr>\n",
       "    <tr>\n",
       "      <th>second</th>\n",
       "      <th></th>\n",
       "      <th></th>\n",
       "      <th></th>\n",
       "      <th></th>\n",
       "      <th></th>\n",
       "      <th></th>\n",
       "    </tr>\n",
       "  </thead>\n",
       "  <tbody>\n",
       "    <tr>\n",
       "      <th>-2.5000</th>\n",
       "      <td>-0.004986</td>\n",
       "      <td>-0.004986</td>\n",
       "      <td>-0.014808</td>\n",
       "      <td>-0.012296</td>\n",
       "      <td>-0.014808</td>\n",
       "      <td>-0.014808</td>\n",
       "    </tr>\n",
       "    <tr>\n",
       "      <th>-2.4975</th>\n",
       "      <td>-0.006242</td>\n",
       "      <td>-0.006242</td>\n",
       "      <td>-0.014808</td>\n",
       "      <td>-0.012296</td>\n",
       "      <td>-0.014808</td>\n",
       "      <td>-0.014808</td>\n",
       "    </tr>\n",
       "    <tr>\n",
       "      <th>-2.4950</th>\n",
       "      <td>-0.006242</td>\n",
       "      <td>-0.006242</td>\n",
       "      <td>-0.014808</td>\n",
       "      <td>-0.014808</td>\n",
       "      <td>-0.014808</td>\n",
       "      <td>-0.014808</td>\n",
       "    </tr>\n",
       "    <tr>\n",
       "      <th>-2.4925</th>\n",
       "      <td>-0.006242</td>\n",
       "      <td>-0.006242</td>\n",
       "      <td>-0.014808</td>\n",
       "      <td>-0.014808</td>\n",
       "      <td>-0.014808</td>\n",
       "      <td>-0.014808</td>\n",
       "    </tr>\n",
       "    <tr>\n",
       "      <th>-2.4900</th>\n",
       "      <td>-0.006242</td>\n",
       "      <td>-0.004986</td>\n",
       "      <td>-0.014808</td>\n",
       "      <td>-0.014808</td>\n",
       "      <td>-0.014808</td>\n",
       "      <td>-0.014808</td>\n",
       "    </tr>\n",
       "  </tbody>\n",
       "</table>\n",
       "</div>"
      ],
      "text/plain": [
       "         Step01_amp(A)  Step02_amp(A)  Step03_amp(A)  Step04_amp(A)  \\\n",
       "second                                                                \n",
       "-2.5000      -0.004986      -0.004986      -0.014808      -0.012296   \n",
       "-2.4975      -0.006242      -0.006242      -0.014808      -0.012296   \n",
       "-2.4950      -0.006242      -0.006242      -0.014808      -0.014808   \n",
       "-2.4925      -0.006242      -0.006242      -0.014808      -0.014808   \n",
       "-2.4900      -0.006242      -0.004986      -0.014808      -0.014808   \n",
       "\n",
       "         Step05_amp(A)  Step06_amp(A)  \n",
       "second                                 \n",
       "-2.5000      -0.014808      -0.014808  \n",
       "-2.4975      -0.014808      -0.014808  \n",
       "-2.4950      -0.014808      -0.014808  \n",
       "-2.4925      -0.014808      -0.014808  \n",
       "-2.4900      -0.014808      -0.014808  "
      ]
     },
     "execution_count": 20,
     "metadata": {},
     "output_type": "execute_result"
    }
   ],
   "source": [
    "_DF_for_amp.head()"
   ]
  },
  {
   "cell_type": "code",
   "execution_count": 21,
   "metadata": {},
   "outputs": [
    {
     "data": {
      "text/html": [
       "<div>\n",
       "<style scoped>\n",
       "    .dataframe tbody tr th:only-of-type {\n",
       "        vertical-align: middle;\n",
       "    }\n",
       "\n",
       "    .dataframe tbody tr th {\n",
       "        vertical-align: top;\n",
       "    }\n",
       "\n",
       "    .dataframe thead th {\n",
       "        text-align: right;\n",
       "    }\n",
       "</style>\n",
       "<table border=\"1\" class=\"dataframe\">\n",
       "  <thead>\n",
       "    <tr style=\"text-align: right;\">\n",
       "      <th></th>\n",
       "      <th>Step01_R(ohm)</th>\n",
       "      <th>Step02_R(ohm)</th>\n",
       "      <th>Step03_R(ohm)</th>\n",
       "      <th>Step04_R(ohm)</th>\n",
       "      <th>Step05_R(ohm)</th>\n",
       "      <th>Step06_R(ohm)</th>\n",
       "    </tr>\n",
       "    <tr>\n",
       "      <th>second</th>\n",
       "      <th></th>\n",
       "      <th></th>\n",
       "      <th></th>\n",
       "      <th></th>\n",
       "      <th></th>\n",
       "      <th></th>\n",
       "    </tr>\n",
       "  </thead>\n",
       "  <tbody>\n",
       "    <tr>\n",
       "      <th>-2.5000</th>\n",
       "      <td>1.409346</td>\n",
       "      <td>1.359005</td>\n",
       "      <td>0.488115</td>\n",
       "      <td>0.608328</td>\n",
       "      <td>5.070637</td>\n",
       "      <td>5.155524</td>\n",
       "    </tr>\n",
       "    <tr>\n",
       "      <th>-2.4975</th>\n",
       "      <td>1.125761</td>\n",
       "      <td>1.125761</td>\n",
       "      <td>0.488115</td>\n",
       "      <td>0.587833</td>\n",
       "      <td>5.070637</td>\n",
       "      <td>5.070637</td>\n",
       "    </tr>\n",
       "    <tr>\n",
       "      <th>-2.4950</th>\n",
       "      <td>1.166133</td>\n",
       "      <td>1.085550</td>\n",
       "      <td>0.488115</td>\n",
       "      <td>0.471164</td>\n",
       "      <td>5.070637</td>\n",
       "      <td>5.155524</td>\n",
       "    </tr>\n",
       "    <tr>\n",
       "      <th>-2.4925</th>\n",
       "      <td>1.166133</td>\n",
       "      <td>1.166133</td>\n",
       "      <td>0.471164</td>\n",
       "      <td>0.488115</td>\n",
       "      <td>5.070637</td>\n",
       "      <td>5.240343</td>\n",
       "    </tr>\n",
       "    <tr>\n",
       "      <th>-2.4900</th>\n",
       "      <td>1.088113</td>\n",
       "      <td>1.362214</td>\n",
       "      <td>0.505132</td>\n",
       "      <td>0.472245</td>\n",
       "      <td>5.155524</td>\n",
       "      <td>5.160791</td>\n",
       "    </tr>\n",
       "  </tbody>\n",
       "</table>\n",
       "</div>"
      ],
      "text/plain": [
       "         Step01_R(ohm)  Step02_R(ohm)  Step03_R(ohm)  Step04_R(ohm)  \\\n",
       "second                                                                \n",
       "-2.5000       1.409346       1.359005       0.488115       0.608328   \n",
       "-2.4975       1.125761       1.125761       0.488115       0.587833   \n",
       "-2.4950       1.166133       1.085550       0.488115       0.471164   \n",
       "-2.4925       1.166133       1.166133       0.471164       0.488115   \n",
       "-2.4900       1.088113       1.362214       0.505132       0.472245   \n",
       "\n",
       "         Step05_R(ohm)  Step06_R(ohm)  \n",
       "second                                 \n",
       "-2.5000       5.070637       5.155524  \n",
       "-2.4975       5.070637       5.070637  \n",
       "-2.4950       5.070637       5.155524  \n",
       "-2.4925       5.070637       5.240343  \n",
       "-2.4900       5.155524       5.160791  "
      ]
     },
     "execution_count": 21,
     "metadata": {},
     "output_type": "execute_result"
    }
   ],
   "source": [
    "_DF_for_resis.head()"
   ]
  },
  {
   "cell_type": "code",
   "execution_count": 22,
   "metadata": {},
   "outputs": [
    {
     "data": {
      "text/plain": [
       "<matplotlib.axes._subplots.AxesSubplot at 0x1473c1d0>"
      ]
     },
     "execution_count": 22,
     "metadata": {},
     "output_type": "execute_result"
    },
    {
     "data": {
      "image/png": "[encoded data removed]",
      "text/plain": [
       "<matplotlib.figure.Figure at 0x1473c1f0>"
      ]
     },
     "metadata": {},
     "output_type": "display_data"
    }
   ],
   "source": [
    "_DF_for_amp.plot()"
   ]
  },
  {
   "cell_type": "code",
   "execution_count": 23,
   "metadata": {},
   "outputs": [
    {
     "data": {
      "text/html": [
       "<div>\n",
       "<style scoped>\n",
       "    .dataframe tbody tr th:only-of-type {\n",
       "        vertical-align: middle;\n",
       "    }\n",
       "\n",
       "    .dataframe tbody tr th {\n",
       "        vertical-align: top;\n",
       "    }\n",
       "\n",
       "    .dataframe thead th {\n",
       "        text-align: right;\n",
       "    }\n",
       "</style>\n",
       "<table border=\"1\" class=\"dataframe\">\n",
       "  <thead>\n",
       "    <tr style=\"text-align: right;\">\n",
       "      <th></th>\n",
       "      <th>Step01_amp(A)</th>\n",
       "      <th>Step02_amp(A)</th>\n",
       "      <th>Step03_amp(A)</th>\n",
       "      <th>Step04_amp(A)</th>\n",
       "      <th>Step05_amp(A)</th>\n",
       "      <th>Step06_amp(A)</th>\n",
       "    </tr>\n",
       "    <tr>\n",
       "      <th>second</th>\n",
       "      <th></th>\n",
       "      <th></th>\n",
       "      <th></th>\n",
       "      <th></th>\n",
       "      <th></th>\n",
       "      <th></th>\n",
       "    </tr>\n",
       "  </thead>\n",
       "  <tbody>\n",
       "    <tr>\n",
       "      <th>-0.1</th>\n",
       "      <td>-0.006242</td>\n",
       "      <td>-0.004986</td>\n",
       "      <td>-0.014808</td>\n",
       "      <td>-0.012296</td>\n",
       "      <td>-0.014808</td>\n",
       "      <td>-0.014808</td>\n",
       "    </tr>\n",
       "  </tbody>\n",
       "</table>\n",
       "</div>"
      ],
      "text/plain": [
       "        Step01_amp(A)  Step02_amp(A)  Step03_amp(A)  Step04_amp(A)  \\\n",
       "second                                                               \n",
       "-0.1        -0.006242      -0.004986      -0.014808      -0.012296   \n",
       "\n",
       "        Step05_amp(A)  Step06_amp(A)  \n",
       "second                                \n",
       "-0.1        -0.014808      -0.014808  "
      ]
     },
     "execution_count": 23,
     "metadata": {},
     "output_type": "execute_result"
    }
   ],
   "source": [
    "#Time == 0\n",
    "_DF_for_amp.loc[_DF_for_amp.index == -0.1]"
   ]
  },
  {
   "cell_type": "code",
   "execution_count": 24,
   "metadata": {},
   "outputs": [
    {
     "data": {
      "text/html": [
       "<div>\n",
       "<style scoped>\n",
       "    .dataframe tbody tr th:only-of-type {\n",
       "        vertical-align: middle;\n",
       "    }\n",
       "\n",
       "    .dataframe tbody tr th {\n",
       "        vertical-align: top;\n",
       "    }\n",
       "\n",
       "    .dataframe thead th {\n",
       "        text-align: right;\n",
       "    }\n",
       "</style>\n",
       "<table border=\"1\" class=\"dataframe\">\n",
       "  <thead>\n",
       "    <tr style=\"text-align: right;\">\n",
       "      <th></th>\n",
       "      <th>Step01_amp(A)</th>\n",
       "      <th>Step02_amp(A)</th>\n",
       "      <th>Step03_amp(A)</th>\n",
       "      <th>Step04_amp(A)</th>\n",
       "      <th>Step05_amp(A)</th>\n",
       "      <th>Step06_amp(A)</th>\n",
       "    </tr>\n",
       "    <tr>\n",
       "      <th>second</th>\n",
       "      <th></th>\n",
       "      <th></th>\n",
       "      <th></th>\n",
       "      <th></th>\n",
       "      <th></th>\n",
       "      <th></th>\n",
       "    </tr>\n",
       "  </thead>\n",
       "  <tbody>\n",
       "    <tr>\n",
       "      <th>0.5</th>\n",
       "      <td>1.002552</td>\n",
       "      <td>1.997527</td>\n",
       "      <td>2.977654</td>\n",
       "      <td>3.98001</td>\n",
       "      <td>4.972629</td>\n",
       "      <td>6.02021</td>\n",
       "    </tr>\n",
       "  </tbody>\n",
       "</table>\n",
       "</div>"
      ],
      "text/plain": [
       "        Step01_amp(A)  Step02_amp(A)  Step03_amp(A)  Step04_amp(A)  \\\n",
       "second                                                               \n",
       "0.5          1.002552       1.997527       2.977654        3.98001   \n",
       "\n",
       "        Step05_amp(A)  Step06_amp(A)  \n",
       "second                                \n",
       "0.5          4.972629        6.02021  "
      ]
     },
     "execution_count": 24,
     "metadata": {},
     "output_type": "execute_result"
    }
   ],
   "source": [
    "_DF_for_amp.loc[_DF_for_amp.index == 0.5]"
   ]
  },
  {
   "cell_type": "code",
   "execution_count": 25,
   "metadata": {},
   "outputs": [
    {
     "data": {
      "text/plain": [
       "<matplotlib.axes._subplots.AxesSubplot at 0x159935d0>"
      ]
     },
     "execution_count": 25,
     "metadata": {},
     "output_type": "execute_result"
    },
    {
     "data": {
      "image/png": "[encoded data removed]",
      "text/plain": [
       "<matplotlib.figure.Figure at 0x1581f990>"
      ]
     },
     "metadata": {},
     "output_type": "display_data"
    }
   ],
   "source": [
    "#Slice DF to search rise time range\n",
    "#a = _DF_for_amp[-0.08:0.4175]\n",
    "a = _DF_for_amp[-0.08:0.4]\n",
    "v = _DF_for_volts[-0.08:0.4]\n",
    "r = _DF_for_resis[-0.08:0.4]\n",
    "#Plotting\n",
    "cx = a.plot(y='Step01_amp(A)')\n",
    "v.plot(ax=cx, y='Step01_volts(v)')\n",
    "#r.plot(ax=cx, y='Step01_R(ohm)')"
   ]
  },
  {
   "cell_type": "code",
   "execution_count": 26,
   "metadata": {},
   "outputs": [],
   "source": [
    "#Fitting curve for Current\n",
    "_x_axis = a.index\n",
    "poly = np.polyfit(_x_axis,a['Step01_amp(A)'],10)\n",
    "ploy1d = np.poly1d(poly)\n",
    "#print(ploy1d)"
   ]
  },
  {
   "cell_type": "code",
   "execution_count": 27,
   "metadata": {},
   "outputs": [],
   "source": [
    "#Poly fit vector\n",
    "poly_fit_graph = []\n",
    "for i in a.index:\n",
    "    num = ploy1d(i)\n",
    "    poly_fit_graph.append(float(num))"
   ]
  },
  {
   "cell_type": "code",
   "execution_count": 57,
   "metadata": {},
   "outputs": [
    {
     "data": {
      "text/plain": [
       "Text(0.5,1,'Fit Polynomial Curve on Step 0-1A')"
      ]
     },
     "execution_count": 57,
     "metadata": {},
     "output_type": "execute_result"
    },
    {
     "data": {
      "image/png": "[encoded data removed]",
      "text/plain": [
       "<matplotlib.figure.Figure at 0x32063b0>"
      ]
     },
     "metadata": {},
     "output_type": "display_data"
    }
   ],
   "source": [
    "#Plotting polynimial curve on step 0-1A\n",
    "\n",
    "color = 'tab:blue'\n",
    "plt.plot(_x_axis,poly_fit_graph, color=color)\n",
    "plt.xlabel('second (s)')\n",
    "plt.ylabel('I (A)')\n",
    "plt.title('Fit Polynomial Curve on Step 0-1A')"
   ]
  },
  {
   "cell_type": "code",
   "execution_count": 58,
   "metadata": {},
   "outputs": [],
   "source": [
    "#Derivative curve\n",
    "_deriv = ploy1d.deriv()  #dI/dt"
   ]
  },
  {
   "cell_type": "code",
   "execution_count": 59,
   "metadata": {},
   "outputs": [],
   "source": [
    "#Derived curve points vector\n",
    "calc = np.array([])\n",
    "for i in a.index:\n",
    "    calc = np.append(calc, _deriv(i))"
   ]
  },
  {
   "cell_type": "code",
   "execution_count": 60,
   "metadata": {},
   "outputs": [
    {
     "data": {
      "text/plain": [
       "<matplotlib.legend.Legend at 0x194743b0>"
      ]
     },
     "execution_count": 60,
     "metadata": {},
     "output_type": "execute_result"
    },
    {
     "data": {
      "image/png": "[encoded data removed]",
      "text/plain": [
       "<matplotlib.figure.Figure at 0x19414410>"
      ]
     },
     "metadata": {},
     "output_type": "display_data"
    }
   ],
   "source": [
    "#Plotting dI/dt curve on step 0-1A\n",
    "\n",
    "color = 'tab:red'\n",
    "plt.plot(_x_axis, calc, color=color, label='dI/dt (A/s)')\n",
    "plt.xlabel('second (s)')\n",
    "plt.ylabel('dI/dt (A/s)')\n",
    "plt.title('Derivative curve dI/dt on step 0-1A')\n",
    "plt.legend(loc='best')"
   ]
  },
  {
   "cell_type": "code",
   "execution_count": 61,
   "metadata": {},
   "outputs": [],
   "source": [
    "# #plt.plot(_x_axis, a['Step01_amp(A)'].values, 'b-', label='I(A)')\n",
    "# plt.plot(_x_axis, poly_fit_graph, 'b-', label='I (A)')\n",
    "# plt.plot(_x_axis, calc, 'r--', label='dI/dt (A/s)')\n",
    "# plt.xlabel('second (s)')\n",
    "# plt.ylabel('I (A)')\n",
    "# plt.title('dI/dt(A/s) versus I(A) at Step 0-1A')\n",
    "# plt.legend(loc='best')"
   ]
  },
  {
   "cell_type": "code",
   "execution_count": 62,
   "metadata": {},
   "outputs": [
    {
     "data": {
      "image/png": "[encoded data removed]",
      "text/plain": [
       "<matplotlib.figure.Figure at 0x1944e450>"
      ]
     },
     "metadata": {},
     "output_type": "display_data"
    }
   ],
   "source": [
    "fig, ax1 = plt.subplots()\n",
    "color = 'tab:red'\n",
    "ax1.set_xlabel('time (s)')\n",
    "ax1.set_ylabel('dI/dt (A/s)', color=color)\n",
    "ax1.plot(_x_axis, calc, color=color)\n",
    "ax1.tick_params(axis='y', labelcolor=color)\n",
    "\n",
    "ax2 = ax1.twinx()  # instantiate a second axes that shares the same x-axis\n",
    "\n",
    "color = 'tab:blue'\n",
    "ax2.set_ylabel('I(A)', color=color)  # we already handled the x-label with ax1\n",
    "ax2.plot(_x_axis, poly_fit_graph, color=color)\n",
    "ax2.tick_params(axis='y', labelcolor=color)\n",
    "\n",
    "plt.title('dI/dt(A/s) versus I(A) on step 0-1A')\n",
    "fig.tight_layout()  # otherwise the right y-label is slightly clipped\n",
    "plt.show()"
   ]
  },
  {
   "cell_type": "markdown",
   "metadata": {},
   "source": [
    "-------------------------------------------"
   ]
  },
  {
   "cell_type": "code",
   "execution_count": 63,
   "metadata": {},
   "outputs": [],
   "source": [
    "#Calculating mean Resistance\n",
    "# R_ohm = np.array([])\n",
    "# for i in range (len(_DF_for_amp)):\n",
    "#     R_ohm = np.append(R_ohm, _DF_for_volts['Step01_volts(v)'].iloc[i]/_DF_for_amp['Step01_amp(A)'].iloc[i])\n",
    "# R_ohm.mean()"
   ]
  },
  {
   "cell_type": "markdown",
   "metadata": {},
   "source": [
    "## Calculating inductance versus current for all steps [0 - 6A]"
   ]
  },
  {
   "cell_type": "code",
   "execution_count": 64,
   "metadata": {},
   "outputs": [],
   "source": [
    "def poly_fit_func(df, n): #_DF_for_amp ou a\n",
    "    '''Find the polynomial fit for each current step'''\n",
    "    _poly_array = []\n",
    "    _deriv_array = []\n",
    "    _x_axis = df.index\n",
    "    for item in df.columns:\n",
    "        #Fitting polynomial\n",
    "        poly = np.polyfit(_x_axis,df[item],n)\n",
    "        ploy1d = np.poly1d(poly)\n",
    "        _poly_array.append(ploy1d)\n",
    "        \n",
    "        #Derivative curve\n",
    "        _deriv = ploy1d.deriv()  #dI/dt\n",
    "        _deriv_array.append(_deriv)\n",
    "    return _deriv_array\n",
    "    \n",
    "def final_devs(df, der_arr):\n",
    "    '''List with the derivatives of the polynomial fit curves'''\n",
    "    _x_axis = df.index\n",
    "    f = []\n",
    "    for i in der_arr:\n",
    "        final = np.array([])\n",
    "        for j in _x_axis:\n",
    "            final = np.append(final, i(j))\n",
    "        f.append(final)\n",
    "    return f"
   ]
  },
  {
   "cell_type": "code",
   "execution_count": 65,
   "metadata": {},
   "outputs": [],
   "source": [
    "d_arrays = poly_fit_func(a,10)"
   ]
  },
  {
   "cell_type": "code",
   "execution_count": 66,
   "metadata": {},
   "outputs": [],
   "source": [
    "_derive_datas = final_devs(a,d_arrays)"
   ]
  },
  {
   "cell_type": "code",
   "execution_count": 67,
   "metadata": {},
   "outputs": [],
   "source": [
    "'''Another method more simple to get derivative data'''\n",
    "def derivative_form(df):\n",
    "    '''Numerical method for obtaining the derivative from raw data'''\n",
    "    _x_axis = df.index\n",
    "    _f_array = []\n",
    "    _derivative_final_list = []\n",
    "    for item in df.columns:\n",
    "        _f_ = np.diff(df[item])/np.diff(_x_axis)\n",
    "        _f_array.append(_f_)\n",
    "    \n",
    "    #Replace n-1 term with zero    \n",
    "    for item in _f_array:\n",
    "        item = np.append(item, 0)\n",
    "        _derivative_final_list.append(item)\n",
    "    return _derivative_final_list"
   ]
  },
  {
   "cell_type": "code",
   "execution_count": 68,
   "metadata": {},
   "outputs": [],
   "source": [
    "def df_creator(df,df_r): #(_DF_for_amp, _DF_for_resis) ou (a, r)\n",
    "    _list_dfs = []\n",
    "    #_deriv_list = derivative_form(df)\n",
    "    for i in range(len(df.columns)):\n",
    "        _dicionario = {'time(s)':df.index,\n",
    "                       'I(A)':df[df.columns[i]].values,\n",
    "                       #'dI/dt': _deriv_list[i],\n",
    "                       'dI/dt': _derive_datas[i],\n",
    "                       'R(ohm)':df_r[df_r.columns[i]].values}\n",
    "        _list_dfs.append(pd.DataFrame.from_dict(_dicionario))\n",
    "    return _list_dfs"
   ]
  },
  {
   "cell_type": "code",
   "execution_count": 69,
   "metadata": {
    "scrolled": true
   },
   "outputs": [],
   "source": [
    "lista_de_dfs = df_creator(a, r)"
   ]
  },
  {
   "cell_type": "code",
   "execution_count": 70,
   "metadata": {},
   "outputs": [
    {
     "data": {
      "text/html": [
       "<div>\n",
       "<style scoped>\n",
       "    .dataframe tbody tr th:only-of-type {\n",
       "        vertical-align: middle;\n",
       "    }\n",
       "\n",
       "    .dataframe tbody tr th {\n",
       "        vertical-align: top;\n",
       "    }\n",
       "\n",
       "    .dataframe thead th {\n",
       "        text-align: right;\n",
       "    }\n",
       "</style>\n",
       "<table border=\"1\" class=\"dataframe\">\n",
       "  <thead>\n",
       "    <tr style=\"text-align: right;\">\n",
       "      <th></th>\n",
       "      <th>I(A)</th>\n",
       "      <th>R(ohm)</th>\n",
       "      <th>dI/dt</th>\n",
       "      <th>time(s)</th>\n",
       "    </tr>\n",
       "  </thead>\n",
       "  <tbody>\n",
       "    <tr>\n",
       "      <th>0</th>\n",
       "      <td>-0.005064</td>\n",
       "      <td>1.387638</td>\n",
       "      <td>-0.298475</td>\n",
       "      <td>-0.0800</td>\n",
       "    </tr>\n",
       "    <tr>\n",
       "      <th>1</th>\n",
       "      <td>-0.006242</td>\n",
       "      <td>1.246556</td>\n",
       "      <td>-0.334208</td>\n",
       "      <td>-0.0775</td>\n",
       "    </tr>\n",
       "    <tr>\n",
       "      <th>2</th>\n",
       "      <td>-0.004986</td>\n",
       "      <td>1.409346</td>\n",
       "      <td>-0.293540</td>\n",
       "      <td>-0.0750</td>\n",
       "    </tr>\n",
       "    <tr>\n",
       "      <th>3</th>\n",
       "      <td>-0.006242</td>\n",
       "      <td>1.088113</td>\n",
       "      <td>-0.187284</td>\n",
       "      <td>-0.0725</td>\n",
       "    </tr>\n",
       "    <tr>\n",
       "      <th>4</th>\n",
       "      <td>-0.004986</td>\n",
       "      <td>1.459888</td>\n",
       "      <td>-0.025326</td>\n",
       "      <td>-0.0700</td>\n",
       "    </tr>\n",
       "  </tbody>\n",
       "</table>\n",
       "</div>"
      ],
      "text/plain": [
       "       I(A)    R(ohm)     dI/dt  time(s)\n",
       "0 -0.005064  1.387638 -0.298475  -0.0800\n",
       "1 -0.006242  1.246556 -0.334208  -0.0775\n",
       "2 -0.004986  1.409346 -0.293540  -0.0750\n",
       "3 -0.006242  1.088113 -0.187284  -0.0725\n",
       "4 -0.004986  1.459888 -0.025326  -0.0700"
      ]
     },
     "execution_count": 70,
     "metadata": {},
     "output_type": "execute_result"
    }
   ],
   "source": [
    "lista_de_dfs[0].head()"
   ]
  },
  {
   "cell_type": "code",
   "execution_count": 71,
   "metadata": {},
   "outputs": [],
   "source": [
    "_rd = []\n",
    "_raw_deriv = []\n",
    "for i in range(len(lista_de_dfs)):\n",
    "    _rd.append(np.diff(lista_de_dfs[i]['I(A)']) / np.diff(_x_axis))\n",
    "for item in _rd:\n",
    "    item = np.append(item, 0)\n",
    "    _raw_deriv.append(item)\n",
    "\n",
    "#Forma bruta da derivada em função de x onde y = f(x)\n",
    "#_f_ = np.diff(a['Step01_amp(A)']) / np.diff(_x_axis)"
   ]
  },
  {
   "cell_type": "code",
   "execution_count": 72,
   "metadata": {},
   "outputs": [
    {
     "data": {
      "image/png": "[encoded data removed]",
      "text/plain": [
       "<matplotlib.figure.Figure at 0x19526210>"
      ]
     },
     "metadata": {},
     "output_type": "display_data"
    }
   ],
   "source": [
    "#Plotting raw derivative and poly fitting derivative together\n",
    "fig, axs = plt.subplots(3, 2, sharex=True)\n",
    "axs[0, 0].plot(_x_axis, _raw_deriv[0],'tab:blue')\n",
    "axs[0, 0].plot(_x_axis, lista_de_dfs[0]['dI/dt'], 'tab:orange')\n",
    "axs[0, 0].set_title('Step 0-1A')\n",
    "\n",
    "axs[0, 1].plot(_x_axis, _raw_deriv[1],'tab:blue')\n",
    "axs[0, 1].plot(_x_axis, lista_de_dfs[1]['dI/dt'], 'tab:orange')\n",
    "axs[0, 1].set_title('Step 0-2A')\n",
    "\n",
    "axs[1, 0].plot(_x_axis, _raw_deriv[2],'tab:blue')\n",
    "axs[1, 0].plot(_x_axis, lista_de_dfs[2]['dI/dt'], 'tab:orange')\n",
    "axs[1, 0].set_title('Step 0-3A')\n",
    "\n",
    "axs[1, 1].plot(_x_axis, _raw_deriv[3],'tab:blue')\n",
    "axs[1, 1].plot(_x_axis, lista_de_dfs[3]['dI/dt'], 'tab:orange')\n",
    "axs[1, 1].set_title('Step 0-4A')\n",
    "\n",
    "axs[2, 0].plot(_x_axis, _raw_deriv[4],'tab:blue')\n",
    "axs[2, 0].plot(_x_axis, lista_de_dfs[4]['dI/dt'], 'tab:orange')\n",
    "axs[2, 0].set_title('Step 0-5A')\n",
    "\n",
    "axs[2, 1].plot(_x_axis, _raw_deriv[5],'tab:blue')\n",
    "axs[2, 1].plot(_x_axis, lista_de_dfs[5]['dI/dt'], 'tab:orange')\n",
    "axs[2, 1].set_title('Step 0-6A')\n",
    "\n",
    "for ax in axs.flat:\n",
    "    ax.set(xlabel='time (s)', ylabel='dI/dt [A/s]')\n",
    "for ax in axs.flat:\n",
    "    ax.label_outer()\n",
    "\n",
    "plt.subplots_adjust(top=0.92, bottom=0.08, left=0.10, right=0.95, hspace=0.45,\n",
    "                    wspace=0.35)"
   ]
  },
  {
   "cell_type": "code",
   "execution_count": 73,
   "metadata": {},
   "outputs": [],
   "source": [
    "#Finding inflection point and first positives derivatives values\n",
    "#Arrays used\n",
    "_inflex_pts = []\n",
    "_first_positives = []\n",
    "_I_tau_arr = np.array([])\n",
    "\n",
    "for i in lista_de_dfs:\n",
    "    _inflex_pts.append(i.loc[i['dI/dt'].idxmax()][3])\n",
    "    _box, j = 0, 0\n",
    "    while i['dI/dt'][j] > _box:\n",
    "        j+=1\n",
    "    _box = i['dI/dt'][j]\n",
    "    _first_positives.append(list(i.loc[i['dI/dt'] == _box].values)[0][3])\n",
    "    \n",
    "    #Fiding the maximum current for each step, and then calculating 63%:\n",
    "    _I_tau_arr = np.append(_I_tau_arr,i.loc[i['I(A)'].idxmax()][0]*0.63)\n",
    "    "
   ]
  },
  {
   "cell_type": "code",
   "execution_count": 74,
   "metadata": {},
   "outputs": [],
   "source": [
    "_didt_pos = np.array([])\n",
    "_t_arr = np.array([])\n",
    "_t0_arr = np.array([])\n",
    "_R_arr = np.array([])\n",
    "\n",
    "for i in range(len(lista_de_dfs)):\n",
    "#     if i == 0:\n",
    "#         _box, j = 0, 0\n",
    "#         while lista_de_dfs[i]['dI/dt'][j] < _box:\n",
    "#             j+=1\n",
    "#         _box = lista_de_dfs[i]['dI/dt'][j]\n",
    "#         _didt_pos = np.append(_didt_pos,_box)\n",
    "#     else:\n",
    "#         _box, j = -0.1,0\n",
    "#         while lista_de_dfs[i]['dI/dt'][j] > _box:\n",
    "\n",
    "    #Fiding initial time t0 where dI/Dt are positive:\n",
    "#     _t0_arr = np.append(_t0_arr,list(lista_de_dfs[i].loc[lista_de_dfs[i]['dI/dt'] == _didt_pos[i]].iloc[:1].values)[0][3])\n",
    "    _t0_arr = np.append(_t0_arr,list(lista_de_dfs[i].loc[lista_de_dfs[i]['I(A)'] > 0].iloc[:1].values)[0][3])\n",
    "    \n",
    "    #Fiding final time t of the 63% of current:\n",
    "    _t_arr = np.append(_t_arr,list(lista_de_dfs[i].loc[lista_de_dfs[i]['I(A)'] >= _I_tau_arr[i]].iloc[:1].values)[0][3])\n",
    "    \n",
    "    #Collect R values in the 63% of the current:\n",
    "    _R_arr = np.append(_R_arr,list(lista_de_dfs[i].loc[lista_de_dfs[i]['I(A)'] >= _I_tau_arr[i]].iloc[:1].values)[0][1])"
   ]
  },
  {
   "cell_type": "code",
   "execution_count": 75,
   "metadata": {
    "scrolled": true
   },
   "outputs": [
    {
     "name": "stdout",
     "output_type": "stream",
     "text": [
      "[0.63160776 1.25685882 1.87423992 2.50275627 3.13117308 3.76423992]\n",
      "[0.06   0.08   0.085  0.0925 0.1    0.1075]\n",
      "[-0.0525 -0.0325 -0.0275 -0.0225 -0.0175 -0.015 ]\n",
      "[0.2059186  0.21368957 0.21861764 0.21570944 0.19063067 0.18672566]\n"
     ]
    }
   ],
   "source": [
    "print(_I_tau_arr)\n",
    "print(_t_arr)\n",
    "print(_t0_arr)\n",
    "print(_R_arr)"
   ]
  },
  {
   "cell_type": "code",
   "execution_count": 76,
   "metadata": {},
   "outputs": [
    {
     "data": {
      "image/png": "[encoded data removed]",
      "text/latex": [
       "$$0.12419194168354257$$"
      ],
      "text/plain": [
       "0.12419194168354257"
      ]
     },
     "execution_count": 76,
     "metadata": {},
     "output_type": "execute_result"
    }
   ],
   "source": [
    "_R_avg = np.array([])\n",
    "for i in range(len(lista_de_dfs)):\n",
    "    _R_avg = np.append(_R_avg,lista_de_dfs[i]['R(ohm)'].iloc[150:])\n",
    "_R_avg.mean()"
   ]
  },
  {
   "cell_type": "code",
   "execution_count": 77,
   "metadata": {},
   "outputs": [
    {
     "data": {
      "text/plain": [
       "array([0.01397159, 0.01397159, 0.01397159, 0.01428207, 0.01459255,\n",
       "       0.01521351])"
      ]
     },
     "execution_count": 77,
     "metadata": {},
     "output_type": "execute_result"
    }
   ],
   "source": [
    "# Calculating Delta time (dt) for all steps\n",
    "_dt = _t_arr - _t0_arr\n",
    "\n",
    "#Finally, the Inductance for each step in Time Constant (1τ)\n",
    "_L_arr = np.array([])\n",
    "for i in range(len(lista_de_dfs)):\n",
    "    #_L_arr = np.append(_L_arr, _dt[i]*_R_arr[i])\n",
    "    _L_arr = np.append(_L_arr, _dt[i]*_R_avg.mean())\n",
    "_L_arr"
   ]
  },
  {
   "cell_type": "code",
   "execution_count": 78,
   "metadata": {},
   "outputs": [
    {
     "data": {
      "text/html": [
       "<div>\n",
       "<style scoped>\n",
       "    .dataframe tbody tr th:only-of-type {\n",
       "        vertical-align: middle;\n",
       "    }\n",
       "\n",
       "    .dataframe tbody tr th {\n",
       "        vertical-align: top;\n",
       "    }\n",
       "\n",
       "    .dataframe thead th {\n",
       "        text-align: right;\n",
       "    }\n",
       "</style>\n",
       "<table border=\"1\" class=\"dataframe\">\n",
       "  <thead>\n",
       "    <tr style=\"text-align: right;\">\n",
       "      <th></th>\n",
       "      <th>Step01_R(ohm)</th>\n",
       "      <th>Step02_R(ohm)</th>\n",
       "      <th>Step03_R(ohm)</th>\n",
       "      <th>Step04_R(ohm)</th>\n",
       "      <th>Step05_R(ohm)</th>\n",
       "      <th>Step06_R(ohm)</th>\n",
       "    </tr>\n",
       "    <tr>\n",
       "      <th>second</th>\n",
       "      <th></th>\n",
       "      <th></th>\n",
       "      <th></th>\n",
       "      <th></th>\n",
       "      <th></th>\n",
       "      <th></th>\n",
       "    </tr>\n",
       "  </thead>\n",
       "  <tbody>\n",
       "    <tr>\n",
       "      <th>2.4875</th>\n",
       "      <td>0.122068</td>\n",
       "      <td>0.125788</td>\n",
       "      <td>0.127671</td>\n",
       "      <td>0.128240</td>\n",
       "      <td>0.115146</td>\n",
       "      <td>0.136698</td>\n",
       "    </tr>\n",
       "    <tr>\n",
       "      <th>2.4900</th>\n",
       "      <td>0.122059</td>\n",
       "      <td>0.125906</td>\n",
       "      <td>0.127935</td>\n",
       "      <td>0.128054</td>\n",
       "      <td>0.115204</td>\n",
       "      <td>0.125305</td>\n",
       "    </tr>\n",
       "    <tr>\n",
       "      <th>2.4925</th>\n",
       "      <td>0.122212</td>\n",
       "      <td>0.125985</td>\n",
       "      <td>0.127935</td>\n",
       "      <td>0.128113</td>\n",
       "      <td>0.115596</td>\n",
       "      <td>0.112033</td>\n",
       "    </tr>\n",
       "    <tr>\n",
       "      <th>2.4950</th>\n",
       "      <td>0.121807</td>\n",
       "      <td>0.125793</td>\n",
       "      <td>0.127671</td>\n",
       "      <td>0.128176</td>\n",
       "      <td>0.115398</td>\n",
       "      <td>0.100669</td>\n",
       "    </tr>\n",
       "    <tr>\n",
       "      <th>2.4975</th>\n",
       "      <td>0.122043</td>\n",
       "      <td>0.125713</td>\n",
       "      <td>0.127748</td>\n",
       "      <td>0.128180</td>\n",
       "      <td>0.115204</td>\n",
       "      <td>0.092859</td>\n",
       "    </tr>\n",
       "  </tbody>\n",
       "</table>\n",
       "</div>"
      ],
      "text/plain": [
       "        Step01_R(ohm)  Step02_R(ohm)  Step03_R(ohm)  Step04_R(ohm)  \\\n",
       "second                                                               \n",
       "2.4875       0.122068       0.125788       0.127671       0.128240   \n",
       "2.4900       0.122059       0.125906       0.127935       0.128054   \n",
       "2.4925       0.122212       0.125985       0.127935       0.128113   \n",
       "2.4950       0.121807       0.125793       0.127671       0.128176   \n",
       "2.4975       0.122043       0.125713       0.127748       0.128180   \n",
       "\n",
       "        Step05_R(ohm)  Step06_R(ohm)  \n",
       "second                                \n",
       "2.4875       0.115146       0.136698  \n",
       "2.4900       0.115204       0.125305  \n",
       "2.4925       0.115596       0.112033  \n",
       "2.4950       0.115398       0.100669  \n",
       "2.4975       0.115204       0.092859  "
      ]
     },
     "execution_count": 78,
     "metadata": {},
     "output_type": "execute_result"
    }
   ],
   "source": [
    "_DF_for_resis.tail()"
   ]
  },
  {
   "cell_type": "code",
   "execution_count": 79,
   "metadata": {},
   "outputs": [
    {
     "data": {
      "image/png": "[encoded data removed]",
      "text/latex": [
       "$$0.01433381993597554$$"
      ],
      "text/plain": [
       "0.01433381993597554"
      ]
     },
     "execution_count": 79,
     "metadata": {},
     "output_type": "execute_result"
    }
   ],
   "source": [
    "#Avearage Inductance\n",
    "_L_mean = _L_arr.mean()\n",
    "_L_mean"
   ]
  },
  {
   "cell_type": "code",
   "execution_count": 80,
   "metadata": {
    "scrolled": false
   },
   "outputs": [
    {
     "data": {
      "image/png": "[encoded data removed]",
      "text/plain": [
       "<matplotlib.figure.Figure at 0x2ea4ef0>"
      ]
     },
     "metadata": {},
     "output_type": "display_data"
    }
   ],
   "source": [
    "color = 'tab:green'\n",
    "plt.plot(np.arange(1,7,1),_L_arr, color=color, label='L [H]')\n",
    "plt.xlabel('I [A]')\n",
    "plt.ylabel('L [H]')\n",
    "plt.title('Inductance L[H] X Current I[A]')\n",
    "plt.legend(loc='best')\n",
    "plt.grid('on', alpha=0.3)"
   ]
  },
  {
   "cell_type": "markdown",
   "metadata": {},
   "source": [
    "## Visualization data with Plotly"
   ]
  },
  {
   "cell_type": "code",
   "execution_count": 81,
   "metadata": {},
   "outputs": [],
   "source": [
    "import plotly.express as px\n",
    "import plotly.graph_objects as go"
   ]
  },
  {
   "cell_type": "code",
   "execution_count": 82,
   "metadata": {},
   "outputs": [
    {
     "data": {
      "application/vnd.plotly.v1+json": {
       "config": {
        "plotlyServerURL": "https://plot.ly"
       },
       "data": [
        {
         "name": "I [A]",
         "type": "scatter",
         "x": [
          -0.08,
          -0.0775,
          -0.075,
          -0.0725,
          -0.07,
          -0.0675,
          -0.065,
          -0.0625,
          -0.06,
          -0.0575,
          -0.055,
          -0.0525,
          -0.05,
          -0.0475,
          -0.045,
          -0.0425,
          -0.04,
          -0.0375,
          -0.035,
          -0.0325,
          -0.03,
          -0.0275,
          -0.025,
          -0.0225,
          -0.02,
          -0.0175,
          -0.015,
          -0.0125,
          -0.01,
          -0.0075,
          -0.005,
          -0.0025,
          0,
          0.0025,
          0.005,
          0.0075,
          0.01,
          0.0125,
          0.015,
          0.0175,
          0.02,
          0.0225,
          0.025,
          0.0275,
          0.03,
          0.0325,
          0.035,
          0.0375,
          0.04,
          0.0425,
          0.045,
          0.0475,
          0.05,
          0.0525,
          0.055,
          0.0575,
          0.06,
          0.0625,
          0.065,
          0.0675,
          0.07,
          0.0725,
          0.075,
          0.0775,
          0.08,
          0.0825,
          0.085,
          0.0875,
          0.09,
          0.0925,
          0.095,
          0.0975,
          0.1,
          0.1025,
          0.105,
          0.1075,
          0.11,
          0.1125,
          0.115,
          0.1175,
          0.12,
          0.1225,
          0.125,
          0.1275,
          0.13,
          0.1325,
          0.135,
          0.1375,
          0.14,
          0.1425,
          0.145,
          0.1475,
          0.15,
          0.1525,
          0.155,
          0.1575,
          0.16,
          0.1625,
          0.165,
          0.1675,
          0.17,
          0.1725,
          0.175,
          0.1775,
          0.18,
          0.1825,
          0.185,
          0.1875,
          0.19,
          0.1925,
          0.195,
          0.1975,
          0.2,
          0.2025,
          0.205,
          0.2075,
          0.21,
          0.2125,
          0.215,
          0.2175,
          0.22,
          0.2225,
          0.225,
          0.2275,
          0.23,
          0.2325,
          0.235,
          0.2375,
          0.24,
          0.2425,
          0.245,
          0.2475,
          0.25,
          0.2525,
          0.255,
          0.2575,
          0.26,
          0.2625,
          0.265,
          0.2675,
          0.27,
          0.2725,
          0.275,
          0.2775,
          0.28,
          0.2825,
          0.285,
          0.2875,
          0.29,
          0.2925,
          0.295,
          0.2975,
          0.3,
          0.3025,
          0.305,
          0.3075,
          0.31,
          0.3125,
          0.315,
          0.3175,
          0.32,
          0.3225,
          0.325,
          0.3275,
          0.33,
          0.3325,
          0.335,
          0.3375,
          0.34,
          0.3425,
          0.345,
          0.3475,
          0.35,
          0.3525,
          0.355,
          0.3575,
          0.36,
          0.3625,
          0.365,
          0.3675,
          0.37,
          0.3725,
          0.375,
          0.3775,
          0.38,
          0.3825,
          0.385,
          0.3875,
          0.39,
          0.3925,
          0.395,
          0.3975,
          0.4
         ],
         "xaxis": "x",
         "y": [
          -0.005064,
          -0.006242,
          -0.004986,
          -0.006242,
          -0.004986,
          -0.004986,
          -0.006242,
          -0.006242,
          -0.006242,
          -0.006242,
          -0.002552,
          0.004986,
          0.016291999999999997,
          0.02383,
          0.03388,
          0.04024,
          0.047777999999999994,
          0.05775,
          0.066544,
          0.076672,
          0.0879,
          0.099207,
          0.11051400000000002,
          0.123076,
          0.139408,
          0.153227,
          0.169559,
          0.182122,
          0.199709,
          0.217297,
          0.233629,
          0.251217,
          0.268805,
          0.28388,
          0.30146799999999996,
          0.319056,
          0.336644,
          0.352976,
          0.369307,
          0.384383,
          0.403227,
          0.419559,
          0.43588999999999994,
          0.453478,
          0.46855399999999997,
          0.483629,
          0.499961,
          0.516292,
          0.530111,
          0.5427529999999999,
          0.559006,
          0.5740810000000001,
          0.5866439999999999,
          0.60172,
          0.6155390000000001,
          0.6255890000000001,
          0.639408,
          0.651971,
          0.6621,
          0.6733279999999999,
          0.68589,
          0.6971970000000001,
          0.704813,
          0.717376,
          0.72617,
          0.738654,
          0.747448,
          0.757498,
          0.7650359999999999,
          0.77383,
          0.782624,
          0.7914180000000001,
          0.799034,
          0.806493,
          0.8140310000000001,
          0.820391,
          0.82785,
          0.8353879999999999,
          0.841669,
          0.847951,
          0.8554879999999999,
          0.860592,
          0.865539,
          0.8705639999999999,
          0.8768450000000001,
          0.88187,
          0.885718,
          0.891921,
          0.895768,
          0.9007149999999999,
          0.904483,
          0.9070739999999999,
          0.9107649999999999,
          0.91579,
          0.919637,
          0.92215,
          0.92584,
          0.9284309999999999,
          0.9322,
          0.93589,
          0.939659,
          0.94225,
          0.943507,
          0.945941,
          0.9485319999999999,
          0.949788,
          0.953557,
          0.9560690000000001,
          0.9585819999999999,
          0.959838,
          0.9623510000000001,
          0.963607,
          0.9648629999999999,
          0.9661200000000001,
          0.967376,
          0.9686319999999999,
          0.969888,
          0.971145,
          0.9735790000000001,
          0.974835,
          0.9761700000000001,
          0.977426,
          0.9786819999999999,
          0.981117,
          0.981195,
          0.981195,
          0.9824510000000001,
          0.983708,
          0.983708,
          0.984964,
          0.9862200000000001,
          0.9862200000000001,
          0.9862200000000001,
          0.987476,
          0.988733,
          0.988733,
          0.988733,
          0.9899889999999999,
          0.9899889999999999,
          0.991245,
          0.992502,
          0.991245,
          0.992502,
          0.993758,
          0.993758,
          0.994936,
          0.996192,
          0.9962700000000001,
          0.995014,
          0.996192,
          0.9962700000000001,
          0.9962700000000001,
          0.997527,
          0.997527,
          0.997527,
          0.997527,
          0.998704,
          0.998783,
          0.998783,
          0.998783,
          1.000039,
          0.998783,
          0.9999610000000001,
          0.9999610000000001,
          1.000039,
          1.000039,
          1.000039,
          1.000039,
          1.000039,
          1.001217,
          1.000039,
          1.000039,
          1.000039,
          1.000039,
          1.000039,
          1.000039,
          1.001296,
          1.001296,
          1.001296,
          1.001296,
          1.001296,
          1.001296,
          1.001296,
          1.001296,
          1.001296,
          1.001296,
          1.001296,
          1.001296,
          1.001296,
          1.001296,
          1.002552,
          1.001296,
          1.001296
         ],
         "yaxis": "y"
        },
        {
         "name": "dI/dt [A/s]",
         "type": "scatter",
         "x": [
          -0.08,
          -0.0775,
          -0.075,
          -0.0725,
          -0.07,
          -0.0675,
          -0.065,
          -0.0625,
          -0.06,
          -0.0575,
          -0.055,
          -0.0525,
          -0.05,
          -0.0475,
          -0.045,
          -0.0425,
          -0.04,
          -0.0375,
          -0.035,
          -0.0325,
          -0.03,
          -0.0275,
          -0.025,
          -0.0225,
          -0.02,
          -0.0175,
          -0.015,
          -0.0125,
          -0.01,
          -0.0075,
          -0.005,
          -0.0025,
          0,
          0.0025,
          0.005,
          0.0075,
          0.01,
          0.0125,
          0.015,
          0.0175,
          0.02,
          0.0225,
          0.025,
          0.0275,
          0.03,
          0.0325,
          0.035,
          0.0375,
          0.04,
          0.0425,
          0.045,
          0.0475,
          0.05,
          0.0525,
          0.055,
          0.0575,
          0.06,
          0.0625,
          0.065,
          0.0675,
          0.07,
          0.0725,
          0.075,
          0.0775,
          0.08,
          0.0825,
          0.085,
          0.0875,
          0.09,
          0.0925,
          0.095,
          0.0975,
          0.1,
          0.1025,
          0.105,
          0.1075,
          0.11,
          0.1125,
          0.115,
          0.1175,
          0.12,
          0.1225,
          0.125,
          0.1275,
          0.13,
          0.1325,
          0.135,
          0.1375,
          0.14,
          0.1425,
          0.145,
          0.1475,
          0.15,
          0.1525,
          0.155,
          0.1575,
          0.16,
          0.1625,
          0.165,
          0.1675,
          0.17,
          0.1725,
          0.175,
          0.1775,
          0.18,
          0.1825,
          0.185,
          0.1875,
          0.19,
          0.1925,
          0.195,
          0.1975,
          0.2,
          0.2025,
          0.205,
          0.2075,
          0.21,
          0.2125,
          0.215,
          0.2175,
          0.22,
          0.2225,
          0.225,
          0.2275,
          0.23,
          0.2325,
          0.235,
          0.2375,
          0.24,
          0.2425,
          0.245,
          0.2475,
          0.25,
          0.2525,
          0.255,
          0.2575,
          0.26,
          0.2625,
          0.265,
          0.2675,
          0.27,
          0.2725,
          0.275,
          0.2775,
          0.28,
          0.2825,
          0.285,
          0.2875,
          0.29,
          0.2925,
          0.295,
          0.2975,
          0.3,
          0.3025,
          0.305,
          0.3075,
          0.31,
          0.3125,
          0.315,
          0.3175,
          0.32,
          0.3225,
          0.325,
          0.3275,
          0.33,
          0.3325,
          0.335,
          0.3375,
          0.34,
          0.3425,
          0.345,
          0.3475,
          0.35,
          0.3525,
          0.355,
          0.3575,
          0.36,
          0.3625,
          0.365,
          0.3675,
          0.37,
          0.3725,
          0.375,
          0.3775,
          0.38,
          0.3825,
          0.385,
          0.3875,
          0.39,
          0.3925,
          0.395,
          0.3975,
          0.4
         ],
         "xaxis": "x",
         "y": [
          -0.29847541265879407,
          -0.33420801801374633,
          -0.29354019279642785,
          -0.1872836098455828,
          -0.025326029165825936,
          0.18331220408373916,
          0.43042419359281237,
          0.7085649776828191,
          1.011002388277916,
          1.3316702060773524,
          1.6651235365316497,
          2.0064963327982515,
          2.351460993409825,
          2.696189963930057,
          3.0373192733976175,
          3.3719139378690817,
          3.6974351648657926,
          4.011709294008143,
          4.312898410583353,
          4.599472570239708,
          4.870183574431185,
          5.124040237651675,
          5.360285088897411,
          5.578372451179801,
          5.777947844278705,
          5.958828657278171,
          6.120986038762865,
          6.264527953873781,
          6.389683358726442,
          6.496787443983564,
          6.586267900647106,
          6.658632162391839,
          6.714455580003889,
          6.754370484713281,
          6.779056098419256,
          6.789229250001089,
          6.785635858085245,
          6.7690431418020705,
          6.740232522211732,
          6.6999931782098265,
          6.649116221838023,
          6.588389459024178,
          6.518592702859696,
          6.440493607589378,
          6.35484399254072,
          6.262376626255481,
          6.16380244210645,
          6.05980815768658,
          5.9510542712461625,
          5.838173409426357,
          5.721769001494244,
          5.602414256225637,
          5.4806514185071284,
          5.3569912836382745,
          5.231912948208469,
          5.1058637773008835,
          4.979259568637869,
          4.852484895128436,
          4.725893608108831,
          4.5998094843818595,
          4.47452700095935,
          4.350312222195229,
          4.227403784763775,
          4.106013966689078,
          3.9863298273672614,
          3.868514406242804,
          3.7527079685042812,
          3.6390292868529786,
          3.5275769490702036,
          3.4184306817656696,
          3.3116526813300395,
          3.207288943739705,
          3.1053705854709426,
          3.00591514837398,
          2.908927881934977,
          2.8144029969156366,
          2.722324884906125,
          2.632669298857019,
          2.545404490170305,
          2.4604922984280035,
          2.3778891903195714,
          2.2975472447962284,
          2.219415081931354,
          2.1434387334013474,
          2.069562452920926,
          1.9977294653703197,
          1.9278826537398492,
          1.8599651833892255,
          1.7939210634754028,
          1.7296956457429173,
          1.6672360611955979,
          1.606491595477154,
          1.5474140040812152,
          1.4899577687886376,
          1.4340802969912065,
          1.3797420658066564,
          1.326906713119362,
          1.2755410778956184,
          1.2256151923198049,
          1.1771022284810577,
          1.1299784025056754,
          1.0842228391821207,
          1.0398174002596914,
          0.9967464797217342,
          0.954996769437078,
          0.9145569986812099,
          0.8754176510905385,
          0.837570662668571,
          0.8010091045036267,
          0.7657268538811906,
          0.731718257483374,
          0.6989777903602405,
          0.6674997143339825,
          0.6372777394602265,
          0.6083046921126254,
          0.5805721931901058,
          0.5540703498561452,
          0.5287874641213879,
          0.5047097614586669,
          0.4818211425085632,
          0.4601029607847833,
          0.4395338291191635,
          0.4200894574101035,
          0.401742524037461,
          0.3844625830959556,
          0.3682160093708715,
          0.35296598273256397,
          0.33867251337146875,
          0.3252925090127423,
          0.31277988496429376,
          0.3010857175387338,
          0.29015844107061817,
          0.2799440884093727,
          0.270386574412143,
          0.26142802159223333,
          0.25300912669093556,
          0.2450695665389251,
          0.23754844115226703,
          0.230384751580333,
          0.2235179095637081,
          0.2168882756053705,
          0.21043772156801577,
          0.2041102134162509,
          0.19785240921178904,
          0.19161426693933592,
          0.18534965618815757,
          0.17901696717558124,
          0.17257970999011718,
          0.16600709637430366,
          0.15927459572955627,
          0.15236445642662666,
          0.14526618284179893,
          0.13797695790668918,
          0.13050200026995995,
          0.12285484449538409,
          0.11505753200878299,
          0.10714069978809526,
          0.09914355307362932,
          0.09111370759294779,
          0.08310688606043382,
          0.0751864529147106,
          0.06742277045656486,
          0.05989235874848742,
          0.05267684079443935,
          0.045861653686311676,
          0.039534505534268405,
          0.03378355711621328,
          0.028695306313090363,
          0.024352152454835796,
          0.0208296168071902,
          0.01819319446957124,
          0.016494812017139537,
          0.01576886422020607,
          0.016027802228191668,
          0.017257244555874962,
          0.019410581236127378,
          0.022403040422696918,
          0.026105185729507596,
          0.03033581145905373,
          0.03485420186490096,
          0.039351719438800004,
          0.04344268612752877,
          0.04665452023551531,
          0.04841709064395694,
          0.04805124882230771,
          0.04475649787600933,
          0.03759775676445454,
          0.025491176550468175,
          0.007188964334348569,
          -0.018736830683075745,
          -0.05391161588475413,
          -0.10017668674120817,
          -0.15960884054862223
         ],
         "yaxis": "y2"
        }
       ],
       "layout": {
        "template": {
         "data": {
          "bar": [
           {
            "error_x": {
             "color": "#2a3f5f"
            },
            "error_y": {
             "color": "#2a3f5f"
            },
            "marker": {
             "line": {
              "color": "#E5ECF6",
              "width": 0.5
             }
            },
            "type": "bar"
           }
          ],
          "barpolar": [
           {
            "marker": {
             "line": {
              "color": "#E5ECF6",
              "width": 0.5
             }
            },
            "type": "barpolar"
           }
          ],
          "carpet": [
           {
            "aaxis": {
             "endlinecolor": "#2a3f5f",
             "gridcolor": "white",
             "linecolor": "white",
             "minorgridcolor": "white",
             "startlinecolor": "#2a3f5f"
            },
            "baxis": {
             "endlinecolor": "#2a3f5f",
             "gridcolor": "white",
             "linecolor": "white",
             "minorgridcolor": "white",
             "startlinecolor": "#2a3f5f"
            },
            "type": "carpet"
           }
          ],
          "choropleth": [
           {
            "colorbar": {
             "outlinewidth": 0,
             "ticks": ""
            },
            "type": "choropleth"
           }
          ],
          "contour": [
           {
            "colorbar": {
             "outlinewidth": 0,
             "ticks": ""
            },
            "colorscale": [
             [
              0,
              "#0d0887"
             ],
             [
              0.1111111111111111,
              "#46039f"
             ],
             [
              0.2222222222222222,
              "#7201a8"
             ],
             [
              0.3333333333333333,
              "#9c179e"
             ],
             [
              0.4444444444444444,
              "#bd3786"
             ],
             [
              0.5555555555555556,
              "#d8576b"
             ],
             [
              0.6666666666666666,
              "#ed7953"
             ],
             [
              0.7777777777777778,
              "#fb9f3a"
             ],
             [
              0.8888888888888888,
              "#fdca26"
             ],
             [
              1,
              "#f0f921"
             ]
            ],
            "type": "contour"
           }
          ],
          "contourcarpet": [
           {
            "colorbar": {
             "outlinewidth": 0,
             "ticks": ""
            },
            "type": "contourcarpet"
           }
          ],
          "heatmap": [
           {
            "colorbar": {
             "outlinewidth": 0,
             "ticks": ""
            },
            "colorscale": [
             [
              0,
              "#0d0887"
             ],
             [
              0.1111111111111111,
              "#46039f"
             ],
             [
              0.2222222222222222,
              "#7201a8"
             ],
             [
              0.3333333333333333,
              "#9c179e"
             ],
             [
              0.4444444444444444,
              "#bd3786"
             ],
             [
              0.5555555555555556,
              "#d8576b"
             ],
             [
              0.6666666666666666,
              "#ed7953"
             ],
             [
              0.7777777777777778,
              "#fb9f3a"
             ],
             [
              0.8888888888888888,
              "#fdca26"
             ],
             [
              1,
              "#f0f921"
             ]
            ],
            "type": "heatmap"
           }
          ],
          "heatmapgl": [
           {
            "colorbar": {
             "outlinewidth": 0,
             "ticks": ""
            },
            "colorscale": [
             [
              0,
              "#0d0887"
             ],
             [
              0.1111111111111111,
              "#46039f"
             ],
             [
              0.2222222222222222,
              "#7201a8"
             ],
             [
              0.3333333333333333,
              "#9c179e"
             ],
             [
              0.4444444444444444,
              "#bd3786"
             ],
             [
              0.5555555555555556,
              "#d8576b"
             ],
             [
              0.6666666666666666,
              "#ed7953"
             ],
             [
              0.7777777777777778,
              "#fb9f3a"
             ],
             [
              0.8888888888888888,
              "#fdca26"
             ],
             [
              1,
              "#f0f921"
             ]
            ],
            "type": "heatmapgl"
           }
          ],
          "histogram": [
           {
            "marker": {
             "colorbar": {
              "outlinewidth": 0,
              "ticks": ""
             }
            },
            "type": "histogram"
           }
          ],
          "histogram2d": [
           {
            "colorbar": {
             "outlinewidth": 0,
             "ticks": ""
            },
            "colorscale": [
             [
              0,
              "#0d0887"
             ],
             [
              0.1111111111111111,
              "#46039f"
             ],
             [
              0.2222222222222222,
              "#7201a8"
             ],
             [
              0.3333333333333333,
              "#9c179e"
             ],
             [
              0.4444444444444444,
              "#bd3786"
             ],
             [
              0.5555555555555556,
              "#d8576b"
             ],
             [
              0.6666666666666666,
              "#ed7953"
             ],
             [
              0.7777777777777778,
              "#fb9f3a"
             ],
             [
              0.8888888888888888,
              "#fdca26"
             ],
             [
              1,
              "#f0f921"
             ]
            ],
            "type": "histogram2d"
           }
          ],
          "histogram2dcontour": [
           {
            "colorbar": {
             "outlinewidth": 0,
             "ticks": ""
            },
            "colorscale": [
             [
              0,
              "#0d0887"
             ],
             [
              0.1111111111111111,
              "#46039f"
             ],
             [
              0.2222222222222222,
              "#7201a8"
             ],
             [
              0.3333333333333333,
              "#9c179e"
             ],
             [
              0.4444444444444444,
              "#bd3786"
             ],
             [
              0.5555555555555556,
              "#d8576b"
             ],
             [
              0.6666666666666666,
              "#ed7953"
             ],
             [
              0.7777777777777778,
              "#fb9f3a"
             ],
             [
              0.8888888888888888,
              "#fdca26"
             ],
             [
              1,
              "#f0f921"
             ]
            ],
            "type": "histogram2dcontour"
           }
          ],
          "mesh3d": [
           {
            "colorbar": {
             "outlinewidth": 0,
             "ticks": ""
            },
            "type": "mesh3d"
           }
          ],
          "parcoords": [
           {
            "line": {
             "colorbar": {
              "outlinewidth": 0,
              "ticks": ""
             }
            },
            "type": "parcoords"
           }
          ],
          "scatter": [
           {
            "marker": {
             "colorbar": {
              "outlinewidth": 0,
              "ticks": ""
             }
            },
            "type": "scatter"
           }
          ],
          "scatter3d": [
           {
            "line": {
             "colorbar": {
              "outlinewidth": 0,
              "ticks": ""
             }
            },
            "marker": {
             "colorbar": {
              "outlinewidth": 0,
              "ticks": ""
             }
            },
            "type": "scatter3d"
           }
          ],
          "scattercarpet": [
           {
            "marker": {
             "colorbar": {
              "outlinewidth": 0,
              "ticks": ""
             }
            },
            "type": "scattercarpet"
           }
          ],
          "scattergeo": [
           {
            "marker": {
             "colorbar": {
              "outlinewidth": 0,
              "ticks": ""
             }
            },
            "type": "scattergeo"
           }
          ],
          "scattergl": [
           {
            "marker": {
             "colorbar": {
              "outlinewidth": 0,
              "ticks": ""
             }
            },
            "type": "scattergl"
           }
          ],
          "scattermapbox": [
           {
            "marker": {
             "colorbar": {
              "outlinewidth": 0,
              "ticks": ""
             }
            },
            "type": "scattermapbox"
           }
          ],
          "scatterpolar": [
           {
            "marker": {
             "colorbar": {
              "outlinewidth": 0,
              "ticks": ""
             }
            },
            "type": "scatterpolar"
           }
          ],
          "scatterpolargl": [
           {
            "marker": {
             "colorbar": {
              "outlinewidth": 0,
              "ticks": ""
             }
            },
            "type": "scatterpolargl"
           }
          ],
          "scatterternary": [
           {
            "marker": {
             "colorbar": {
              "outlinewidth": 0,
              "ticks": ""
             }
            },
            "type": "scatterternary"
           }
          ],
          "surface": [
           {
            "colorbar": {
             "outlinewidth": 0,
             "ticks": ""
            },
            "colorscale": [
             [
              0,
              "#0d0887"
             ],
             [
              0.1111111111111111,
              "#46039f"
             ],
             [
              0.2222222222222222,
              "#7201a8"
             ],
             [
              0.3333333333333333,
              "#9c179e"
             ],
             [
              0.4444444444444444,
              "#bd3786"
             ],
             [
              0.5555555555555556,
              "#d8576b"
             ],
             [
              0.6666666666666666,
              "#ed7953"
             ],
             [
              0.7777777777777778,
              "#fb9f3a"
             ],
             [
              0.8888888888888888,
              "#fdca26"
             ],
             [
              1,
              "#f0f921"
             ]
            ],
            "type": "surface"
           }
          ],
          "table": [
           {
            "cells": {
             "fill": {
              "color": "#EBF0F8"
             },
             "line": {
              "color": "white"
             }
            },
            "header": {
             "fill": {
              "color": "#C8D4E3"
             },
             "line": {
              "color": "white"
             }
            },
            "type": "table"
           }
          ]
         },
         "layout": {
          "annotationdefaults": {
           "arrowcolor": "#2a3f5f",
           "arrowhead": 0,
           "arrowwidth": 1
          },
          "colorscale": {
           "diverging": [
            [
             0,
             "#8e0152"
            ],
            [
             0.1,
             "#c51b7d"
            ],
            [
             0.2,
             "#de77ae"
            ],
            [
             0.3,
             "#f1b6da"
            ],
            [
             0.4,
             "#fde0ef"
            ],
            [
             0.5,
             "#f7f7f7"
            ],
            [
             0.6,
             "#e6f5d0"
            ],
            [
             0.7,
             "#b8e186"
            ],
            [
             0.8,
             "#7fbc41"
            ],
            [
             0.9,
             "#4d9221"
            ],
            [
             1,
             "#276419"
            ]
           ],
           "sequential": [
            [
             0,
             "#0d0887"
            ],
            [
             0.1111111111111111,
             "#46039f"
            ],
            [
             0.2222222222222222,
             "#7201a8"
            ],
            [
             0.3333333333333333,
             "#9c179e"
            ],
            [
             0.4444444444444444,
             "#bd3786"
            ],
            [
             0.5555555555555556,
             "#d8576b"
            ],
            [
             0.6666666666666666,
             "#ed7953"
            ],
            [
             0.7777777777777778,
             "#fb9f3a"
            ],
            [
             0.8888888888888888,
             "#fdca26"
            ],
            [
             1,
             "#f0f921"
            ]
           ],
           "sequentialminus": [
            [
             0,
             "#0d0887"
            ],
            [
             0.1111111111111111,
             "#46039f"
            ],
            [
             0.2222222222222222,
             "#7201a8"
            ],
            [
             0.3333333333333333,
             "#9c179e"
            ],
            [
             0.4444444444444444,
             "#bd3786"
            ],
            [
             0.5555555555555556,
             "#d8576b"
            ],
            [
             0.6666666666666666,
             "#ed7953"
            ],
            [
             0.7777777777777778,
             "#fb9f3a"
            ],
            [
             0.8888888888888888,
             "#fdca26"
            ],
            [
             1,
             "#f0f921"
            ]
           ]
          },
          "colorway": [
           "#636efa",
           "#EF553B",
           "#00cc96",
           "#ab63fa",
           "#FFA15A",
           "#19d3f3",
           "#FF6692",
           "#B6E880",
           "#FF97FF",
           "#FECB52"
          ],
          "font": {
           "color": "#2a3f5f"
          },
          "geo": {
           "bgcolor": "white",
           "lakecolor": "white",
           "landcolor": "#E5ECF6",
           "showlakes": true,
           "showland": true,
           "subunitcolor": "white"
          },
          "hoverlabel": {
           "align": "left"
          },
          "hovermode": "closest",
          "mapbox": {
           "style": "light"
          },
          "paper_bgcolor": "white",
          "plot_bgcolor": "#E5ECF6",
          "polar": {
           "angularaxis": {
            "gridcolor": "white",
            "linecolor": "white",
            "ticks": ""
           },
           "bgcolor": "#E5ECF6",
           "radialaxis": {
            "gridcolor": "white",
            "linecolor": "white",
            "ticks": ""
           }
          },
          "scene": {
           "xaxis": {
            "backgroundcolor": "#E5ECF6",
            "gridcolor": "white",
            "gridwidth": 2,
            "linecolor": "white",
            "showbackground": true,
            "ticks": "",
            "zerolinecolor": "white"
           },
           "yaxis": {
            "backgroundcolor": "#E5ECF6",
            "gridcolor": "white",
            "gridwidth": 2,
            "linecolor": "white",
            "showbackground": true,
            "ticks": "",
            "zerolinecolor": "white"
           },
           "zaxis": {
            "backgroundcolor": "#E5ECF6",
            "gridcolor": "white",
            "gridwidth": 2,
            "linecolor": "white",
            "showbackground": true,
            "ticks": "",
            "zerolinecolor": "white"
           }
          },
          "shapedefaults": {
           "line": {
            "color": "#2a3f5f"
           }
          },
          "ternary": {
           "aaxis": {
            "gridcolor": "white",
            "linecolor": "white",
            "ticks": ""
           },
           "baxis": {
            "gridcolor": "white",
            "linecolor": "white",
            "ticks": ""
           },
           "bgcolor": "#E5ECF6",
           "caxis": {
            "gridcolor": "white",
            "linecolor": "white",
            "ticks": ""
           }
          },
          "title": {
           "x": 0.05
          },
          "xaxis": {
           "automargin": true,
           "gridcolor": "white",
           "linecolor": "white",
           "ticks": "",
           "zerolinecolor": "white",
           "zerolinewidth": 2
          },
          "yaxis": {
           "automargin": true,
           "gridcolor": "white",
           "linecolor": "white",
           "ticks": "",
           "zerolinecolor": "white",
           "zerolinewidth": 2
          }
         }
        },
        "title": {
         "text": "<b>dI/dt(A/s) versus I(A) on Step 0-1A</b>"
        },
        "xaxis": {
         "anchor": "y",
         "domain": [
          0,
          0.94
         ],
         "title": {
          "text": "time (s)"
         }
        },
        "yaxis": {
         "anchor": "x",
         "domain": [
          0,
          1
         ],
         "title": {
          "text": "<b>primary</b> I[A]"
         }
        },
        "yaxis2": {
         "anchor": "x",
         "overlaying": "y",
         "showgrid": false,
         "side": "right",
         "title": {
          "text": "<b>secondary</b> dI/dt [A/s]"
         }
        }
       }
      },
      "text/html": [
       "<div>\n",
       "        \n",
       "        \n",
       "            <div id=\"71edcf94-466e-40f2-a4ce-adc2017837ed\" class=\"plotly-graph-div\" style=\"height:525px; width:100%;\"></div>\n",
       "            <script type=\"text/javascript\">\n",
       "                require([\"plotly\"], function(Plotly) {\n",
       "                    window.PLOTLYENV=window.PLOTLYENV || {};\n",
       "                    \n",
       "                if (document.getElementById(\"71edcf94-466e-40f2-a4ce-adc2017837ed\")) {\n",
       "                    Plotly.newPlot(\n",
       "                        '71edcf94-466e-40f2-a4ce-adc2017837ed',\n",
       "                        [{\"name\": \"I [A]\", \"type\": \"scatter\", \"x\": [-0.08, -0.0775, -0.075, -0.0725, -0.07, -0.0675, -0.065, -0.0625, -0.06, -0.0575, -0.055, -0.0525, -0.05, -0.0475, -0.045, -0.0425, -0.04, -0.0375, -0.035, -0.0325, -0.03, -0.0275, -0.025, -0.0225, -0.02, -0.0175, -0.015, -0.0125, -0.01, -0.0075, -0.005, -0.0025, -0.0, 0.0025, 0.005, 0.0075, 0.01, 0.0125, 0.015, 0.0175, 0.02, 0.0225, 0.025, 0.0275, 0.03, 0.0325, 0.035, 0.0375, 0.04, 0.0425, 0.045, 0.0475, 0.05, 0.0525, 0.055, 0.0575, 0.06, 0.0625, 0.065, 0.0675, 0.07, 0.0725, 0.075, 0.0775, 0.08, 0.0825, 0.085, 0.0875, 0.09, 0.0925, 0.095, 0.0975, 0.1, 0.1025, 0.105, 0.1075, 0.11, 0.1125, 0.115, 0.1175, 0.12, 0.1225, 0.125, 0.1275, 0.13, 0.1325, 0.135, 0.1375, 0.14, 0.1425, 0.145, 0.1475, 0.15, 0.1525, 0.155, 0.1575, 0.16, 0.1625, 0.165, 0.1675, 0.17, 0.1725, 0.175, 0.1775, 0.18, 0.1825, 0.185, 0.1875, 0.19, 0.1925, 0.195, 0.1975, 0.2, 0.2025, 0.205, 0.2075, 0.21, 0.2125, 0.215, 0.2175, 0.22, 0.2225, 0.225, 0.2275, 0.23, 0.2325, 0.235, 0.2375, 0.24, 0.2425, 0.245, 0.2475, 0.25, 0.2525, 0.255, 0.2575, 0.26, 0.2625, 0.265, 0.2675, 0.27, 0.2725, 0.275, 0.2775, 0.28, 0.2825, 0.285, 0.2875, 0.29, 0.2925, 0.295, 0.2975, 0.3, 0.3025, 0.305, 0.3075, 0.31, 0.3125, 0.315, 0.3175, 0.32, 0.3225, 0.325, 0.3275, 0.33, 0.3325, 0.335, 0.3375, 0.34, 0.3425, 0.345, 0.3475, 0.35, 0.3525, 0.355, 0.3575, 0.36, 0.3625, 0.365, 0.3675, 0.37, 0.3725, 0.375, 0.3775, 0.38, 0.3825, 0.385, 0.3875, 0.39, 0.3925, 0.395, 0.3975, 0.4], \"xaxis\": \"x\", \"y\": [-0.005064, -0.006242, -0.004986, -0.006242, -0.004986, -0.004986, -0.006242, -0.006242, -0.006242, -0.006242, -0.002552, 0.004986, 0.016291999999999997, 0.02383, 0.03388, 0.04024, 0.047777999999999994, 0.05775, 0.066544, 0.076672, 0.0879, 0.099207, 0.11051400000000002, 0.123076, 0.139408, 0.153227, 0.169559, 0.182122, 0.199709, 0.217297, 0.233629, 0.251217, 0.268805, 0.28388, 0.30146799999999996, 0.319056, 0.336644, 0.352976, 0.369307, 0.384383, 0.403227, 0.419559, 0.43588999999999994, 0.453478, 0.46855399999999997, 0.483629, 0.499961, 0.516292, 0.530111, 0.5427529999999999, 0.559006, 0.5740810000000001, 0.5866439999999999, 0.60172, 0.6155390000000001, 0.6255890000000001, 0.639408, 0.651971, 0.6621, 0.6733279999999999, 0.68589, 0.6971970000000001, 0.704813, 0.717376, 0.72617, 0.738654, 0.747448, 0.757498, 0.7650359999999999, 0.77383, 0.782624, 0.7914180000000001, 0.799034, 0.806493, 0.8140310000000001, 0.820391, 0.82785, 0.8353879999999999, 0.841669, 0.847951, 0.8554879999999999, 0.860592, 0.865539, 0.8705639999999999, 0.8768450000000001, 0.88187, 0.885718, 0.891921, 0.895768, 0.9007149999999999, 0.904483, 0.9070739999999999, 0.9107649999999999, 0.91579, 0.919637, 0.92215, 0.92584, 0.9284309999999999, 0.9322, 0.93589, 0.939659, 0.94225, 0.943507, 0.945941, 0.9485319999999999, 0.949788, 0.953557, 0.9560690000000001, 0.9585819999999999, 0.959838, 0.9623510000000001, 0.963607, 0.9648629999999999, 0.9661200000000001, 0.967376, 0.9686319999999999, 0.969888, 0.971145, 0.9735790000000001, 0.974835, 0.9761700000000001, 0.977426, 0.9786819999999999, 0.981117, 0.981195, 0.981195, 0.9824510000000001, 0.983708, 0.983708, 0.984964, 0.9862200000000001, 0.9862200000000001, 0.9862200000000001, 0.987476, 0.988733, 0.988733, 0.988733, 0.9899889999999999, 0.9899889999999999, 0.991245, 0.992502, 0.991245, 0.992502, 0.993758, 0.993758, 0.994936, 0.996192, 0.9962700000000001, 0.995014, 0.996192, 0.9962700000000001, 0.9962700000000001, 0.997527, 0.997527, 0.997527, 0.997527, 0.998704, 0.998783, 0.998783, 0.998783, 1.000039, 0.998783, 0.9999610000000001, 0.9999610000000001, 1.000039, 1.000039, 1.000039, 1.000039, 1.000039, 1.001217, 1.000039, 1.000039, 1.000039, 1.000039, 1.000039, 1.000039, 1.001296, 1.001296, 1.001296, 1.001296, 1.001296, 1.001296, 1.001296, 1.001296, 1.001296, 1.001296, 1.001296, 1.001296, 1.001296, 1.001296, 1.002552, 1.001296, 1.001296], \"yaxis\": \"y\"}, {\"name\": \"dI/dt [A/s]\", \"type\": \"scatter\", \"x\": [-0.08, -0.0775, -0.075, -0.0725, -0.07, -0.0675, -0.065, -0.0625, -0.06, -0.0575, -0.055, -0.0525, -0.05, -0.0475, -0.045, -0.0425, -0.04, -0.0375, -0.035, -0.0325, -0.03, -0.0275, -0.025, -0.0225, -0.02, -0.0175, -0.015, -0.0125, -0.01, -0.0075, -0.005, -0.0025, -0.0, 0.0025, 0.005, 0.0075, 0.01, 0.0125, 0.015, 0.0175, 0.02, 0.0225, 0.025, 0.0275, 0.03, 0.0325, 0.035, 0.0375, 0.04, 0.0425, 0.045, 0.0475, 0.05, 0.0525, 0.055, 0.0575, 0.06, 0.0625, 0.065, 0.0675, 0.07, 0.0725, 0.075, 0.0775, 0.08, 0.0825, 0.085, 0.0875, 0.09, 0.0925, 0.095, 0.0975, 0.1, 0.1025, 0.105, 0.1075, 0.11, 0.1125, 0.115, 0.1175, 0.12, 0.1225, 0.125, 0.1275, 0.13, 0.1325, 0.135, 0.1375, 0.14, 0.1425, 0.145, 0.1475, 0.15, 0.1525, 0.155, 0.1575, 0.16, 0.1625, 0.165, 0.1675, 0.17, 0.1725, 0.175, 0.1775, 0.18, 0.1825, 0.185, 0.1875, 0.19, 0.1925, 0.195, 0.1975, 0.2, 0.2025, 0.205, 0.2075, 0.21, 0.2125, 0.215, 0.2175, 0.22, 0.2225, 0.225, 0.2275, 0.23, 0.2325, 0.235, 0.2375, 0.24, 0.2425, 0.245, 0.2475, 0.25, 0.2525, 0.255, 0.2575, 0.26, 0.2625, 0.265, 0.2675, 0.27, 0.2725, 0.275, 0.2775, 0.28, 0.2825, 0.285, 0.2875, 0.29, 0.2925, 0.295, 0.2975, 0.3, 0.3025, 0.305, 0.3075, 0.31, 0.3125, 0.315, 0.3175, 0.32, 0.3225, 0.325, 0.3275, 0.33, 0.3325, 0.335, 0.3375, 0.34, 0.3425, 0.345, 0.3475, 0.35, 0.3525, 0.355, 0.3575, 0.36, 0.3625, 0.365, 0.3675, 0.37, 0.3725, 0.375, 0.3775, 0.38, 0.3825, 0.385, 0.3875, 0.39, 0.3925, 0.395, 0.3975, 0.4], \"xaxis\": \"x\", \"y\": [-0.29847541265879407, -0.33420801801374633, -0.29354019279642785, -0.1872836098455828, -0.025326029165825936, 0.18331220408373916, 0.43042419359281237, 0.7085649776828191, 1.011002388277916, 1.3316702060773524, 1.6651235365316497, 2.0064963327982515, 2.351460993409825, 2.696189963930057, 3.0373192733976175, 3.3719139378690817, 3.6974351648657926, 4.011709294008143, 4.312898410583353, 4.599472570239708, 4.870183574431185, 5.124040237651675, 5.360285088897411, 5.578372451179801, 5.777947844278705, 5.958828657278171, 6.120986038762865, 6.264527953873781, 6.389683358726442, 6.496787443983564, 6.586267900647106, 6.658632162391839, 6.714455580003889, 6.754370484713281, 6.779056098419256, 6.789229250001089, 6.785635858085245, 6.7690431418020705, 6.740232522211732, 6.6999931782098265, 6.649116221838023, 6.588389459024178, 6.518592702859696, 6.440493607589378, 6.35484399254072, 6.262376626255481, 6.16380244210645, 6.05980815768658, 5.9510542712461625, 5.838173409426357, 5.721769001494244, 5.602414256225637, 5.4806514185071284, 5.3569912836382745, 5.231912948208469, 5.1058637773008835, 4.979259568637869, 4.852484895128436, 4.725893608108831, 4.5998094843818595, 4.47452700095935, 4.350312222195229, 4.227403784763775, 4.106013966689078, 3.9863298273672614, 3.868514406242804, 3.7527079685042812, 3.6390292868529786, 3.5275769490702036, 3.4184306817656696, 3.3116526813300395, 3.207288943739705, 3.1053705854709426, 3.00591514837398, 2.908927881934977, 2.8144029969156366, 2.722324884906125, 2.632669298857019, 2.545404490170305, 2.4604922984280035, 2.3778891903195714, 2.2975472447962284, 2.219415081931354, 2.1434387334013474, 2.069562452920926, 1.9977294653703197, 1.9278826537398492, 1.8599651833892255, 1.7939210634754028, 1.7296956457429173, 1.6672360611955979, 1.606491595477154, 1.5474140040812152, 1.4899577687886376, 1.4340802969912065, 1.3797420658066564, 1.326906713119362, 1.2755410778956184, 1.2256151923198049, 1.1771022284810577, 1.1299784025056754, 1.0842228391821207, 1.0398174002596914, 0.9967464797217342, 0.954996769437078, 0.9145569986812099, 0.8754176510905385, 0.837570662668571, 0.8010091045036267, 0.7657268538811906, 0.731718257483374, 0.6989777903602405, 0.6674997143339825, 0.6372777394602265, 0.6083046921126254, 0.5805721931901058, 0.5540703498561452, 0.5287874641213879, 0.5047097614586669, 0.4818211425085632, 0.4601029607847833, 0.4395338291191635, 0.4200894574101035, 0.401742524037461, 0.3844625830959556, 0.3682160093708715, 0.35296598273256397, 0.33867251337146875, 0.3252925090127423, 0.31277988496429376, 0.3010857175387338, 0.29015844107061817, 0.2799440884093727, 0.270386574412143, 0.26142802159223333, 0.25300912669093556, 0.2450695665389251, 0.23754844115226703, 0.230384751580333, 0.2235179095637081, 0.2168882756053705, 0.21043772156801577, 0.2041102134162509, 0.19785240921178904, 0.19161426693933592, 0.18534965618815757, 0.17901696717558124, 0.17257970999011718, 0.16600709637430366, 0.15927459572955627, 0.15236445642662666, 0.14526618284179893, 0.13797695790668918, 0.13050200026995995, 0.12285484449538409, 0.11505753200878299, 0.10714069978809526, 0.09914355307362932, 0.09111370759294779, 0.08310688606043382, 0.0751864529147106, 0.06742277045656486, 0.05989235874848742, 0.05267684079443935, 0.045861653686311676, 0.039534505534268405, 0.03378355711621328, 0.028695306313090363, 0.024352152454835796, 0.0208296168071902, 0.01819319446957124, 0.016494812017139537, 0.01576886422020607, 0.016027802228191668, 0.017257244555874962, 0.019410581236127378, 0.022403040422696918, 0.026105185729507596, 0.03033581145905373, 0.03485420186490096, 0.039351719438800004, 0.04344268612752877, 0.04665452023551531, 0.04841709064395694, 0.04805124882230771, 0.04475649787600933, 0.03759775676445454, 0.025491176550468175, 0.007188964334348569, -0.018736830683075745, -0.05391161588475413, -0.10017668674120817, -0.15960884054862223], \"yaxis\": \"y2\"}],\n",
       "                        {\"template\": {\"data\": {\"bar\": [{\"error_x\": {\"color\": \"#2a3f5f\"}, \"error_y\": {\"color\": \"#2a3f5f\"}, \"marker\": {\"line\": {\"color\": \"#E5ECF6\", \"width\": 0.5}}, \"type\": \"bar\"}], \"barpolar\": [{\"marker\": {\"line\": {\"color\": \"#E5ECF6\", \"width\": 0.5}}, \"type\": \"barpolar\"}], \"carpet\": [{\"aaxis\": {\"endlinecolor\": \"#2a3f5f\", \"gridcolor\": \"white\", \"linecolor\": \"white\", \"minorgridcolor\": \"white\", \"startlinecolor\": \"#2a3f5f\"}, \"baxis\": {\"endlinecolor\": \"#2a3f5f\", \"gridcolor\": \"white\", \"linecolor\": \"white\", \"minorgridcolor\": \"white\", \"startlinecolor\": \"#2a3f5f\"}, \"type\": \"carpet\"}], \"choropleth\": [{\"colorbar\": {\"outlinewidth\": 0, \"ticks\": \"\"}, \"type\": \"choropleth\"}], \"contour\": [{\"colorbar\": {\"outlinewidth\": 0, \"ticks\": \"\"}, \"colorscale\": [[0.0, \"#0d0887\"], [0.1111111111111111, \"#46039f\"], [0.2222222222222222, \"#7201a8\"], [0.3333333333333333, \"#9c179e\"], [0.4444444444444444, \"#bd3786\"], [0.5555555555555556, \"#d8576b\"], [0.6666666666666666, \"#ed7953\"], [0.7777777777777778, \"#fb9f3a\"], [0.8888888888888888, \"#fdca26\"], [1.0, \"#f0f921\"]], \"type\": \"contour\"}], \"contourcarpet\": [{\"colorbar\": {\"outlinewidth\": 0, \"ticks\": \"\"}, \"type\": \"contourcarpet\"}], \"heatmap\": [{\"colorbar\": {\"outlinewidth\": 0, \"ticks\": \"\"}, \"colorscale\": [[0.0, \"#0d0887\"], [0.1111111111111111, \"#46039f\"], [0.2222222222222222, \"#7201a8\"], [0.3333333333333333, \"#9c179e\"], [0.4444444444444444, \"#bd3786\"], [0.5555555555555556, \"#d8576b\"], [0.6666666666666666, \"#ed7953\"], [0.7777777777777778, \"#fb9f3a\"], [0.8888888888888888, \"#fdca26\"], [1.0, \"#f0f921\"]], \"type\": \"heatmap\"}], \"heatmapgl\": [{\"colorbar\": {\"outlinewidth\": 0, \"ticks\": \"\"}, \"colorscale\": [[0.0, \"#0d0887\"], [0.1111111111111111, \"#46039f\"], [0.2222222222222222, \"#7201a8\"], [0.3333333333333333, \"#9c179e\"], [0.4444444444444444, \"#bd3786\"], [0.5555555555555556, \"#d8576b\"], [0.6666666666666666, \"#ed7953\"], [0.7777777777777778, \"#fb9f3a\"], [0.8888888888888888, \"#fdca26\"], [1.0, \"#f0f921\"]], \"type\": \"heatmapgl\"}], \"histogram\": [{\"marker\": {\"colorbar\": {\"outlinewidth\": 0, \"ticks\": \"\"}}, \"type\": \"histogram\"}], \"histogram2d\": [{\"colorbar\": {\"outlinewidth\": 0, \"ticks\": \"\"}, \"colorscale\": [[0.0, \"#0d0887\"], [0.1111111111111111, \"#46039f\"], [0.2222222222222222, \"#7201a8\"], [0.3333333333333333, \"#9c179e\"], [0.4444444444444444, \"#bd3786\"], [0.5555555555555556, \"#d8576b\"], [0.6666666666666666, \"#ed7953\"], [0.7777777777777778, \"#fb9f3a\"], [0.8888888888888888, \"#fdca26\"], [1.0, \"#f0f921\"]], \"type\": \"histogram2d\"}], \"histogram2dcontour\": [{\"colorbar\": {\"outlinewidth\": 0, \"ticks\": \"\"}, \"colorscale\": [[0.0, \"#0d0887\"], [0.1111111111111111, \"#46039f\"], [0.2222222222222222, \"#7201a8\"], [0.3333333333333333, \"#9c179e\"], [0.4444444444444444, \"#bd3786\"], [0.5555555555555556, \"#d8576b\"], [0.6666666666666666, \"#ed7953\"], [0.7777777777777778, \"#fb9f3a\"], [0.8888888888888888, \"#fdca26\"], [1.0, \"#f0f921\"]], \"type\": \"histogram2dcontour\"}], \"mesh3d\": [{\"colorbar\": {\"outlinewidth\": 0, \"ticks\": \"\"}, \"type\": \"mesh3d\"}], \"parcoords\": [{\"line\": {\"colorbar\": {\"outlinewidth\": 0, \"ticks\": \"\"}}, \"type\": \"parcoords\"}], \"scatter\": [{\"marker\": {\"colorbar\": {\"outlinewidth\": 0, \"ticks\": \"\"}}, \"type\": \"scatter\"}], \"scatter3d\": [{\"line\": {\"colorbar\": {\"outlinewidth\": 0, \"ticks\": \"\"}}, \"marker\": {\"colorbar\": {\"outlinewidth\": 0, \"ticks\": \"\"}}, \"type\": \"scatter3d\"}], \"scattercarpet\": [{\"marker\": {\"colorbar\": {\"outlinewidth\": 0, \"ticks\": \"\"}}, \"type\": \"scattercarpet\"}], \"scattergeo\": [{\"marker\": {\"colorbar\": {\"outlinewidth\": 0, \"ticks\": \"\"}}, \"type\": \"scattergeo\"}], \"scattergl\": [{\"marker\": {\"colorbar\": {\"outlinewidth\": 0, \"ticks\": \"\"}}, \"type\": \"scattergl\"}], \"scattermapbox\": [{\"marker\": {\"colorbar\": {\"outlinewidth\": 0, \"ticks\": \"\"}}, \"type\": \"scattermapbox\"}], \"scatterpolar\": [{\"marker\": {\"colorbar\": {\"outlinewidth\": 0, \"ticks\": \"\"}}, \"type\": \"scatterpolar\"}], \"scatterpolargl\": [{\"marker\": {\"colorbar\": {\"outlinewidth\": 0, \"ticks\": \"\"}}, \"type\": \"scatterpolargl\"}], \"scatterternary\": [{\"marker\": {\"colorbar\": {\"outlinewidth\": 0, \"ticks\": \"\"}}, \"type\": \"scatterternary\"}], \"surface\": [{\"colorbar\": {\"outlinewidth\": 0, \"ticks\": \"\"}, \"colorscale\": [[0.0, \"#0d0887\"], [0.1111111111111111, \"#46039f\"], [0.2222222222222222, \"#7201a8\"], [0.3333333333333333, \"#9c179e\"], [0.4444444444444444, \"#bd3786\"], [0.5555555555555556, \"#d8576b\"], [0.6666666666666666, \"#ed7953\"], [0.7777777777777778, \"#fb9f3a\"], [0.8888888888888888, \"#fdca26\"], [1.0, \"#f0f921\"]], \"type\": \"surface\"}], \"table\": [{\"cells\": {\"fill\": {\"color\": \"#EBF0F8\"}, \"line\": {\"color\": \"white\"}}, \"header\": {\"fill\": {\"color\": \"#C8D4E3\"}, \"line\": {\"color\": \"white\"}}, \"type\": \"table\"}]}, \"layout\": {\"annotationdefaults\": {\"arrowcolor\": \"#2a3f5f\", \"arrowhead\": 0, \"arrowwidth\": 1}, \"colorscale\": {\"diverging\": [[0, \"#8e0152\"], [0.1, \"#c51b7d\"], [0.2, \"#de77ae\"], [0.3, \"#f1b6da\"], [0.4, \"#fde0ef\"], [0.5, \"#f7f7f7\"], [0.6, \"#e6f5d0\"], [0.7, \"#b8e186\"], [0.8, \"#7fbc41\"], [0.9, \"#4d9221\"], [1, \"#276419\"]], \"sequential\": [[0.0, \"#0d0887\"], [0.1111111111111111, \"#46039f\"], [0.2222222222222222, \"#7201a8\"], [0.3333333333333333, \"#9c179e\"], [0.4444444444444444, \"#bd3786\"], [0.5555555555555556, \"#d8576b\"], [0.6666666666666666, \"#ed7953\"], [0.7777777777777778, \"#fb9f3a\"], [0.8888888888888888, \"#fdca26\"], [1.0, \"#f0f921\"]], \"sequentialminus\": [[0.0, \"#0d0887\"], [0.1111111111111111, \"#46039f\"], [0.2222222222222222, \"#7201a8\"], [0.3333333333333333, \"#9c179e\"], [0.4444444444444444, \"#bd3786\"], [0.5555555555555556, \"#d8576b\"], [0.6666666666666666, \"#ed7953\"], [0.7777777777777778, \"#fb9f3a\"], [0.8888888888888888, \"#fdca26\"], [1.0, \"#f0f921\"]]}, \"colorway\": [\"#636efa\", \"#EF553B\", \"#00cc96\", \"#ab63fa\", \"#FFA15A\", \"#19d3f3\", \"#FF6692\", \"#B6E880\", \"#FF97FF\", \"#FECB52\"], \"font\": {\"color\": \"#2a3f5f\"}, \"geo\": {\"bgcolor\": \"white\", \"lakecolor\": \"white\", \"landcolor\": \"#E5ECF6\", \"showlakes\": true, \"showland\": true, \"subunitcolor\": \"white\"}, \"hoverlabel\": {\"align\": \"left\"}, \"hovermode\": \"closest\", \"mapbox\": {\"style\": \"light\"}, \"paper_bgcolor\": \"white\", \"plot_bgcolor\": \"#E5ECF6\", \"polar\": {\"angularaxis\": {\"gridcolor\": \"white\", \"linecolor\": \"white\", \"ticks\": \"\"}, \"bgcolor\": \"#E5ECF6\", \"radialaxis\": {\"gridcolor\": \"white\", \"linecolor\": \"white\", \"ticks\": \"\"}}, \"scene\": {\"xaxis\": {\"backgroundcolor\": \"#E5ECF6\", \"gridcolor\": \"white\", \"gridwidth\": 2, \"linecolor\": \"white\", \"showbackground\": true, \"ticks\": \"\", \"zerolinecolor\": \"white\"}, \"yaxis\": {\"backgroundcolor\": \"#E5ECF6\", \"gridcolor\": \"white\", \"gridwidth\": 2, \"linecolor\": \"white\", \"showbackground\": true, \"ticks\": \"\", \"zerolinecolor\": \"white\"}, \"zaxis\": {\"backgroundcolor\": \"#E5ECF6\", \"gridcolor\": \"white\", \"gridwidth\": 2, \"linecolor\": \"white\", \"showbackground\": true, \"ticks\": \"\", \"zerolinecolor\": \"white\"}}, \"shapedefaults\": {\"line\": {\"color\": \"#2a3f5f\"}}, \"ternary\": {\"aaxis\": {\"gridcolor\": \"white\", \"linecolor\": \"white\", \"ticks\": \"\"}, \"baxis\": {\"gridcolor\": \"white\", \"linecolor\": \"white\", \"ticks\": \"\"}, \"bgcolor\": \"#E5ECF6\", \"caxis\": {\"gridcolor\": \"white\", \"linecolor\": \"white\", \"ticks\": \"\"}}, \"title\": {\"x\": 0.05}, \"xaxis\": {\"automargin\": true, \"gridcolor\": \"white\", \"linecolor\": \"white\", \"ticks\": \"\", \"zerolinecolor\": \"white\", \"zerolinewidth\": 2}, \"yaxis\": {\"automargin\": true, \"gridcolor\": \"white\", \"linecolor\": \"white\", \"ticks\": \"\", \"zerolinecolor\": \"white\", \"zerolinewidth\": 2}}}, \"title\": {\"text\": \"<b>dI/dt(A/s) versus I(A) on Step 0-1A</b>\"}, \"xaxis\": {\"anchor\": \"y\", \"domain\": [0.0, 0.94], \"title\": {\"text\": \"time (s)\"}}, \"yaxis\": {\"anchor\": \"x\", \"domain\": [0.0, 1.0], \"title\": {\"text\": \"<b>primary</b> I[A]\"}}, \"yaxis2\": {\"anchor\": \"x\", \"overlaying\": \"y\", \"showgrid\": false, \"side\": \"right\", \"title\": {\"text\": \"<b>secondary</b> dI/dt [A/s]\"}}},\n",
       "                        {\"responsive\": true}\n",
       "                    ).then(function(){\n",
       "                            \n",
       "var gd = document.getElementById('71edcf94-466e-40f2-a4ce-adc2017837ed');\n",
       "var x = new MutationObserver(function (mutations, observer) {{\n",
       "        var display = window.getComputedStyle(gd).display;\n",
       "        if (!display || display === 'none') {{\n",
       "            console.log([gd, 'removed!']);\n",
       "            Plotly.purge(gd);\n",
       "            observer.disconnect();\n",
       "        }}\n",
       "}});\n",
       "\n",
       "// Listen for the removal of the full notebook cells\n",
       "var notebookContainer = gd.closest('#notebook-container');\n",
       "if (notebookContainer) {{\n",
       "    x.observe(notebookContainer, {childList: true});\n",
       "}}\n",
       "\n",
       "// Listen for the clearing of the current output cell\n",
       "var outputEl = gd.closest('.output');\n",
       "if (outputEl) {{\n",
       "    x.observe(outputEl, {childList: true});\n",
       "}}\n",
       "\n",
       "                        })\n",
       "                };\n",
       "                });\n",
       "            </script>\n",
       "        </div>"
      ]
     },
     "metadata": {},
     "output_type": "display_data"
    }
   ],
   "source": [
    "from plotly.subplots import make_subplots\n",
    "\n",
    "# Create figure with secondary y-axis\n",
    "fig = make_subplots(specs=[[{\"secondary_y\": True}]])\n",
    "\n",
    "# Add traces\n",
    "fig.add_trace(\n",
    "    go.Scatter(x=lista_de_dfs[0]['time(s)'], y=lista_de_dfs[0]['I(A)'], name=\"I [A]\"),\n",
    "    secondary_y=False,\n",
    ")\n",
    "\n",
    "fig.add_trace(\n",
    "    go.Scatter(x=lista_de_dfs[0]['time(s)'], y=lista_de_dfs[0]['dI/dt'], name=\"dI/dt [A/s]\"),\n",
    "    secondary_y=True,\n",
    ")\n",
    "\n",
    "# Add figure title\n",
    "fig.update_layout(\n",
    "    title_text=\"<b>dI/dt(A/s) versus I(A) on Step 0-1A</b>\"\n",
    ")\n",
    "\n",
    "# Set x-axis title\n",
    "fig.update_xaxes(title_text=\"time (s)\")\n",
    "\n",
    "# Set y-axes titles\n",
    "fig.update_yaxes(title_text=\"<b>primary</b> I[A]\", secondary_y=False)\n",
    "fig.update_yaxes(title_text=\"<b>secondary</b> dI/dt [A/s]\", secondary_y=True, showgrid=False)\n",
    "\n",
    "fig.show()\n",
    "\n"
   ]
  },
  {
   "cell_type": "code",
   "execution_count": 83,
   "metadata": {},
   "outputs": [
    {
     "data": {
      "application/vnd.plotly.v1+json": {
       "config": {
        "plotlyServerURL": "https://plot.ly"
       },
       "data": [
        {
         "name": "0-1A I[A]",
         "type": "scatter",
         "x": [
          -0.08,
          -0.0775,
          -0.075,
          -0.0725,
          -0.07,
          -0.0675,
          -0.065,
          -0.0625,
          -0.06,
          -0.0575,
          -0.055,
          -0.0525,
          -0.05,
          -0.0475,
          -0.045,
          -0.0425,
          -0.04,
          -0.0375,
          -0.035,
          -0.0325,
          -0.03,
          -0.0275,
          -0.025,
          -0.0225,
          -0.02,
          -0.0175,
          -0.015,
          -0.0125,
          -0.01,
          -0.0075,
          -0.005,
          -0.0025,
          0,
          0.0025,
          0.005,
          0.0075,
          0.01,
          0.0125,
          0.015,
          0.0175,
          0.02,
          0.0225,
          0.025,
          0.0275,
          0.03,
          0.0325,
          0.035,
          0.0375,
          0.04,
          0.0425,
          0.045,
          0.0475,
          0.05,
          0.0525,
          0.055,
          0.0575,
          0.06,
          0.0625,
          0.065,
          0.0675,
          0.07,
          0.0725,
          0.075,
          0.0775,
          0.08,
          0.0825,
          0.085,
          0.0875,
          0.09,
          0.0925,
          0.095,
          0.0975,
          0.1,
          0.1025,
          0.105,
          0.1075,
          0.11,
          0.1125,
          0.115,
          0.1175,
          0.12,
          0.1225,
          0.125,
          0.1275,
          0.13,
          0.1325,
          0.135,
          0.1375,
          0.14,
          0.1425,
          0.145,
          0.1475,
          0.15,
          0.1525,
          0.155,
          0.1575,
          0.16,
          0.1625,
          0.165,
          0.1675,
          0.17,
          0.1725,
          0.175,
          0.1775,
          0.18,
          0.1825,
          0.185,
          0.1875,
          0.19,
          0.1925,
          0.195,
          0.1975,
          0.2,
          0.2025,
          0.205,
          0.2075,
          0.21,
          0.2125,
          0.215,
          0.2175,
          0.22,
          0.2225,
          0.225,
          0.2275,
          0.23,
          0.2325,
          0.235,
          0.2375,
          0.24,
          0.2425,
          0.245,
          0.2475,
          0.25,
          0.2525,
          0.255,
          0.2575,
          0.26,
          0.2625,
          0.265,
          0.2675,
          0.27,
          0.2725,
          0.275,
          0.2775,
          0.28,
          0.2825,
          0.285,
          0.2875,
          0.29,
          0.2925,
          0.295,
          0.2975,
          0.3,
          0.3025,
          0.305,
          0.3075,
          0.31,
          0.3125,
          0.315,
          0.3175,
          0.32,
          0.3225,
          0.325,
          0.3275,
          0.33,
          0.3325,
          0.335,
          0.3375,
          0.34,
          0.3425,
          0.345,
          0.3475,
          0.35,
          0.3525,
          0.355,
          0.3575,
          0.36,
          0.3625,
          0.365,
          0.3675,
          0.37,
          0.3725,
          0.375,
          0.3775,
          0.38,
          0.3825,
          0.385,
          0.3875,
          0.39,
          0.3925,
          0.395,
          0.3975,
          0.4
         ],
         "xaxis": "x",
         "y": [
          -0.005064,
          -0.006242,
          -0.004986,
          -0.006242,
          -0.004986,
          -0.004986,
          -0.006242,
          -0.006242,
          -0.006242,
          -0.006242,
          -0.002552,
          0.004986,
          0.016291999999999997,
          0.02383,
          0.03388,
          0.04024,
          0.047777999999999994,
          0.05775,
          0.066544,
          0.076672,
          0.0879,
          0.099207,
          0.11051400000000002,
          0.123076,
          0.139408,
          0.153227,
          0.169559,
          0.182122,
          0.199709,
          0.217297,
          0.233629,
          0.251217,
          0.268805,
          0.28388,
          0.30146799999999996,
          0.319056,
          0.336644,
          0.352976,
          0.369307,
          0.384383,
          0.403227,
          0.419559,
          0.43588999999999994,
          0.453478,
          0.46855399999999997,
          0.483629,
          0.499961,
          0.516292,
          0.530111,
          0.5427529999999999,
          0.559006,
          0.5740810000000001,
          0.5866439999999999,
          0.60172,
          0.6155390000000001,
          0.6255890000000001,
          0.639408,
          0.651971,
          0.6621,
          0.6733279999999999,
          0.68589,
          0.6971970000000001,
          0.704813,
          0.717376,
          0.72617,
          0.738654,
          0.747448,
          0.757498,
          0.7650359999999999,
          0.77383,
          0.782624,
          0.7914180000000001,
          0.799034,
          0.806493,
          0.8140310000000001,
          0.820391,
          0.82785,
          0.8353879999999999,
          0.841669,
          0.847951,
          0.8554879999999999,
          0.860592,
          0.865539,
          0.8705639999999999,
          0.8768450000000001,
          0.88187,
          0.885718,
          0.891921,
          0.895768,
          0.9007149999999999,
          0.904483,
          0.9070739999999999,
          0.9107649999999999,
          0.91579,
          0.919637,
          0.92215,
          0.92584,
          0.9284309999999999,
          0.9322,
          0.93589,
          0.939659,
          0.94225,
          0.943507,
          0.945941,
          0.9485319999999999,
          0.949788,
          0.953557,
          0.9560690000000001,
          0.9585819999999999,
          0.959838,
          0.9623510000000001,
          0.963607,
          0.9648629999999999,
          0.9661200000000001,
          0.967376,
          0.9686319999999999,
          0.969888,
          0.971145,
          0.9735790000000001,
          0.974835,
          0.9761700000000001,
          0.977426,
          0.9786819999999999,
          0.981117,
          0.981195,
          0.981195,
          0.9824510000000001,
          0.983708,
          0.983708,
          0.984964,
          0.9862200000000001,
          0.9862200000000001,
          0.9862200000000001,
          0.987476,
          0.988733,
          0.988733,
          0.988733,
          0.9899889999999999,
          0.9899889999999999,
          0.991245,
          0.992502,
          0.991245,
          0.992502,
          0.993758,
          0.993758,
          0.994936,
          0.996192,
          0.9962700000000001,
          0.995014,
          0.996192,
          0.9962700000000001,
          0.9962700000000001,
          0.997527,
          0.997527,
          0.997527,
          0.997527,
          0.998704,
          0.998783,
          0.998783,
          0.998783,
          1.000039,
          0.998783,
          0.9999610000000001,
          0.9999610000000001,
          1.000039,
          1.000039,
          1.000039,
          1.000039,
          1.000039,
          1.001217,
          1.000039,
          1.000039,
          1.000039,
          1.000039,
          1.000039,
          1.000039,
          1.001296,
          1.001296,
          1.001296,
          1.001296,
          1.001296,
          1.001296,
          1.001296,
          1.001296,
          1.001296,
          1.001296,
          1.001296,
          1.001296,
          1.001296,
          1.001296,
          1.002552,
          1.001296,
          1.001296
         ],
         "yaxis": "y"
        },
        {
         "name": "0-1A dI/dt[A/s]",
         "type": "scatter",
         "x": [
          -0.08,
          -0.0775,
          -0.075,
          -0.0725,
          -0.07,
          -0.0675,
          -0.065,
          -0.0625,
          -0.06,
          -0.0575,
          -0.055,
          -0.0525,
          -0.05,
          -0.0475,
          -0.045,
          -0.0425,
          -0.04,
          -0.0375,
          -0.035,
          -0.0325,
          -0.03,
          -0.0275,
          -0.025,
          -0.0225,
          -0.02,
          -0.0175,
          -0.015,
          -0.0125,
          -0.01,
          -0.0075,
          -0.005,
          -0.0025,
          0,
          0.0025,
          0.005,
          0.0075,
          0.01,
          0.0125,
          0.015,
          0.0175,
          0.02,
          0.0225,
          0.025,
          0.0275,
          0.03,
          0.0325,
          0.035,
          0.0375,
          0.04,
          0.0425,
          0.045,
          0.0475,
          0.05,
          0.0525,
          0.055,
          0.0575,
          0.06,
          0.0625,
          0.065,
          0.0675,
          0.07,
          0.0725,
          0.075,
          0.0775,
          0.08,
          0.0825,
          0.085,
          0.0875,
          0.09,
          0.0925,
          0.095,
          0.0975,
          0.1,
          0.1025,
          0.105,
          0.1075,
          0.11,
          0.1125,
          0.115,
          0.1175,
          0.12,
          0.1225,
          0.125,
          0.1275,
          0.13,
          0.1325,
          0.135,
          0.1375,
          0.14,
          0.1425,
          0.145,
          0.1475,
          0.15,
          0.1525,
          0.155,
          0.1575,
          0.16,
          0.1625,
          0.165,
          0.1675,
          0.17,
          0.1725,
          0.175,
          0.1775,
          0.18,
          0.1825,
          0.185,
          0.1875,
          0.19,
          0.1925,
          0.195,
          0.1975,
          0.2,
          0.2025,
          0.205,
          0.2075,
          0.21,
          0.2125,
          0.215,
          0.2175,
          0.22,
          0.2225,
          0.225,
          0.2275,
          0.23,
          0.2325,
          0.235,
          0.2375,
          0.24,
          0.2425,
          0.245,
          0.2475,
          0.25,
          0.2525,
          0.255,
          0.2575,
          0.26,
          0.2625,
          0.265,
          0.2675,
          0.27,
          0.2725,
          0.275,
          0.2775,
          0.28,
          0.2825,
          0.285,
          0.2875,
          0.29,
          0.2925,
          0.295,
          0.2975,
          0.3,
          0.3025,
          0.305,
          0.3075,
          0.31,
          0.3125,
          0.315,
          0.3175,
          0.32,
          0.3225,
          0.325,
          0.3275,
          0.33,
          0.3325,
          0.335,
          0.3375,
          0.34,
          0.3425,
          0.345,
          0.3475,
          0.35,
          0.3525,
          0.355,
          0.3575,
          0.36,
          0.3625,
          0.365,
          0.3675,
          0.37,
          0.3725,
          0.375,
          0.3775,
          0.38,
          0.3825,
          0.385,
          0.3875,
          0.39,
          0.3925,
          0.395,
          0.3975,
          0.4
         ],
         "xaxis": "x",
         "y": [
          -0.29847541265879407,
          -0.33420801801374633,
          -0.29354019279642785,
          -0.1872836098455828,
          -0.025326029165825936,
          0.18331220408373916,
          0.43042419359281237,
          0.7085649776828191,
          1.011002388277916,
          1.3316702060773524,
          1.6651235365316497,
          2.0064963327982515,
          2.351460993409825,
          2.696189963930057,
          3.0373192733976175,
          3.3719139378690817,
          3.6974351648657926,
          4.011709294008143,
          4.312898410583353,
          4.599472570239708,
          4.870183574431185,
          5.124040237651675,
          5.360285088897411,
          5.578372451179801,
          5.777947844278705,
          5.958828657278171,
          6.120986038762865,
          6.264527953873781,
          6.389683358726442,
          6.496787443983564,
          6.586267900647106,
          6.658632162391839,
          6.714455580003889,
          6.754370484713281,
          6.779056098419256,
          6.789229250001089,
          6.785635858085245,
          6.7690431418020705,
          6.740232522211732,
          6.6999931782098265,
          6.649116221838023,
          6.588389459024178,
          6.518592702859696,
          6.440493607589378,
          6.35484399254072,
          6.262376626255481,
          6.16380244210645,
          6.05980815768658,
          5.9510542712461625,
          5.838173409426357,
          5.721769001494244,
          5.602414256225637,
          5.4806514185071284,
          5.3569912836382745,
          5.231912948208469,
          5.1058637773008835,
          4.979259568637869,
          4.852484895128436,
          4.725893608108831,
          4.5998094843818595,
          4.47452700095935,
          4.350312222195229,
          4.227403784763775,
          4.106013966689078,
          3.9863298273672614,
          3.868514406242804,
          3.7527079685042812,
          3.6390292868529786,
          3.5275769490702036,
          3.4184306817656696,
          3.3116526813300395,
          3.207288943739705,
          3.1053705854709426,
          3.00591514837398,
          2.908927881934977,
          2.8144029969156366,
          2.722324884906125,
          2.632669298857019,
          2.545404490170305,
          2.4604922984280035,
          2.3778891903195714,
          2.2975472447962284,
          2.219415081931354,
          2.1434387334013474,
          2.069562452920926,
          1.9977294653703197,
          1.9278826537398492,
          1.8599651833892255,
          1.7939210634754028,
          1.7296956457429173,
          1.6672360611955979,
          1.606491595477154,
          1.5474140040812152,
          1.4899577687886376,
          1.4340802969912065,
          1.3797420658066564,
          1.326906713119362,
          1.2755410778956184,
          1.2256151923198049,
          1.1771022284810577,
          1.1299784025056754,
          1.0842228391821207,
          1.0398174002596914,
          0.9967464797217342,
          0.954996769437078,
          0.9145569986812099,
          0.8754176510905385,
          0.837570662668571,
          0.8010091045036267,
          0.7657268538811906,
          0.731718257483374,
          0.6989777903602405,
          0.6674997143339825,
          0.6372777394602265,
          0.6083046921126254,
          0.5805721931901058,
          0.5540703498561452,
          0.5287874641213879,
          0.5047097614586669,
          0.4818211425085632,
          0.4601029607847833,
          0.4395338291191635,
          0.4200894574101035,
          0.401742524037461,
          0.3844625830959556,
          0.3682160093708715,
          0.35296598273256397,
          0.33867251337146875,
          0.3252925090127423,
          0.31277988496429376,
          0.3010857175387338,
          0.29015844107061817,
          0.2799440884093727,
          0.270386574412143,
          0.26142802159223333,
          0.25300912669093556,
          0.2450695665389251,
          0.23754844115226703,
          0.230384751580333,
          0.2235179095637081,
          0.2168882756053705,
          0.21043772156801577,
          0.2041102134162509,
          0.19785240921178904,
          0.19161426693933592,
          0.18534965618815757,
          0.17901696717558124,
          0.17257970999011718,
          0.16600709637430366,
          0.15927459572955627,
          0.15236445642662666,
          0.14526618284179893,
          0.13797695790668918,
          0.13050200026995995,
          0.12285484449538409,
          0.11505753200878299,
          0.10714069978809526,
          0.09914355307362932,
          0.09111370759294779,
          0.08310688606043382,
          0.0751864529147106,
          0.06742277045656486,
          0.05989235874848742,
          0.05267684079443935,
          0.045861653686311676,
          0.039534505534268405,
          0.03378355711621328,
          0.028695306313090363,
          0.024352152454835796,
          0.0208296168071902,
          0.01819319446957124,
          0.016494812017139537,
          0.01576886422020607,
          0.016027802228191668,
          0.017257244555874962,
          0.019410581236127378,
          0.022403040422696918,
          0.026105185729507596,
          0.03033581145905373,
          0.03485420186490096,
          0.039351719438800004,
          0.04344268612752877,
          0.04665452023551531,
          0.04841709064395694,
          0.04805124882230771,
          0.04475649787600933,
          0.03759775676445454,
          0.025491176550468175,
          0.007188964334348569,
          -0.018736830683075745,
          -0.05391161588475413,
          -0.10017668674120817,
          -0.15960884054862223
         ],
         "yaxis": "y2"
        },
        {
         "name": "0-2A I[A]",
         "type": "scatter",
         "x": [
          -0.08,
          -0.0775,
          -0.075,
          -0.0725,
          -0.07,
          -0.0675,
          -0.065,
          -0.0625,
          -0.06,
          -0.0575,
          -0.055,
          -0.0525,
          -0.05,
          -0.0475,
          -0.045,
          -0.0425,
          -0.04,
          -0.0375,
          -0.035,
          -0.0325,
          -0.03,
          -0.0275,
          -0.025,
          -0.0225,
          -0.02,
          -0.0175,
          -0.015,
          -0.0125,
          -0.01,
          -0.0075,
          -0.005,
          -0.0025,
          0,
          0.0025,
          0.005,
          0.0075,
          0.01,
          0.0125,
          0.015,
          0.0175,
          0.02,
          0.0225,
          0.025,
          0.0275,
          0.03,
          0.0325,
          0.035,
          0.0375,
          0.04,
          0.0425,
          0.045,
          0.0475,
          0.05,
          0.0525,
          0.055,
          0.0575,
          0.06,
          0.0625,
          0.065,
          0.0675,
          0.07,
          0.0725,
          0.075,
          0.0775,
          0.08,
          0.0825,
          0.085,
          0.0875,
          0.09,
          0.0925,
          0.095,
          0.0975,
          0.1,
          0.1025,
          0.105,
          0.1075,
          0.11,
          0.1125,
          0.115,
          0.1175,
          0.12,
          0.1225,
          0.125,
          0.1275,
          0.13,
          0.1325,
          0.135,
          0.1375,
          0.14,
          0.1425,
          0.145,
          0.1475,
          0.15,
          0.1525,
          0.155,
          0.1575,
          0.16,
          0.1625,
          0.165,
          0.1675,
          0.17,
          0.1725,
          0.175,
          0.1775,
          0.18,
          0.1825,
          0.185,
          0.1875,
          0.19,
          0.1925,
          0.195,
          0.1975,
          0.2,
          0.2025,
          0.205,
          0.2075,
          0.21,
          0.2125,
          0.215,
          0.2175,
          0.22,
          0.2225,
          0.225,
          0.2275,
          0.23,
          0.2325,
          0.235,
          0.2375,
          0.24,
          0.2425,
          0.245,
          0.2475,
          0.25,
          0.2525,
          0.255,
          0.2575,
          0.26,
          0.2625,
          0.265,
          0.2675,
          0.27,
          0.2725,
          0.275,
          0.2775,
          0.28,
          0.2825,
          0.285,
          0.2875,
          0.29,
          0.2925,
          0.295,
          0.2975,
          0.3,
          0.3025,
          0.305,
          0.3075,
          0.31,
          0.3125,
          0.315,
          0.3175,
          0.32,
          0.3225,
          0.325,
          0.3275,
          0.33,
          0.3325,
          0.335,
          0.3375,
          0.34,
          0.3425,
          0.345,
          0.3475,
          0.35,
          0.3525,
          0.355,
          0.3575,
          0.36,
          0.3625,
          0.365,
          0.3675,
          0.37,
          0.3725,
          0.375,
          0.3775,
          0.38,
          0.3825,
          0.385,
          0.3875,
          0.39,
          0.3925,
          0.395,
          0.3975,
          0.4
         ],
         "xaxis": "x2",
         "y": [
          -0.006242,
          -0.006242,
          -0.004986,
          -0.006242,
          -0.004986,
          -0.004986,
          -0.004986,
          -0.005064,
          -0.005064,
          -0.004986,
          -0.004986,
          -0.004986,
          -0.004986,
          -0.006242,
          -0.004986,
          -0.004986,
          -0.004986,
          -0.006242,
          -0.0038079999999999998,
          0.007498,
          0.027599000000000002,
          0.046443,
          0.06403099999999999,
          0.080363,
          0.096694,
          0.113026,
          0.128101,
          0.148202,
          0.169559,
          0.192172,
          0.217297,
          0.242423,
          0.268805,
          0.29644299999999996,
          0.325338,
          0.356745,
          0.385639,
          0.419559,
          0.452222,
          0.484885,
          0.5188050000000001,
          0.552725,
          0.5866439999999999,
          0.6218199999999999,
          0.65574,
          0.689659,
          0.7223229999999999,
          0.757498,
          0.7914180000000001,
          0.824081,
          0.8592569999999999,
          0.891921,
          0.923328,
          0.957247,
          0.987398,
          1.018805,
          1.047699,
          1.079106,
          1.108001,
          1.1356389999999998,
          1.1632770000000001,
          1.189659,
          1.2172969999999999,
          1.242423,
          1.267549,
          1.2926739999999999,
          1.3165440000000002,
          1.3404129999999999,
          1.363026,
          1.384383,
          1.406996,
          1.428353,
          1.448453,
          1.4672969999999999,
          1.487398,
          1.5049860000000002,
          1.5250860000000002,
          1.5426739999999999,
          1.559006,
          1.572825,
          1.5904129999999999,
          1.606745,
          1.62182,
          1.634383,
          1.649458,
          1.6632770000000001,
          1.6758400000000002,
          1.6871470000000002,
          1.699709,
          1.711016,
          1.7235790000000002,
          1.733629,
          1.7450139999999998,
          1.75373,
          1.7662919999999998,
          1.7726520000000001,
          1.7826240000000002,
          1.791418,
          1.801468,
          1.807828,
          1.816544,
          1.8241599999999998,
          1.830441,
          1.839157,
          1.8466939999999998,
          1.850542,
          1.8580009999999998,
          1.8643610000000002,
          1.869307,
          1.873155,
          1.880614,
          1.885718,
          1.889486,
          1.8944330000000003,
          1.899458,
          1.9033060000000002,
          1.9070740000000002,
          1.910843,
          1.914612,
          1.9183810000000001,
          1.9234060000000002,
          1.927175,
          1.929609,
          1.9321220000000001,
          1.9347130000000001,
          1.9384810000000001,
          1.9409939999999999,
          1.944763,
          1.946019,
          1.948532,
          1.950966,
          1.9523009999999998,
          1.953557,
          1.955991,
          1.958582,
          1.9598380000000002,
          1.9623509999999997,
          1.9647849999999998,
          1.964863,
          1.967297,
          1.968632,
          1.968632,
          1.969888,
          1.9711450000000001,
          1.972323,
          1.9724009999999998,
          1.973657,
          1.9749139999999998,
          1.9749139999999998,
          1.9773479999999999,
          1.978682,
          1.979939,
          1.981195,
          1.981195,
          1.9824509999999997,
          1.9824509999999997,
          1.983629,
          1.9848849999999998,
          1.984964,
          1.984964,
          1.98622,
          1.9874759999999998,
          1.9874759999999998,
          1.988733,
          1.9886540000000001,
          1.988733,
          1.988733,
          1.9899099999999998,
          1.989989,
          1.989989,
          1.991167,
          1.989989,
          1.991167,
          1.9912450000000002,
          1.9912450000000002,
          1.9912450000000002,
          1.992423,
          1.992502,
          1.992502,
          1.992502,
          1.992502,
          1.9937580000000001,
          1.9937580000000001,
          1.9937580000000001,
          1.9937580000000001,
          1.994936,
          1.9937580000000001,
          1.9937580000000001,
          1.9937580000000001,
          1.9950139999999998,
          1.9950139999999998,
          1.9950139999999998,
          1.9950139999999998
         ],
         "yaxis": "y3"
        },
        {
         "name": "0-2A dI/dt[A/s]",
         "type": "scatter",
         "x": [
          -0.08,
          -0.0775,
          -0.075,
          -0.0725,
          -0.07,
          -0.0675,
          -0.065,
          -0.0625,
          -0.06,
          -0.0575,
          -0.055,
          -0.0525,
          -0.05,
          -0.0475,
          -0.045,
          -0.0425,
          -0.04,
          -0.0375,
          -0.035,
          -0.0325,
          -0.03,
          -0.0275,
          -0.025,
          -0.0225,
          -0.02,
          -0.0175,
          -0.015,
          -0.0125,
          -0.01,
          -0.0075,
          -0.005,
          -0.0025,
          0,
          0.0025,
          0.005,
          0.0075,
          0.01,
          0.0125,
          0.015,
          0.0175,
          0.02,
          0.0225,
          0.025,
          0.0275,
          0.03,
          0.0325,
          0.035,
          0.0375,
          0.04,
          0.0425,
          0.045,
          0.0475,
          0.05,
          0.0525,
          0.055,
          0.0575,
          0.06,
          0.0625,
          0.065,
          0.0675,
          0.07,
          0.0725,
          0.075,
          0.0775,
          0.08,
          0.0825,
          0.085,
          0.0875,
          0.09,
          0.0925,
          0.095,
          0.0975,
          0.1,
          0.1025,
          0.105,
          0.1075,
          0.11,
          0.1125,
          0.115,
          0.1175,
          0.12,
          0.1225,
          0.125,
          0.1275,
          0.13,
          0.1325,
          0.135,
          0.1375,
          0.14,
          0.1425,
          0.145,
          0.1475,
          0.15,
          0.1525,
          0.155,
          0.1575,
          0.16,
          0.1625,
          0.165,
          0.1675,
          0.17,
          0.1725,
          0.175,
          0.1775,
          0.18,
          0.1825,
          0.185,
          0.1875,
          0.19,
          0.1925,
          0.195,
          0.1975,
          0.2,
          0.2025,
          0.205,
          0.2075,
          0.21,
          0.2125,
          0.215,
          0.2175,
          0.22,
          0.2225,
          0.225,
          0.2275,
          0.23,
          0.2325,
          0.235,
          0.2375,
          0.24,
          0.2425,
          0.245,
          0.2475,
          0.25,
          0.2525,
          0.255,
          0.2575,
          0.26,
          0.2625,
          0.265,
          0.2675,
          0.27,
          0.2725,
          0.275,
          0.2775,
          0.28,
          0.2825,
          0.285,
          0.2875,
          0.29,
          0.2925,
          0.295,
          0.2975,
          0.3,
          0.3025,
          0.305,
          0.3075,
          0.31,
          0.3125,
          0.315,
          0.3175,
          0.32,
          0.3225,
          0.325,
          0.3275,
          0.33,
          0.3325,
          0.335,
          0.3375,
          0.34,
          0.3425,
          0.345,
          0.3475,
          0.35,
          0.3525,
          0.355,
          0.3575,
          0.36,
          0.3625,
          0.365,
          0.3675,
          0.37,
          0.3725,
          0.375,
          0.3775,
          0.38,
          0.3825,
          0.385,
          0.3875,
          0.39,
          0.3925,
          0.395,
          0.3975,
          0.4
         ],
         "xaxis": "x2",
         "y": [
          4.44847176609862,
          2.9573900474430452,
          1.7444233834222,
          0.783345248160277,
          0.049588976003969165,
          -0.4798271875987581,
          -0.8263726662208715,
          -1.01007481154668,
          -1.0495868889087436,
          -0.9622538362613628,
          -0.7641758430931578,
          -0.470269795294163,
          -0.09432863150661142,
          0.350921343997328,
          0.8537651473526715,
          1.403445755979936,
          1.9901126607150363,
          2.6047722860842466,
          3.2392402361006623,
          3.886095323440495,
          4.5386353403390505,
          5.190834530027185,
          5.837302718009132,
          6.4732460629623425,
          7.094429387518923,
          7.697140049666707,
          8.278153315985728,
          8.83469919841307,
          9.364430716705643,
          9.865393549246322,
          10.335997035314266,
          10.774986492414914,
          11.181416812739311,
          11.554627303295808,
          11.89421773473016,
          12.200025564322239,
          12.472104299119213,
          12.710702965636154,
          12.91624665302534,
          13.089318097085417,
          13.230640272950719,
          13.341059964769624,
          13.421532281148814,
          13.473106085607617,
          13.496910311753345,
          13.494141133354695,
          13.466049959955722,
          13.413932229137842,
          13.339116967001551,
          13.242957088903252,
          13.126820412945555,
          12.992081359181958,
          12.8401133079585,
          12.672281591276331,
          12.489937091519554,
          12.294410422352884,
          12.08700666705282,
          11.86900064999491,
          11.641632717477776,
          11.40610500452211,
          11.163578164739688,
          10.915168540823807,
          10.661945753668238,
          10.404930688576782,
          10.145093857480003,
          9.883354116529537,
          9.62057771889365,
          9.357577683030206,
          9.095113457165311,
          8.833890861157203,
          8.574562287375798,
          8.317727142678333,
          8.063932514011187,
          7.813674040616867,
          7.567396976273379,
          7.325497425440977,
          7.088323737638359,
          6.856178044816731,
          6.629317926946163,
          6.407958191473859,
          6.1922727527584005,
          5.982396598028404,
          5.778427826856948,
          5.580429751586443,
          5.388433046580203,
          5.202437934619099,
          5.022416399202135,
          4.848314411950371,
          4.68005416475335,
          4.517536296736063,
          4.360642106563182,
          4.209235741034952,
          4.063166351366865,
          3.922270208980871,
          3.7863727730732553,
          3.655290702658493,
          3.528833806223923,
          3.4068069225641464,
          3.2890117267972663,
          3.1752484559984246,
          3.065317549318385,
          2.9590211978863525,
          2.8561648002279902,
          2.7565583193585894,
          2.660017538143654,
          2.5663652099458787,
          2.475432102008046,
          2.387057929448451,
          2.301092178172375,
          2.217394815432737,
          2.135836887194241,
          2.056301001886478,
          1.978681700552734,
          1.902885713826084,
          1.8288321065898572,
          1.756452311600718,
          1.6856900537764297,
          1.6165011672707248,
          1.5488533078818065,
          1.4827255637579473,
          1.4181079677867139,
          1.35500091547312,
          1.293414492528818,
          1.233367716815719,
          1.1748876997031825,
          1.1180087323156336,
          1.0627713025615222,
          1.0092210492559417,
          0.957407660056468,
          0.907383720354197,
          0.8592035206695492,
          0.812921830521061,
          0.7685926471397799,
          0.7262679278301771,
          0.6859963151646351,
          0.647821864639134,
          0.6117827848012478,
          0.5779102002897805,
          0.5462269486249305,
          0.5167464219960358,
          0.4894714657138408,
          0.46439334537933874,
          0.4414907952493863,
          0.42072916067435706,
          0.40205964788853343,
          0.38541869484148705,
          0.37072747716291055,
          0.35789156375438225,
          0.3468007369023258,
          0.33732899222574453,
          0.32933473413593006,
          0.3226611829362547,
          0.3171370100498496,
          0.31257721827999596,
          0.3087842844081372,
          0.30554958183203595,
          0.30265510133089,
          0.2998754884708976,
          0.29698041652656926,
          0.293737314215873,
          0.2899144679371535,
          0.2852845185674955,
          0.27962837332821344,
          0.2727395535422694,
          0.26442899958816923,
          0.254530354663574,
          0.2429057494322393,
          0.22945210996936893,
          0.2141080118405636,
          0.19686110353330832,
          0.1777561228302016,
          0.15690353014806568,
          0.1344887831803625,
          0.11078227766554782,
          0.08614997938298607,
          0.06106477297265478,
          0.03611855345474346,
          0.01203508680810117,
          -0.01031633371727203,
          -0.029906408488326264,
          -0.045530502063449774,
          -0.05579243566351266,
          -0.059087373262638465,
          -0.05358377272134618,
          -0.03720437295503842,
          -0.007606187763279593,
          0.037840523427123074,
          0.10207433802248644,
          0.18836583645710903,
          0.30034188299671527,
          0.4420110524111909,
          0.6177902341605819,
          0.8325324461062742
         ],
         "yaxis": "y4"
        },
        {
         "name": "0-3A I[A]",
         "type": "scatter",
         "x": [
          -0.08,
          -0.0775,
          -0.075,
          -0.0725,
          -0.07,
          -0.0675,
          -0.065,
          -0.0625,
          -0.06,
          -0.0575,
          -0.055,
          -0.0525,
          -0.05,
          -0.0475,
          -0.045,
          -0.0425,
          -0.04,
          -0.0375,
          -0.035,
          -0.0325,
          -0.03,
          -0.0275,
          -0.025,
          -0.0225,
          -0.02,
          -0.0175,
          -0.015,
          -0.0125,
          -0.01,
          -0.0075,
          -0.005,
          -0.0025,
          0,
          0.0025,
          0.005,
          0.0075,
          0.01,
          0.0125,
          0.015,
          0.0175,
          0.02,
          0.0225,
          0.025,
          0.0275,
          0.03,
          0.0325,
          0.035,
          0.0375,
          0.04,
          0.0425,
          0.045,
          0.0475,
          0.05,
          0.0525,
          0.055,
          0.0575,
          0.06,
          0.0625,
          0.065,
          0.0675,
          0.07,
          0.0725,
          0.075,
          0.0775,
          0.08,
          0.0825,
          0.085,
          0.0875,
          0.09,
          0.0925,
          0.095,
          0.0975,
          0.1,
          0.1025,
          0.105,
          0.1075,
          0.11,
          0.1125,
          0.115,
          0.1175,
          0.12,
          0.1225,
          0.125,
          0.1275,
          0.13,
          0.1325,
          0.135,
          0.1375,
          0.14,
          0.1425,
          0.145,
          0.1475,
          0.15,
          0.1525,
          0.155,
          0.1575,
          0.16,
          0.1625,
          0.165,
          0.1675,
          0.17,
          0.1725,
          0.175,
          0.1775,
          0.18,
          0.1825,
          0.185,
          0.1875,
          0.19,
          0.1925,
          0.195,
          0.1975,
          0.2,
          0.2025,
          0.205,
          0.2075,
          0.21,
          0.2125,
          0.215,
          0.2175,
          0.22,
          0.2225,
          0.225,
          0.2275,
          0.23,
          0.2325,
          0.235,
          0.2375,
          0.24,
          0.2425,
          0.245,
          0.2475,
          0.25,
          0.2525,
          0.255,
          0.2575,
          0.26,
          0.2625,
          0.265,
          0.2675,
          0.27,
          0.2725,
          0.275,
          0.2775,
          0.28,
          0.2825,
          0.285,
          0.2875,
          0.29,
          0.2925,
          0.295,
          0.2975,
          0.3,
          0.3025,
          0.305,
          0.3075,
          0.31,
          0.3125,
          0.315,
          0.3175,
          0.32,
          0.3225,
          0.325,
          0.3275,
          0.33,
          0.3325,
          0.335,
          0.3375,
          0.34,
          0.3425,
          0.345,
          0.3475,
          0.35,
          0.3525,
          0.355,
          0.3575,
          0.36,
          0.3625,
          0.365,
          0.3675,
          0.37,
          0.3725,
          0.375,
          0.3775,
          0.38,
          0.3825,
          0.385,
          0.3875,
          0.39,
          0.3925,
          0.395,
          0.3975,
          0.4
         ],
         "xaxis": "x3",
         "y": [
          -0.014808000000000002,
          -0.014808000000000002,
          -0.014808000000000002,
          -0.014808000000000002,
          -0.014808000000000002,
          -0.014808000000000002,
          -0.014808000000000002,
          -0.014808000000000002,
          -0.014808000000000002,
          -0.014808000000000002,
          -0.014808000000000002,
          -0.014808000000000002,
          -0.014808000000000002,
          -0.014808000000000002,
          -0.014808000000000002,
          -0.014808000000000002,
          -0.014808000000000002,
          -0.014808000000000002,
          -0.014808000000000002,
          -0.014808000000000002,
          -0.012453,
          0.010159999999999999,
          0.032773000000000004,
          0.065437,
          0.0981,
          0.11082,
          0.143326,
          0.163427,
          0.188552,
          0.221216,
          0.248854,
          0.279005,
          0.311668,
          0.349356,
          0.38955700000000004,
          0.432271,
          0.474984,
          0.517698,
          0.565437,
          0.615688,
          0.663427,
          0.7136779999999999,
          0.761417,
          0.81418,
          0.866944,
          0.914683,
          0.9649340000000001,
          1.017698,
          1.067949,
          1.115688,
          1.168452,
          1.218703,
          1.2689540000000001,
          1.31418,
          1.361919,
          1.409658,
          1.457396,
          1.5051350000000001,
          1.550361,
          1.590562,
          1.635788,
          1.675989,
          1.721216,
          1.7614169999999998,
          1.801618,
          1.839306,
          1.8769939999999998,
          1.9197080000000002,
          1.954884,
          1.992572,
          2.025236,
          2.055386,
          2.08805,
          2.1207130000000003,
          2.1533759999999997,
          2.181015,
          2.20614,
          2.2364479999999998,
          2.263929,
          2.286542,
          2.316693,
          2.344331,
          2.361919,
          2.389557,
          2.4096580000000003,
          2.4347830000000004,
          2.454884,
          2.477497,
          2.492572,
          2.515342,
          2.530261,
          2.550518,
          2.562924,
          2.5805119999999997,
          2.5981,
          2.613175,
          2.633276,
          2.640971,
          2.6535330000000004,
          2.670964,
          2.681172,
          2.691065,
          2.70614,
          2.718703,
          2.726398,
          2.738803,
          2.749011,
          2.759061,
          2.7640860000000003,
          2.7764919999999997,
          2.786699,
          2.796592,
          2.801775,
          2.809155,
          2.816693,
          2.824388,
          2.831925,
          2.8394630000000003,
          2.844331,
          2.8470009999999997,
          2.8545380000000002,
          2.8595639999999998,
          2.8669439999999997,
          2.8721259999999997,
          2.877151,
          2.879664,
          2.882177,
          2.887202,
          2.889714,
          2.894739,
          2.899765,
          2.904633,
          2.907302,
          2.91217,
          2.914683,
          2.917352,
          2.919865,
          2.9223779999999997,
          2.9247330000000002,
          2.927403,
          2.9299150000000003,
          2.932428,
          2.9347830000000004,
          2.937453,
          2.937453,
          2.939966,
          2.942478,
          2.944991,
          2.947346,
          2.9475029999999998,
          2.950016,
          2.950016,
          2.952528,
          2.954884,
          2.955041,
          2.9573959999999997,
          2.957553,
          2.957553,
          2.957553,
          2.960066,
          2.960066,
          2.960066,
          2.960066,
          2.9625790000000003,
          2.9625790000000003,
          2.9625790000000003,
          2.9625790000000003,
          2.9625790000000003,
          2.965091,
          2.965091,
          2.965091,
          2.965091,
          2.967447,
          2.967604,
          2.967604,
          2.967604,
          2.967604,
          2.967604,
          2.969959,
          2.967604,
          2.970116,
          2.970116,
          2.970116,
          2.972629,
          2.970116,
          2.970116,
          2.972629,
          2.972629,
          2.972629,
          2.972629,
          2.972629,
          2.972629,
          2.974984
         ],
         "yaxis": "y5"
        },
        {
         "name": "0-3A dI/dt[A/s]",
         "type": "scatter",
         "x": [
          -0.08,
          -0.0775,
          -0.075,
          -0.0725,
          -0.07,
          -0.0675,
          -0.065,
          -0.0625,
          -0.06,
          -0.0575,
          -0.055,
          -0.0525,
          -0.05,
          -0.0475,
          -0.045,
          -0.0425,
          -0.04,
          -0.0375,
          -0.035,
          -0.0325,
          -0.03,
          -0.0275,
          -0.025,
          -0.0225,
          -0.02,
          -0.0175,
          -0.015,
          -0.0125,
          -0.01,
          -0.0075,
          -0.005,
          -0.0025,
          0,
          0.0025,
          0.005,
          0.0075,
          0.01,
          0.0125,
          0.015,
          0.0175,
          0.02,
          0.0225,
          0.025,
          0.0275,
          0.03,
          0.0325,
          0.035,
          0.0375,
          0.04,
          0.0425,
          0.045,
          0.0475,
          0.05,
          0.0525,
          0.055,
          0.0575,
          0.06,
          0.0625,
          0.065,
          0.0675,
          0.07,
          0.0725,
          0.075,
          0.0775,
          0.08,
          0.0825,
          0.085,
          0.0875,
          0.09,
          0.0925,
          0.095,
          0.0975,
          0.1,
          0.1025,
          0.105,
          0.1075,
          0.11,
          0.1125,
          0.115,
          0.1175,
          0.12,
          0.1225,
          0.125,
          0.1275,
          0.13,
          0.1325,
          0.135,
          0.1375,
          0.14,
          0.1425,
          0.145,
          0.1475,
          0.15,
          0.1525,
          0.155,
          0.1575,
          0.16,
          0.1625,
          0.165,
          0.1675,
          0.17,
          0.1725,
          0.175,
          0.1775,
          0.18,
          0.1825,
          0.185,
          0.1875,
          0.19,
          0.1925,
          0.195,
          0.1975,
          0.2,
          0.2025,
          0.205,
          0.2075,
          0.21,
          0.2125,
          0.215,
          0.2175,
          0.22,
          0.2225,
          0.225,
          0.2275,
          0.23,
          0.2325,
          0.235,
          0.2375,
          0.24,
          0.2425,
          0.245,
          0.2475,
          0.25,
          0.2525,
          0.255,
          0.2575,
          0.26,
          0.2625,
          0.265,
          0.2675,
          0.27,
          0.2725,
          0.275,
          0.2775,
          0.28,
          0.2825,
          0.285,
          0.2875,
          0.29,
          0.2925,
          0.295,
          0.2975,
          0.3,
          0.3025,
          0.305,
          0.3075,
          0.31,
          0.3125,
          0.315,
          0.3175,
          0.32,
          0.3225,
          0.325,
          0.3275,
          0.33,
          0.3325,
          0.335,
          0.3375,
          0.34,
          0.3425,
          0.345,
          0.3475,
          0.35,
          0.3525,
          0.355,
          0.3575,
          0.36,
          0.3625,
          0.365,
          0.3675,
          0.37,
          0.3725,
          0.375,
          0.3775,
          0.38,
          0.3825,
          0.385,
          0.3875,
          0.39,
          0.3925,
          0.395,
          0.3975,
          0.4
         ],
         "xaxis": "x3",
         "y": [
          6.906645376157853,
          4.787501839062029,
          3.021395727225668,
          1.5794072506144534,
          0.43408263687421034,
          -0.44060848235598904,
          -1.0693155258869709,
          -1.475349215889036,
          -1.6807235886599514,
          -1.7061977243017488,
          -1.5713171579918104,
          -1.2944549371451721,
          -0.8928522903530904,
          -0.3826588755474809,
          0.22102742361787264,
          0.9041211826609565,
          1.6535106304371023,
          2.4570193791030697,
          3.303368714958614,
          4.182140473820908,
          5.083740523186446,
          5.999362872058402,
          6.920954427963665,
          7.841180419353833,
          8.753390500277812,
          9.651585552930545,
          10.530385202422654,
          11.384996056879595,
          12.21118068476614,
          13.005227340142634,
          13.763920445393678,
          14.484511839827428,
          15.164692801424753,
          15.802566847922016,
          16.39662332233919,
          16.94571176701643,
          17.449017089197085,
          17.90603552019349,
          18.316551369193643,
          18.680614571812065,
          18.998519032556914,
          19.270781759477575,
          19.49812278837239,
          19.681445893075523,
          19.821820077504228,
          19.920461844333918,
          19.978718234377773,
          19.998050629980554,
          19.98001931499265,
          19.926268783170094,
          19.838513786149672,
          19.718526111474823,
          19.568122080498274,
          19.389150755360998,
          19.183482843644036,
          18.953000288710435,
          18.699586533198357,
          18.42511744259404,
          18.13145287530403,
          17.8204288851606,
          17.493850541831932,
          17.15348535417014,
          16.801057281114616,
          16.438241314376693,
          16.06665861676303,
          15.687872199650272,
          15.303383122802156,
          14.914627199422206,
          14.522972189060468,
          14.129715460742005,
          13.736082108456843,
          13.343223500947145,
          12.952216247546643,
          12.564061561669995,
          12.179685003416054,
          11.799936582638532,
          11.425591203750944,
          11.057349433468879,
          10.695838572653003,
          10.341614013399465,
          9.995160862531536,
          9.656895812676442,
          9.327169242165237,
          9.006267525071177,
          8.694415532802408,
          8.391779308789115,
          8.098468897953182,
          7.814541312819209,
          7.5400036183204,
          7.274816117571207,
          7.018895621119434,
          6.772118782456237,
          6.534325482850054,
          6.305322248883268,
          6.08488568640483,
          5.872765914971392,
          5.668689987231655,
          5.472365278113996,
          5.28348282910725,
          5.101720633376287,
          4.926746847930685,
          4.758222919564107,
          4.595806611804903,
          4.439154920665198,
          4.28792686754441,
          4.141786158239334,
          4.000403697625401,
          3.8634599502178197,
          3.730647137484169,
          3.601671263463796,
          3.4762539609663943,
          3.3541341513500083,
          3.23506951163842,
          3.118837743522306,
          3.0052376395859035,
          2.894089942935828,
          2.7852379972558925,
          2.678548185186493,
          2.573910153829985,
          2.4712368270966447,
          2.3704642055622056,
          2.2715509554652478,
          2.174477789473082,
          2.0792466428554555,
          1.98587964974962,
          1.8944179252535633,
          1.8049201601819487,
          1.7174610364198735,
          1.6321294719425392,
          1.5490267057353133,
          1.468264234011773,
          1.3899616103466848,
          1.314244123556211,
          1.2412403684154576,
          1.1710797255699763,
          1.103889768301645,
          1.039793615122239,
          0.9789072485250223,
          0.9213368215707955,
          0.8671759753994763,
          0.8165031921546948,
          0.7693792092578615,
          0.7258445224186207,
          0.6859170062651536,
          0.6495896829805883,
          0.6168286708549253,
          0.5875713462364445,
          0.5617247539207586,
          0.5391643026456432,
          0.5197327839538133,
          0.5032397543635092,
          0.48946132243647433,
          0.4781403840482845,
          0.46898735086891996,
          0.461681418806565,
          0.45587242495470726,
          0.4511833433317598,
          0.44721347156016833,
          0.4435423624347177,
          0.43973455620628243,
          0.43534517128804495,
          0.4299264129932361,
          0.4230350618538665,
          0.4142410050013705,
          0.4031368761130949,
          0.3893488713615749,
          0.37254881089526926,
          0.3524675173849321,
          0.3289095852460804,
          0.3017696162755712,
          0.2710499994901845,
          0.23688031518374686,
          0.19953844530676967,
          0.15947347450919835,
          0.11733046836653926,
          0.07397721759648768,
          0.030533039241692705,
          -0.011600271814067753,
          -0.050705245418591005,
          -0.08471319483373208,
          -0.11116623126599556,
          -0.12717673152863185,
          -0.12938415378508594,
          -0.11390909386846815,
          -0.07630447224196502,
          -0.011503739167462612,
          0.0862340168119573,
          0.22338217449630626,
          0.4072080197442478,
          0.6458376417767706,
          0.9483244112033926,
          1.324721167520913,
          1.7861562463796368
         ],
         "yaxis": "y6"
        },
        {
         "name": "0-4A I[A]",
         "type": "scatter",
         "x": [
          -0.08,
          -0.0775,
          -0.075,
          -0.0725,
          -0.07,
          -0.0675,
          -0.065,
          -0.0625,
          -0.06,
          -0.0575,
          -0.055,
          -0.0525,
          -0.05,
          -0.0475,
          -0.045,
          -0.0425,
          -0.04,
          -0.0375,
          -0.035,
          -0.0325,
          -0.03,
          -0.0275,
          -0.025,
          -0.0225,
          -0.02,
          -0.0175,
          -0.015,
          -0.0125,
          -0.01,
          -0.0075,
          -0.005,
          -0.0025,
          0,
          0.0025,
          0.005,
          0.0075,
          0.01,
          0.0125,
          0.015,
          0.0175,
          0.02,
          0.0225,
          0.025,
          0.0275,
          0.03,
          0.0325,
          0.035,
          0.0375,
          0.04,
          0.0425,
          0.045,
          0.0475,
          0.05,
          0.0525,
          0.055,
          0.0575,
          0.06,
          0.0625,
          0.065,
          0.0675,
          0.07,
          0.0725,
          0.075,
          0.0775,
          0.08,
          0.0825,
          0.085,
          0.0875,
          0.09,
          0.0925,
          0.095,
          0.0975,
          0.1,
          0.1025,
          0.105,
          0.1075,
          0.11,
          0.1125,
          0.115,
          0.1175,
          0.12,
          0.1225,
          0.125,
          0.1275,
          0.13,
          0.1325,
          0.135,
          0.1375,
          0.14,
          0.1425,
          0.145,
          0.1475,
          0.15,
          0.1525,
          0.155,
          0.1575,
          0.16,
          0.1625,
          0.165,
          0.1675,
          0.17,
          0.1725,
          0.175,
          0.1775,
          0.18,
          0.1825,
          0.185,
          0.1875,
          0.19,
          0.1925,
          0.195,
          0.1975,
          0.2,
          0.2025,
          0.205,
          0.2075,
          0.21,
          0.2125,
          0.215,
          0.2175,
          0.22,
          0.2225,
          0.225,
          0.2275,
          0.23,
          0.2325,
          0.235,
          0.2375,
          0.24,
          0.2425,
          0.245,
          0.2475,
          0.25,
          0.2525,
          0.255,
          0.2575,
          0.26,
          0.2625,
          0.265,
          0.2675,
          0.27,
          0.2725,
          0.275,
          0.2775,
          0.28,
          0.2825,
          0.285,
          0.2875,
          0.29,
          0.2925,
          0.295,
          0.2975,
          0.3,
          0.3025,
          0.305,
          0.3075,
          0.31,
          0.3125,
          0.315,
          0.3175,
          0.32,
          0.3225,
          0.325,
          0.3275,
          0.33,
          0.3325,
          0.335,
          0.3375,
          0.34,
          0.3425,
          0.345,
          0.3475,
          0.35,
          0.3525,
          0.355,
          0.3575,
          0.36,
          0.3625,
          0.365,
          0.3675,
          0.37,
          0.3725,
          0.375,
          0.3775,
          0.38,
          0.3825,
          0.385,
          0.3875,
          0.39,
          0.3925,
          0.395,
          0.3975,
          0.4
         ],
         "xaxis": "x4",
         "y": [
          -0.014808000000000002,
          -0.014808000000000002,
          -0.014808000000000002,
          -0.014808000000000002,
          -0.014808000000000002,
          -0.014808000000000002,
          -0.014808000000000002,
          -0.014808000000000002,
          -0.014808000000000002,
          -0.012453,
          -0.014808000000000002,
          -0.014808000000000002,
          -0.014808000000000002,
          -0.014808000000000002,
          -0.014808000000000002,
          -0.014808000000000002,
          -0.014808000000000002,
          -0.014808000000000002,
          -0.014808000000000002,
          -0.014808000000000002,
          -0.014808000000000002,
          -0.014808000000000002,
          -0.014808000000000002,
          0.005135,
          0.040311,
          0.083025,
          0.11568800000000001,
          0.148351,
          0.183527,
          0.21619000000000002,
          0.24634099999999998,
          0.279005,
          0.316693,
          0.361919,
          0.40965799999999997,
          0.459909,
          0.507648,
          0.5578989999999999,
          0.620713,
          0.6759890000000001,
          0.743829,
          0.801618,
          0.8694569999999999,
          0.934783,
          0.995085,
          1.067949,
          1.135788,
          1.1960899999999999,
          1.2689540000000001,
          1.3367930000000001,
          1.40212,
          1.469959,
          1.540311,
          1.6006129999999998,
          1.670964,
          1.741316,
          1.801618,
          1.866944,
          1.9322709999999998,
          1.992572,
          2.050361,
          2.113175,
          2.165939,
          2.2287529999999998,
          2.279004,
          2.336793,
          2.39207,
          2.4423209999999997,
          2.495085,
          2.5453360000000003,
          2.593075,
          2.6408139999999998,
          2.683527,
          2.726241,
          2.768954,
          2.811668,
          2.8518689999999998,
          2.889557,
          2.929758,
          2.962422,
          3.00011,
          3.037798,
          3.070462,
          3.105638,
          3.1357880000000002,
          3.163427,
          3.1960900000000003,
          3.223728,
          3.251366,
          3.281517,
          3.3091550000000005,
          3.3292559999999995,
          3.359406,
          3.38202,
          3.404633,
          3.429758,
          3.4498589999999996,
          3.4724720000000002,
          3.492572,
          3.5126730000000004,
          3.5277480000000003,
          3.550361,
          3.563081,
          3.5779989999999997,
          3.5981,
          3.61082,
          3.6307629999999995,
          3.6434830000000002,
          3.6558889999999997,
          3.6686089999999996,
          3.6835269999999998,
          3.693577,
          3.70614,
          3.718703,
          3.726398,
          3.736448,
          3.748854,
          3.761417,
          3.766599,
          3.774136,
          3.7866989999999996,
          3.7991050000000004,
          3.8042870000000004,
          3.8068,
          3.8141800000000003,
          3.821875,
          3.831768,
          3.8393059999999997,
          3.8444879999999997,
          3.847001,
          3.8520260000000004,
          3.859406,
          3.8671010000000003,
          3.8746389999999997,
          3.879664,
          3.884532,
          3.884689,
          3.889557,
          3.8922269999999997,
          3.894739,
          3.899607,
          3.90479,
          3.9096580000000003,
          3.912327,
          3.9173519999999997,
          3.919865,
          3.9223779999999997,
          3.9247330000000002,
          3.927403,
          3.927403,
          3.9299150000000003,
          3.932271,
          3.93494,
          3.937453,
          3.9399660000000005,
          3.942478,
          3.9449910000000004,
          3.9475029999999998,
          3.950016,
          3.952528,
          3.9550410000000005,
          3.957553,
          3.9599089999999997,
          3.9600660000000003,
          3.962422,
          3.9625790000000003,
          3.9625790000000003,
          3.9625790000000003,
          3.965091,
          3.965091,
          3.965091,
          3.965091,
          3.965091,
          3.965091,
          3.967604,
          3.967604,
          3.967604,
          3.967604,
          3.967604,
          3.967604,
          3.967604,
          3.967604,
          3.9701160000000004,
          3.9701160000000004,
          3.9701160000000004,
          3.9701160000000004,
          3.9701160000000004,
          3.9724720000000002,
          3.972629,
          3.9701160000000004,
          3.972629,
          3.972629,
          3.972629
         ],
         "yaxis": "y7"
        },
        {
         "name": "0-4A dI/dt[A/s]",
         "type": "scatter",
         "x": [
          -0.08,
          -0.0775,
          -0.075,
          -0.0725,
          -0.07,
          -0.0675,
          -0.065,
          -0.0625,
          -0.06,
          -0.0575,
          -0.055,
          -0.0525,
          -0.05,
          -0.0475,
          -0.045,
          -0.0425,
          -0.04,
          -0.0375,
          -0.035,
          -0.0325,
          -0.03,
          -0.0275,
          -0.025,
          -0.0225,
          -0.02,
          -0.0175,
          -0.015,
          -0.0125,
          -0.01,
          -0.0075,
          -0.005,
          -0.0025,
          0,
          0.0025,
          0.005,
          0.0075,
          0.01,
          0.0125,
          0.015,
          0.0175,
          0.02,
          0.0225,
          0.025,
          0.0275,
          0.03,
          0.0325,
          0.035,
          0.0375,
          0.04,
          0.0425,
          0.045,
          0.0475,
          0.05,
          0.0525,
          0.055,
          0.0575,
          0.06,
          0.0625,
          0.065,
          0.0675,
          0.07,
          0.0725,
          0.075,
          0.0775,
          0.08,
          0.0825,
          0.085,
          0.0875,
          0.09,
          0.0925,
          0.095,
          0.0975,
          0.1,
          0.1025,
          0.105,
          0.1075,
          0.11,
          0.1125,
          0.115,
          0.1175,
          0.12,
          0.1225,
          0.125,
          0.1275,
          0.13,
          0.1325,
          0.135,
          0.1375,
          0.14,
          0.1425,
          0.145,
          0.1475,
          0.15,
          0.1525,
          0.155,
          0.1575,
          0.16,
          0.1625,
          0.165,
          0.1675,
          0.17,
          0.1725,
          0.175,
          0.1775,
          0.18,
          0.1825,
          0.185,
          0.1875,
          0.19,
          0.1925,
          0.195,
          0.1975,
          0.2,
          0.2025,
          0.205,
          0.2075,
          0.21,
          0.2125,
          0.215,
          0.2175,
          0.22,
          0.2225,
          0.225,
          0.2275,
          0.23,
          0.2325,
          0.235,
          0.2375,
          0.24,
          0.2425,
          0.245,
          0.2475,
          0.25,
          0.2525,
          0.255,
          0.2575,
          0.26,
          0.2625,
          0.265,
          0.2675,
          0.27,
          0.2725,
          0.275,
          0.2775,
          0.28,
          0.2825,
          0.285,
          0.2875,
          0.29,
          0.2925,
          0.295,
          0.2975,
          0.3,
          0.3025,
          0.305,
          0.3075,
          0.31,
          0.3125,
          0.315,
          0.3175,
          0.32,
          0.3225,
          0.325,
          0.3275,
          0.33,
          0.3325,
          0.335,
          0.3375,
          0.34,
          0.3425,
          0.345,
          0.3475,
          0.35,
          0.3525,
          0.355,
          0.3575,
          0.36,
          0.3625,
          0.365,
          0.3675,
          0.37,
          0.3725,
          0.375,
          0.3775,
          0.38,
          0.3825,
          0.385,
          0.3875,
          0.39,
          0.3925,
          0.395,
          0.3975,
          0.4
         ],
         "xaxis": "x4",
         "y": [
          8.831201055438228,
          6.467093587097281,
          4.422232904980179,
          2.6812525990693867,
          1.2284387121715739,
          0.047835201878676514,
          -0.8766586165195882,
          -1.561198299769579,
          -2.021911841296024,
          -2.2748242415808555,
          -2.335788763572559,
          -2.2204245607877127,
          -1.9440603740343576,
          -1.5216840008560162,
          -0.9678972498652385,
          -0.296876100106207,
          0.4776642065419878,
          1.3424994041373246,
          2.284922029164413,
          3.2927630837093815,
          4.3544097768125845,
          5.458819578115355,
          6.595530810639801,
          7.754670002362689,
          8.92695620916538,
          10.103702514762162,
          11.27681490632828,
          12.438788717767634,
          13.582702825877375,
          14.7022117780833,
          15.791536023935597,
          16.845450416169307,
          17.85927114084766,
          18.828841229919618,
          19.750514803434807,
          20.621140182670466,
          21.438042009535167,
          22.199002501823543,
          22.90224196820477,
          23.54639870123519,
          24.130508361192064,
          24.653982958131447,
          25.116589534277995,
          25.518428643658503,
          25.859912720794263,
          26.141744425269444,
          26.364895044094077,
          26.530583028980693,
          26.64025274095323,
          26.69555347010541,
          26.69831879382366,
          26.65054633238642,
          26.554377956547693,
          26.412080497507812,
          26.22602700556846,
          25.9986785997624,
          25.732566946840638,
          25.430277404191354,
          25.094432857555443,
          24.727678280793203,
          24.332666041445584,
          23.91204197242129,
          23.468432226827993,
          23.00443092975211,
          22.522588637676748,
          22.0254016132118,
          21.51530191989358,
          20.994648338993944,
          20.46571810756039,
          19.930699474289522,
          19.391685067316025,
          18.85066606557823,
          18.30952716309937,
          17.77004231330105,
          17.233871238341216,
          16.70255668644484,
          16.1775224182697,
          15.660071901522985,
          15.151387691317895,
          14.652531472130171,
          14.164444735686313,
          13.687950067684689,
          13.2237530149199,
          12.772444503149117,
          12.334503774906533,
          11.910301815437712,
          11.500105233992599,
          11.104080566878803,
          10.722298967941974,
          10.354741251501924,
          10.001303252235903,
          9.661801466060432,
          9.335978935724638,
          9.02351134458548,
          8.724013281895788,
          8.43704464289099,
          8.162117127019775,
          7.898700797816469,
          7.6462306681705385,
          7.404113275101212,
          7.17173320859693,
          6.948459559634481,
          6.733652253141113,
          6.526668232413847,
          6.326867462360768,
          6.133618719877045,
          5.946305140713525,
          5.764329493347848,
          5.587119151607888,
          5.4141307391463425,
          5.244854420308151,
          5.078817813473814,
          4.915589504607773,
          4.754782140477484,
          4.596055082854157,
          4.439116606940759,
          4.283725629316569,
          4.129692952820568,
          3.976882018037715,
          3.825209153381012,
          3.6746433182070053,
          3.5252053359274704,
          3.3769666167178887,
          3.2300473721564202,
          3.084614326954391,
          2.9408779358755748,
          2.7990891169645113,
          2.6595355153402522,
          2.5225373150334747,
          2.388442619675887,
          2.2576224262743327,
          2.1304652198297926,
          2.007371220185,
          1.888746316202953,
          1.7749957262115252,
          1.666517427562031,
          1.5636954021713514,
          1.4668927490405395,
          1.3764447189624782,
          1.2926517309424739,
          1.2157724342812202,
          1.1460168847760492,
          1.0835399081276407,
          1.028434728328346,
          0.9807269436553057,
          0.94036893777022,
          0.9072348184643388,
          0.8811159816829779,
          0.8617174036891377,
          0.8486547695130078,
          0.8414525512669542,
          0.8395431553922776,
          0.8422672635139996,
          0.8488754973227053,
          0.8585315436154595,
          0.8703168816587095,
          0.883237260914445,
          0.8962310833641531,
          0.908179850817298,
          0.9179208439088278,
          0.9242622058808863,
          0.9260006107539773,
          0.9219417020873166,
          0.9109234951923355,
          0.8918429425424854,
          0.8636858688853231,
          0.825560489728776,
          0.7767347337696613,
          0.7166775972042316,
          0.6451047650385853,
          0.5620287419508472,
          0.4678137427194926,
          0.3632355998759209,
          0.24954695386677272,
          0.12854799878504153,
          0.0026630647558505416,
          -0.1249766742007381,
          -0.25044406963148447,
          -0.36892014034147635,
          -0.47459117268452644,
          -0.5605384576369339,
          -0.6186203342325776,
          -0.6393462004038994,
          -0.6117421436607273,
          -0.5232078350622977,
          -0.3593643213430262,
          -0.10389234080735932,
          0.2616392202681119,
          0.7579551233189541,
          1.4082662269077915,
          2.2384730012697176,
          3.2773805283206823,
          4.556925417629827
         ],
         "yaxis": "y8"
        },
        {
         "name": "0-5A I[A]",
         "type": "scatter",
         "x": [
          -0.08,
          -0.0775,
          -0.075,
          -0.0725,
          -0.07,
          -0.0675,
          -0.065,
          -0.0625,
          -0.06,
          -0.0575,
          -0.055,
          -0.0525,
          -0.05,
          -0.0475,
          -0.045,
          -0.0425,
          -0.04,
          -0.0375,
          -0.035,
          -0.0325,
          -0.03,
          -0.0275,
          -0.025,
          -0.0225,
          -0.02,
          -0.0175,
          -0.015,
          -0.0125,
          -0.01,
          -0.0075,
          -0.005,
          -0.0025,
          0,
          0.0025,
          0.005,
          0.0075,
          0.01,
          0.0125,
          0.015,
          0.0175,
          0.02,
          0.0225,
          0.025,
          0.0275,
          0.03,
          0.0325,
          0.035,
          0.0375,
          0.04,
          0.0425,
          0.045,
          0.0475,
          0.05,
          0.0525,
          0.055,
          0.0575,
          0.06,
          0.0625,
          0.065,
          0.0675,
          0.07,
          0.0725,
          0.075,
          0.0775,
          0.08,
          0.0825,
          0.085,
          0.0875,
          0.09,
          0.0925,
          0.095,
          0.0975,
          0.1,
          0.1025,
          0.105,
          0.1075,
          0.11,
          0.1125,
          0.115,
          0.1175,
          0.12,
          0.1225,
          0.125,
          0.1275,
          0.13,
          0.1325,
          0.135,
          0.1375,
          0.14,
          0.1425,
          0.145,
          0.1475,
          0.15,
          0.1525,
          0.155,
          0.1575,
          0.16,
          0.1625,
          0.165,
          0.1675,
          0.17,
          0.1725,
          0.175,
          0.1775,
          0.18,
          0.1825,
          0.185,
          0.1875,
          0.19,
          0.1925,
          0.195,
          0.1975,
          0.2,
          0.2025,
          0.205,
          0.2075,
          0.21,
          0.2125,
          0.215,
          0.2175,
          0.22,
          0.2225,
          0.225,
          0.2275,
          0.23,
          0.2325,
          0.235,
          0.2375,
          0.24,
          0.2425,
          0.245,
          0.2475,
          0.25,
          0.2525,
          0.255,
          0.2575,
          0.26,
          0.2625,
          0.265,
          0.2675,
          0.27,
          0.2725,
          0.275,
          0.2775,
          0.28,
          0.2825,
          0.285,
          0.2875,
          0.29,
          0.2925,
          0.295,
          0.2975,
          0.3,
          0.3025,
          0.305,
          0.3075,
          0.31,
          0.3125,
          0.315,
          0.3175,
          0.32,
          0.3225,
          0.325,
          0.3275,
          0.33,
          0.3325,
          0.335,
          0.3375,
          0.34,
          0.3425,
          0.345,
          0.3475,
          0.35,
          0.3525,
          0.355,
          0.3575,
          0.36,
          0.3625,
          0.365,
          0.3675,
          0.37,
          0.3725,
          0.375,
          0.3775,
          0.38,
          0.3825,
          0.385,
          0.3875,
          0.39,
          0.3925,
          0.395,
          0.3975,
          0.4
         ],
         "xaxis": "x5",
         "y": [
          -0.014808000000000002,
          -0.014808000000000002,
          -0.014808000000000002,
          -0.014808000000000002,
          -0.014808000000000002,
          -0.014808000000000002,
          -0.014808000000000002,
          -0.014808000000000002,
          -0.014808000000000002,
          -0.014808000000000002,
          -0.014808000000000002,
          -0.014808000000000002,
          -0.014808000000000002,
          -0.014808000000000002,
          -0.014808000000000002,
          -0.014808000000000002,
          -0.014808000000000002,
          -0.014808000000000002,
          -0.014808000000000002,
          -0.014808000000000002,
          -0.014808000000000002,
          -0.014808000000000002,
          -0.014808000000000002,
          -0.014808000000000002,
          -0.014808000000000002,
          0.022723,
          0.075487,
          0.123226,
          0.163427,
          0.203628,
          0.24131599999999997,
          0.279005,
          0.319206,
          0.36945700000000004,
          0.422221,
          0.469959,
          0.527748,
          0.590562,
          0.6533760000000001,
          0.7237279999999999,
          0.79408,
          0.8694569999999999,
          0.9448340000000001,
          1.022723,
          1.1006129999999998,
          1.181015,
          1.263929,
          1.3468440000000002,
          1.427246,
          1.51016,
          1.593075,
          1.675989,
          1.758904,
          1.8418189999999999,
          1.9247330000000002,
          2.002623,
          2.083025,
          2.160914,
          2.238803,
          2.316693,
          2.3945819999999998,
          2.4724720000000002,
          2.540311,
          2.610663,
          2.681015,
          2.748854,
          2.811668,
          2.876994,
          2.937296,
          3.00011,
          3.055386,
          3.1182,
          3.170964,
          3.231266,
          3.2840300000000004,
          3.334281,
          3.3945819999999998,
          3.4423209999999997,
          3.4900599999999997,
          3.5377980000000004,
          3.583025,
          3.6332760000000004,
          3.6734769999999997,
          3.713678,
          3.7563910000000003,
          3.796592,
          3.834281,
          3.8719690000000004,
          3.904633,
          3.9423209999999997,
          3.9724720000000002,
          4.0076480000000005,
          4.0428239999999995,
          4.072973999999999,
          4.0981,
          4.130763,
          4.1634269999999995,
          4.188552,
          4.211165,
          4.241316,
          4.258904,
          4.286542,
          4.3091550000000005,
          4.329413,
          4.3568940000000005,
          4.372126000000001,
          4.397094999999999,
          4.41217,
          4.434783,
          4.452371,
          4.469958999999999,
          4.487547,
          4.502623000000001,
          4.522723,
          4.535286,
          4.552874,
          4.568105999999999,
          4.580512000000001,
          4.595587,
          4.60815,
          4.6182,
          4.633276,
          4.645996,
          4.655889,
          4.668451999999999,
          4.681172,
          4.691065,
          4.698601999999999,
          4.711165,
          4.7237279999999995,
          4.72891,
          4.733935,
          4.748854,
          4.761417,
          4.768954,
          4.7714669999999995,
          4.774136,
          4.781517,
          4.789212,
          4.799262000000001,
          4.8068,
          4.811825,
          4.81685,
          4.821875,
          4.831768,
          4.841819,
          4.847001000000001,
          4.849513,
          4.852026,
          4.857051,
          4.861919,
          4.864589,
          4.8744819999999995,
          4.879664,
          4.884532,
          4.887201999999999,
          4.889714,
          4.892227,
          4.892227,
          4.8947389999999995,
          4.897252,
          4.90212,
          4.907145,
          4.912326999999999,
          4.91484,
          4.9171949999999995,
          4.919865,
          4.922378,
          4.92489,
          4.927403,
          4.927403,
          4.929915,
          4.932428,
          4.932428,
          4.932428,
          4.93494,
          4.93494,
          4.939808,
          4.9424779999999995,
          4.9424779999999995,
          4.9424779999999995,
          4.944991,
          4.949859,
          4.952528,
          4.9550410000000005,
          4.957553,
          4.960066,
          4.962579,
          4.965091,
          4.965091,
          4.967604,
          4.967604,
          4.970116
         ],
         "yaxis": "y9"
        },
        {
         "name": "0-5A dI/dt[A/s]",
         "type": "scatter",
         "x": [
          -0.08,
          -0.0775,
          -0.075,
          -0.0725,
          -0.07,
          -0.0675,
          -0.065,
          -0.0625,
          -0.06,
          -0.0575,
          -0.055,
          -0.0525,
          -0.05,
          -0.0475,
          -0.045,
          -0.0425,
          -0.04,
          -0.0375,
          -0.035,
          -0.0325,
          -0.03,
          -0.0275,
          -0.025,
          -0.0225,
          -0.02,
          -0.0175,
          -0.015,
          -0.0125,
          -0.01,
          -0.0075,
          -0.005,
          -0.0025,
          0,
          0.0025,
          0.005,
          0.0075,
          0.01,
          0.0125,
          0.015,
          0.0175,
          0.02,
          0.0225,
          0.025,
          0.0275,
          0.03,
          0.0325,
          0.035,
          0.0375,
          0.04,
          0.0425,
          0.045,
          0.0475,
          0.05,
          0.0525,
          0.055,
          0.0575,
          0.06,
          0.0625,
          0.065,
          0.0675,
          0.07,
          0.0725,
          0.075,
          0.0775,
          0.08,
          0.0825,
          0.085,
          0.0875,
          0.09,
          0.0925,
          0.095,
          0.0975,
          0.1,
          0.1025,
          0.105,
          0.1075,
          0.11,
          0.1125,
          0.115,
          0.1175,
          0.12,
          0.1225,
          0.125,
          0.1275,
          0.13,
          0.1325,
          0.135,
          0.1375,
          0.14,
          0.1425,
          0.145,
          0.1475,
          0.15,
          0.1525,
          0.155,
          0.1575,
          0.16,
          0.1625,
          0.165,
          0.1675,
          0.17,
          0.1725,
          0.175,
          0.1775,
          0.18,
          0.1825,
          0.185,
          0.1875,
          0.19,
          0.1925,
          0.195,
          0.1975,
          0.2,
          0.2025,
          0.205,
          0.2075,
          0.21,
          0.2125,
          0.215,
          0.2175,
          0.22,
          0.2225,
          0.225,
          0.2275,
          0.23,
          0.2325,
          0.235,
          0.2375,
          0.24,
          0.2425,
          0.245,
          0.2475,
          0.25,
          0.2525,
          0.255,
          0.2575,
          0.26,
          0.2625,
          0.265,
          0.2675,
          0.27,
          0.2725,
          0.275,
          0.2775,
          0.28,
          0.2825,
          0.285,
          0.2875,
          0.29,
          0.2925,
          0.295,
          0.2975,
          0.3,
          0.3025,
          0.305,
          0.3075,
          0.31,
          0.3125,
          0.315,
          0.3175,
          0.32,
          0.3225,
          0.325,
          0.3275,
          0.33,
          0.3325,
          0.335,
          0.3375,
          0.34,
          0.3425,
          0.345,
          0.3475,
          0.35,
          0.3525,
          0.355,
          0.3575,
          0.36,
          0.3625,
          0.365,
          0.3675,
          0.37,
          0.3725,
          0.375,
          0.3775,
          0.38,
          0.3825,
          0.385,
          0.3875,
          0.39,
          0.3925,
          0.395,
          0.3975,
          0.4
         ],
         "xaxis": "x5",
         "y": [
          10.35584070363087,
          7.838685663865963,
          5.602696252586705,
          3.6446686243274407,
          1.9595150771065875,
          0.5404903581789284,
          -0.620596513914009,
          -1.5331843313064581,
          -2.2077751169623276,
          -2.655762330913781,
          -2.889271324037832,
          -2.9210115142307664,
          -2.7641397730926798,
          -2.4321345243330725,
          -1.9386800680529106,
          -1.2975606578495338,
          -0.522563870327339,
          0.3726071809196263,
          1.374413222458383,
          2.4695502127309403,
          3.645013159740344,
          4.888152764250455,
          6.186725276327808,
          7.528935941494547,
          8.903476401355851,
          10.299556402313891,
          11.70693015488257,
          13.115917675173703,
          14.517421429335428,
          15.90293859108785,
          17.26456921201887,
          18.595020593975217,
          19.88760814270951,
          21.136252971924012,
          22.335476516985505,
          23.480392407873246,
          24.56669584136366,
          25.590650683050786,
          26.549074520550988,
          27.439321880143687,
          28.259265810157146,
          29.007278025619485,
          29.68220780006017,
          30.283359781866235,
          30.81047090427036,
          31.263686549874834,
          31.64353612259607,
          31.950908172049154,
          32.187025207680335,
          32.353418332397986,
          32.45190181804895,
          32.48454773783755,
          32.45366076368867,
          32.36175322961476,
          32.211520555358504,
          32.00581711794881,
          31.747632652328228,
          31.44006925588295,
          31.08631906553515,
          30.68964267003857,
          30.253348314253948,
          29.78077194647074,
          29.275258154284508,
          28.740142029137317,
          28.178731994379092,
          27.594293626613798,
          26.990034495152862,
          26.36909003961162,
          25.734510501051343,
          25.089248917590538,
          24.436150191083662,
          23.777941227294345,
          23.117222147972917,
          22.456458569384285,
          21.797974938122973,
          21.143948911496476,
          20.496406766356166,
          19.857219817007568,
          19.228101819737656,
          18.61060733855713,
          18.00613104396948,
          17.415907913946505,
          16.84101430381198,
          16.282369849410692,
          15.740740165769937,
          15.216740301443814,
          14.71083890686853,
          14.223363073348388,
          13.75450379773655,
          13.304322026475658,
          12.872755231414704,
          12.459624468726684,
          12.064641871312682,
          11.687418524292442,
          11.327472672550366,
          10.98423820882905,
          10.657073390539022,
          10.345269733283422,
          10.048061029081772,
          9.764632437415118,
          9.494129597505854,
          9.235667710694889,
          8.988340542375479,
          8.751229293699696,
          8.523411294180743,
          8.30396846737523,
          8.091995523047622,
          7.886607830586744,
          7.686948929969619,
          7.49219763824318,
          7.30157471132981,
          7.114349022943875,
          6.929843224548042,
          6.747438852572689,
          6.566580851565,
          6.386781484540769,
          6.2076236045607605,
          6.028763264469138,
          5.849931644789322,
          5.670936282990983,
          5.491661590713624,
          5.31206864905627,
          5.132194275719359,
          4.952149361622679,
          4.772116478600747,
          4.592346763930694,
          4.413156091723826,
          4.234920545680373,
          4.058071212292072,
          3.8830883183447256,
          3.7104947414739584,
          3.5408489275988124,
          3.3747372542733842,
          3.2127658843622804,
          3.055552159980685,
          2.9037155923159297,
          2.757868508773033,
          2.6186064248907535,
          2.4864982145972654,
          2.362076158685813,
          2.2458259578254562,
          2.138176803039464,
          2.0394916033305215,
          1.9500574770418773,
          1.8700766206220862,
          1.7996576756574214,
          1.7388077224334353,
          1.6874250357972223,
          1.6452927467671685,
          1.6120735611980415,
          1.5873056947676716,
          1.5704001917103874,
          1.5606398030114939,
          1.5571796082487062,
          1.5590495738060142,
          1.5651592490479622,
          1.5743048108600632,
          1.5851786760568736,
          1.5963819104091073,
          1.6064396723692909,
          1.6138199391410168,
          1.6169557723774126,
          1.6142713906778212,
          1.6042123259966665,
          1.585279951251085,
          1.5560706767085541,
          1.5153201231534865,
          1.461952590494782,
          1.3951361511700462,
          1.314343708669817,
          1.2194203725740245,
          1.1106575126118337,
          0.9888738657520406,
          0.8555040818929953,
          0.7126951051895425,
          0.5634108000482101,
          0.4115452429624824,
          0.26204511309639855,
          0.12104162711984046,
          -0.004007523555575432,
          -0.10416576312220371,
          -0.16885426556642713,
          -0.1856771368033847,
          -0.14023463549773751,
          -0.015923909989755458,
          0.2062732844786055,
          0.5480164374216372,
          1.033846267007167,
          1.6914394129012393,
          2.551878428843903,
          3.649937680244001,
          5.024385765922013,
          6.7183050978277965
         ],
         "yaxis": "y10"
        },
        {
         "name": "0-6A I[A]",
         "type": "scatter",
         "x": [
          -0.08,
          -0.0775,
          -0.075,
          -0.0725,
          -0.07,
          -0.0675,
          -0.065,
          -0.0625,
          -0.06,
          -0.0575,
          -0.055,
          -0.0525,
          -0.05,
          -0.0475,
          -0.045,
          -0.0425,
          -0.04,
          -0.0375,
          -0.035,
          -0.0325,
          -0.03,
          -0.0275,
          -0.025,
          -0.0225,
          -0.02,
          -0.0175,
          -0.015,
          -0.0125,
          -0.01,
          -0.0075,
          -0.005,
          -0.0025,
          0,
          0.0025,
          0.005,
          0.0075,
          0.01,
          0.0125,
          0.015,
          0.0175,
          0.02,
          0.0225,
          0.025,
          0.0275,
          0.03,
          0.0325,
          0.035,
          0.0375,
          0.04,
          0.0425,
          0.045,
          0.0475,
          0.05,
          0.0525,
          0.055,
          0.0575,
          0.06,
          0.0625,
          0.065,
          0.0675,
          0.07,
          0.0725,
          0.075,
          0.0775,
          0.08,
          0.0825,
          0.085,
          0.0875,
          0.09,
          0.0925,
          0.095,
          0.0975,
          0.1,
          0.1025,
          0.105,
          0.1075,
          0.11,
          0.1125,
          0.115,
          0.1175,
          0.12,
          0.1225,
          0.125,
          0.1275,
          0.13,
          0.1325,
          0.135,
          0.1375,
          0.14,
          0.1425,
          0.145,
          0.1475,
          0.15,
          0.1525,
          0.155,
          0.1575,
          0.16,
          0.1625,
          0.165,
          0.1675,
          0.17,
          0.1725,
          0.175,
          0.1775,
          0.18,
          0.1825,
          0.185,
          0.1875,
          0.19,
          0.1925,
          0.195,
          0.1975,
          0.2,
          0.2025,
          0.205,
          0.2075,
          0.21,
          0.2125,
          0.215,
          0.2175,
          0.22,
          0.2225,
          0.225,
          0.2275,
          0.23,
          0.2325,
          0.235,
          0.2375,
          0.24,
          0.2425,
          0.245,
          0.2475,
          0.25,
          0.2525,
          0.255,
          0.2575,
          0.26,
          0.2625,
          0.265,
          0.2675,
          0.27,
          0.2725,
          0.275,
          0.2775,
          0.28,
          0.2825,
          0.285,
          0.2875,
          0.29,
          0.2925,
          0.295,
          0.2975,
          0.3,
          0.3025,
          0.305,
          0.3075,
          0.31,
          0.3125,
          0.315,
          0.3175,
          0.32,
          0.3225,
          0.325,
          0.3275,
          0.33,
          0.3325,
          0.335,
          0.3375,
          0.34,
          0.3425,
          0.345,
          0.3475,
          0.35,
          0.3525,
          0.355,
          0.3575,
          0.36,
          0.3625,
          0.365,
          0.3675,
          0.37,
          0.3725,
          0.375,
          0.3775,
          0.38,
          0.3825,
          0.385,
          0.3875,
          0.39,
          0.3925,
          0.395,
          0.3975,
          0.4
         ],
         "xaxis": "x6",
         "y": [
          -0.014808000000000002,
          -0.014808000000000002,
          -0.014808000000000002,
          -0.014808000000000002,
          -0.014808000000000002,
          -0.014808000000000002,
          -0.014808000000000002,
          -0.014808000000000002,
          -0.014808000000000002,
          -0.014808000000000002,
          -0.014808000000000002,
          -0.014808000000000002,
          -0.014808000000000002,
          -0.014808000000000002,
          -0.014808000000000002,
          -0.014808000000000002,
          -0.014808000000000002,
          -0.014808000000000002,
          -0.014808000000000002,
          -0.014808000000000002,
          -0.014808000000000002,
          -0.014808000000000002,
          -0.014808000000000002,
          -0.014808000000000002,
          -0.014808000000000002,
          -0.014808000000000002,
          0.015184999999999999,
          0.077999,
          0.14081400000000002,
          0.188552,
          0.233778,
          0.276492,
          0.321718,
          0.376994,
          0.427246,
          0.48001000000000005,
          0.5453359999999999,
          0.610663,
          0.678502,
          0.756391,
          0.8342809999999999,
          0.919708,
          1.002623,
          1.093075,
          1.18604,
          1.276492,
          1.369457,
          1.467447,
          1.5604120000000001,
          1.660914,
          1.758904,
          1.8568939999999998,
          1.954884,
          2.0478490000000003,
          2.148351,
          2.238803,
          2.3342810000000003,
          2.427246,
          2.5176979999999998,
          2.605638,
          2.693577,
          2.779004,
          2.861919,
          2.944834,
          3.025236,
          3.10815,
          3.181015,
          3.256391,
          3.3292559999999995,
          3.407145,
          3.482522,
          3.5528739999999996,
          3.620713,
          3.6835269999999998,
          3.748854,
          3.8091550000000005,
          3.88202,
          3.9423209999999997,
          4.00011,
          4.052874,
          4.113175,
          4.168451999999999,
          4.218703,
          4.2714669999999995,
          4.319205,
          4.369457,
          4.414683,
          4.459909,
          4.51016,
          4.593075,
          4.635788,
          4.678502,
          4.718703,
          4.756391000000001,
          4.791567,
          4.836793,
          4.876994,
          4.909658,
          4.947346,
          4.980009,
          5.015185,
          5.052874,
          5.08805,
          5.115688,
          5.13092,
          5.140814,
          5.218703,
          5.258904,
          5.281674,
          5.306643,
          5.324231,
          5.341976,
          5.366944,
          5.394582,
          5.41217,
          5.429915,
          5.450016000000001,
          5.480009,
          5.4950849999999996,
          5.515185,
          5.530418,
          5.548006,
          5.570462,
          5.593075,
          5.60815,
          5.620712999999999,
          5.63092,
          5.6409709999999995,
          5.671121,
          5.688552,
          5.701115,
          5.713678,
          5.711165,
          5.716347,
          5.721373000000001,
          5.733935,
          5.749011,
          5.764086,
          5.781517,
          5.7965919999999995,
          5.804130000000001,
          5.8091550000000005,
          5.811668,
          5.81685,
          5.819363,
          5.821875,
          5.8269,
          5.83695,
          5.846844,
          5.864432,
          5.869457,
          5.876994,
          5.879507,
          5.88202,
          5.884689,
          5.8821769999999995,
          5.8821769999999995,
          5.884689,
          5.892227,
          5.899765,
          5.90479,
          5.91217,
          5.919708,
          5.924733,
          5.9297580000000005,
          5.934783,
          5.934783,
          5.932428,
          5.932428,
          5.929915,
          5.927403,
          5.927403,
          5.93494,
          5.939966,
          5.9424779999999995,
          5.947346,
          5.952371,
          5.959909,
          5.967447,
          5.967447,
          5.9649339999999995,
          5.962422,
          5.960066,
          5.957553,
          5.957553,
          5.952528,
          5.9550410000000005,
          5.9550410000000005,
          5.952528,
          5.957553,
          5.962422,
          5.969958999999999,
          5.974984
         ],
         "yaxis": "y11"
        },
        {
         "name": "0-6A dI/dt[A/s]",
         "type": "scatter",
         "x": [
          -0.08,
          -0.0775,
          -0.075,
          -0.0725,
          -0.07,
          -0.0675,
          -0.065,
          -0.0625,
          -0.06,
          -0.0575,
          -0.055,
          -0.0525,
          -0.05,
          -0.0475,
          -0.045,
          -0.0425,
          -0.04,
          -0.0375,
          -0.035,
          -0.0325,
          -0.03,
          -0.0275,
          -0.025,
          -0.0225,
          -0.02,
          -0.0175,
          -0.015,
          -0.0125,
          -0.01,
          -0.0075,
          -0.005,
          -0.0025,
          0,
          0.0025,
          0.005,
          0.0075,
          0.01,
          0.0125,
          0.015,
          0.0175,
          0.02,
          0.0225,
          0.025,
          0.0275,
          0.03,
          0.0325,
          0.035,
          0.0375,
          0.04,
          0.0425,
          0.045,
          0.0475,
          0.05,
          0.0525,
          0.055,
          0.0575,
          0.06,
          0.0625,
          0.065,
          0.0675,
          0.07,
          0.0725,
          0.075,
          0.0775,
          0.08,
          0.0825,
          0.085,
          0.0875,
          0.09,
          0.0925,
          0.095,
          0.0975,
          0.1,
          0.1025,
          0.105,
          0.1075,
          0.11,
          0.1125,
          0.115,
          0.1175,
          0.12,
          0.1225,
          0.125,
          0.1275,
          0.13,
          0.1325,
          0.135,
          0.1375,
          0.14,
          0.1425,
          0.145,
          0.1475,
          0.15,
          0.1525,
          0.155,
          0.1575,
          0.16,
          0.1625,
          0.165,
          0.1675,
          0.17,
          0.1725,
          0.175,
          0.1775,
          0.18,
          0.1825,
          0.185,
          0.1875,
          0.19,
          0.1925,
          0.195,
          0.1975,
          0.2,
          0.2025,
          0.205,
          0.2075,
          0.21,
          0.2125,
          0.215,
          0.2175,
          0.22,
          0.2225,
          0.225,
          0.2275,
          0.23,
          0.2325,
          0.235,
          0.2375,
          0.24,
          0.2425,
          0.245,
          0.2475,
          0.25,
          0.2525,
          0.255,
          0.2575,
          0.26,
          0.2625,
          0.265,
          0.2675,
          0.27,
          0.2725,
          0.275,
          0.2775,
          0.28,
          0.2825,
          0.285,
          0.2875,
          0.29,
          0.2925,
          0.295,
          0.2975,
          0.3,
          0.3025,
          0.305,
          0.3075,
          0.31,
          0.3125,
          0.315,
          0.3175,
          0.32,
          0.3225,
          0.325,
          0.3275,
          0.33,
          0.3325,
          0.335,
          0.3375,
          0.34,
          0.3425,
          0.345,
          0.3475,
          0.35,
          0.3525,
          0.355,
          0.3575,
          0.36,
          0.3625,
          0.365,
          0.3675,
          0.37,
          0.3725,
          0.375,
          0.3775,
          0.38,
          0.3825,
          0.385,
          0.3875,
          0.39,
          0.3925,
          0.395,
          0.3975,
          0.4
         ],
         "xaxis": "x6",
         "y": [
          11.87059948481885,
          9.238390470261228,
          6.839551798856856,
          4.684810984240155,
          2.781205860854218,
          1.1324606401817228,
          -0.2606610397190572,
          -1.4000251640152257,
          -2.2898176045149086,
          -2.936254732370781,
          -3.347313536899943,
          -3.5324804282627937,
          -3.502517922417539,
          -3.2692484272004165,
          -2.8453543685745295,
          -2.2441939160426543,
          -1.4796315859309175,
          -0.5658830207219872,
          0.48262673815329293,
          1.6513921476662787,
          2.9259438755337968,
          4.29195395389603,
          5.735329982401986,
          7.242298970747365,
          8.799481392922104,
          10.39395600787771,
          12.013315984017915,
          13.645716847850153,
          15.279916760309895,
          16.90530960768475,
          18.511951377720887,
          20.090580275390323,
          21.632631016934198,
          23.13024372517428,
          24.57626783370259,
          25.964261392417065,
          27.288486151970066,
          28.5438987900355,
          29.72613862788026,
          30.83151217154575,
          31.8569747980062,
          32.800109892971676,
          33.65910573354551,
          34.43273039572833,
          35.12030495378357,
          35.7216752257429,
          36.2371823068339,
          36.66763212035664,
          37.014264203520966,
          37.27871993398165,
          37.46301039127472,
          37.56948403606471,
          37.60079437905964,
          37.55986780063837,
          37.44987167166266,
          37.27418291561538,
          37.03635714211512,
          36.740098472007496,
          36.38923016462314,
          35.987666148423834,
          35.53938354712883,
          35.04839628452564,
          34.51872984252165,
          33.954397238586076,
          33.359376280564575,
          32.73758814892341,
          32.09287734879406,
          31.428993066744066,
          30.749571959995784,
          30.05812239885013,
          29.358010176349637,
          28.652445692731312,
          27.944472615978206,
          27.2369580137763,
          26.532583946421596,
          25.833840504702316,
          25.143020271499907,
          24.462214180813227,
          23.79330874311088,
          23.137984601358074,
          22.497716377745576,
          21.87377376707153,
          21.267223828889016,
          20.678934426935612,
          20.109578761005857,
          19.55964093331034,
          19.029422488492088,
          18.51904986383485,
          18.028482683803986,
          17.5575228309081,
          17.105824222955448,
          16.672903225107838,
          16.25814962370121,
          15.860838087612429,
          15.480140042000468,
          15.115135878537702,
          14.764827425781537,
          14.428150603102235,
          14.103988181598934,
          13.791182575682758,
          13.488548589502155,
          13.194886043117066,
          12.908992204299805,
          12.629673953058731,
          12.355759607429771,
          12.086110340781719,
          11.819631122810486,
          11.555281118577462,
          11.292083482365381,
          11.029134485773886,
          10.765611922384446,
          10.500782734455953,
          10.234009810492743,
          9.964757906145817,
          9.692598644768625,
          9.417214558047062,
          9.13840213146183,
          8.85607382393722,
          8.57025903581965,
          8.281104004438173,
          7.988870611750249,
          7.693934094165929,
          7.396779650395027,
          7.097997949202632,
          6.798279545210265,
          6.4984082174128,
          6.199253251782778,
          5.901760696362157,
          5.606943624451329,
          5.3158714489594985,
          5.029658338718534,
          4.749450795485341,
          4.476414458559475,
          4.211720212358749,
          3.9565296809975443,
          3.7119802027761466,
          3.4791693866809617,
          3.259139362378015,
          3.052860844782078,
          2.8612171442028966,
          2.6849882631913005,
          2.524835231442374,
          2.3812848409132528,
          2.2547149539505433,
          2.1453405684170406,
          2.053200835064402,
          1.9781472340120452,
          1.9198331289018036,
          1.8777049294564492,
          1.85099510529691,
          1.8387173065641313,
          1.8396638594767722,
          1.8524059181028463,
          1.875296566761822,
          1.9064771810010335,
          1.9438873688470935,
          1.9852788278366305,
          2.0282334678101606,
          2.0701861635491206,
          2.1084525163943972,
          2.1402620185255614,
          2.1627970291018492,
          2.173237986576428,
          2.16881529735452,
          2.146868356715906,
          2.1049121741335988,
          2.04071209140443,
          1.9523670987260715,
          1.8384022705676415,
          1.697870860437412,
          1.5304666107520966,
          1.3366468518454333,
          1.117766981743543,
          0.8762269365463808,
          0.615630279351798,
          0.34095655445651474,
          0.058747572165636086,
          -0.22269169161403113,
          -0.4930768769915801,
          -0.7399119801640737,
          -0.9482403088935349,
          -1.1003778905903232,
          -1.1756285500090513,
          -1.1499798529274656,
          -0.9957790918474814,
          -0.6813884682679827,
          -0.17081860549725647,
          0.5766604958282819,
          1.6069319689593513,
          2.971468990364283,
          4.727797040055844,
          6.9399824896257485,
          9.679148515546744
         ],
         "yaxis": "y12"
        }
       ],
       "layout": {
        "annotations": [
         {
          "font": {
           "size": 16
          },
          "showarrow": false,
          "text": "Step 0-1A",
          "x": 0.185,
          "xanchor": "center",
          "xref": "paper",
          "y": 1,
          "yanchor": "bottom",
          "yref": "paper"
         },
         {
          "font": {
           "size": 16
          },
          "showarrow": false,
          "text": "Step 0-2A",
          "x": 0.7550000000000001,
          "xanchor": "center",
          "xref": "paper",
          "y": 1,
          "yanchor": "bottom",
          "yref": "paper"
         },
         {
          "font": {
           "size": 16
          },
          "showarrow": false,
          "text": "Step 0-3A",
          "x": 0.185,
          "xanchor": "center",
          "xref": "paper",
          "y": 0.6111111111111112,
          "yanchor": "bottom",
          "yref": "paper"
         },
         {
          "font": {
           "size": 16
          },
          "showarrow": false,
          "text": "Step 0-4A",
          "x": 0.7550000000000001,
          "xanchor": "center",
          "xref": "paper",
          "y": 0.6111111111111112,
          "yanchor": "bottom",
          "yref": "paper"
         },
         {
          "font": {
           "size": 16
          },
          "showarrow": false,
          "text": "Step 0-5A",
          "x": 0.185,
          "xanchor": "center",
          "xref": "paper",
          "y": 0.22222222222222224,
          "yanchor": "bottom",
          "yref": "paper"
         },
         {
          "font": {
           "size": 16
          },
          "showarrow": false,
          "text": "Step 0-6A",
          "x": 0.7550000000000001,
          "xanchor": "center",
          "xref": "paper",
          "y": 0.22222222222222224,
          "yanchor": "bottom",
          "yref": "paper"
         }
        ],
        "height": 800,
        "template": {
         "data": {
          "bar": [
           {
            "error_x": {
             "color": "#2a3f5f"
            },
            "error_y": {
             "color": "#2a3f5f"
            },
            "marker": {
             "line": {
              "color": "#E5ECF6",
              "width": 0.5
             }
            },
            "type": "bar"
           }
          ],
          "barpolar": [
           {
            "marker": {
             "line": {
              "color": "#E5ECF6",
              "width": 0.5
             }
            },
            "type": "barpolar"
           }
          ],
          "carpet": [
           {
            "aaxis": {
             "endlinecolor": "#2a3f5f",
             "gridcolor": "white",
             "linecolor": "white",
             "minorgridcolor": "white",
             "startlinecolor": "#2a3f5f"
            },
            "baxis": {
             "endlinecolor": "#2a3f5f",
             "gridcolor": "white",
             "linecolor": "white",
             "minorgridcolor": "white",
             "startlinecolor": "#2a3f5f"
            },
            "type": "carpet"
           }
          ],
          "choropleth": [
           {
            "colorbar": {
             "outlinewidth": 0,
             "ticks": ""
            },
            "type": "choropleth"
           }
          ],
          "contour": [
           {
            "colorbar": {
             "outlinewidth": 0,
             "ticks": ""
            },
            "colorscale": [
             [
              0,
              "#0d0887"
             ],
             [
              0.1111111111111111,
              "#46039f"
             ],
             [
              0.2222222222222222,
              "#7201a8"
             ],
             [
              0.3333333333333333,
              "#9c179e"
             ],
             [
              0.4444444444444444,
              "#bd3786"
             ],
             [
              0.5555555555555556,
              "#d8576b"
             ],
             [
              0.6666666666666666,
              "#ed7953"
             ],
             [
              0.7777777777777778,
              "#fb9f3a"
             ],
             [
              0.8888888888888888,
              "#fdca26"
             ],
             [
              1,
              "#f0f921"
             ]
            ],
            "type": "contour"
           }
          ],
          "contourcarpet": [
           {
            "colorbar": {
             "outlinewidth": 0,
             "ticks": ""
            },
            "type": "contourcarpet"
           }
          ],
          "heatmap": [
           {
            "colorbar": {
             "outlinewidth": 0,
             "ticks": ""
            },
            "colorscale": [
             [
              0,
              "#0d0887"
             ],
             [
              0.1111111111111111,
              "#46039f"
             ],
             [
              0.2222222222222222,
              "#7201a8"
             ],
             [
              0.3333333333333333,
              "#9c179e"
             ],
             [
              0.4444444444444444,
              "#bd3786"
             ],
             [
              0.5555555555555556,
              "#d8576b"
             ],
             [
              0.6666666666666666,
              "#ed7953"
             ],
             [
              0.7777777777777778,
              "#fb9f3a"
             ],
             [
              0.8888888888888888,
              "#fdca26"
             ],
             [
              1,
              "#f0f921"
             ]
            ],
            "type": "heatmap"
           }
          ],
          "heatmapgl": [
           {
            "colorbar": {
             "outlinewidth": 0,
             "ticks": ""
            },
            "colorscale": [
             [
              0,
              "#0d0887"
             ],
             [
              0.1111111111111111,
              "#46039f"
             ],
             [
              0.2222222222222222,
              "#7201a8"
             ],
             [
              0.3333333333333333,
              "#9c179e"
             ],
             [
              0.4444444444444444,
              "#bd3786"
             ],
             [
              0.5555555555555556,
              "#d8576b"
             ],
             [
              0.6666666666666666,
              "#ed7953"
             ],
             [
              0.7777777777777778,
              "#fb9f3a"
             ],
             [
              0.8888888888888888,
              "#fdca26"
             ],
             [
              1,
              "#f0f921"
             ]
            ],
            "type": "heatmapgl"
           }
          ],
          "histogram": [
           {
            "marker": {
             "colorbar": {
              "outlinewidth": 0,
              "ticks": ""
             }
            },
            "type": "histogram"
           }
          ],
          "histogram2d": [
           {
            "colorbar": {
             "outlinewidth": 0,
             "ticks": ""
            },
            "colorscale": [
             [
              0,
              "#0d0887"
             ],
             [
              0.1111111111111111,
              "#46039f"
             ],
             [
              0.2222222222222222,
              "#7201a8"
             ],
             [
              0.3333333333333333,
              "#9c179e"
             ],
             [
              0.4444444444444444,
              "#bd3786"
             ],
             [
              0.5555555555555556,
              "#d8576b"
             ],
             [
              0.6666666666666666,
              "#ed7953"
             ],
             [
              0.7777777777777778,
              "#fb9f3a"
             ],
             [
              0.8888888888888888,
              "#fdca26"
             ],
             [
              1,
              "#f0f921"
             ]
            ],
            "type": "histogram2d"
           }
          ],
          "histogram2dcontour": [
           {
            "colorbar": {
             "outlinewidth": 0,
             "ticks": ""
            },
            "colorscale": [
             [
              0,
              "#0d0887"
             ],
             [
              0.1111111111111111,
              "#46039f"
             ],
             [
              0.2222222222222222,
              "#7201a8"
             ],
             [
              0.3333333333333333,
              "#9c179e"
             ],
             [
              0.4444444444444444,
              "#bd3786"
             ],
             [
              0.5555555555555556,
              "#d8576b"
             ],
             [
              0.6666666666666666,
              "#ed7953"
             ],
             [
              0.7777777777777778,
              "#fb9f3a"
             ],
             [
              0.8888888888888888,
              "#fdca26"
             ],
             [
              1,
              "#f0f921"
             ]
            ],
            "type": "histogram2dcontour"
           }
          ],
          "mesh3d": [
           {
            "colorbar": {
             "outlinewidth": 0,
             "ticks": ""
            },
            "type": "mesh3d"
           }
          ],
          "parcoords": [
           {
            "line": {
             "colorbar": {
              "outlinewidth": 0,
              "ticks": ""
             }
            },
            "type": "parcoords"
           }
          ],
          "scatter": [
           {
            "marker": {
             "colorbar": {
              "outlinewidth": 0,
              "ticks": ""
             }
            },
            "type": "scatter"
           }
          ],
          "scatter3d": [
           {
            "line": {
             "colorbar": {
              "outlinewidth": 0,
              "ticks": ""
             }
            },
            "marker": {
             "colorbar": {
              "outlinewidth": 0,
              "ticks": ""
             }
            },
            "type": "scatter3d"
           }
          ],
          "scattercarpet": [
           {
            "marker": {
             "colorbar": {
              "outlinewidth": 0,
              "ticks": ""
             }
            },
            "type": "scattercarpet"
           }
          ],
          "scattergeo": [
           {
            "marker": {
             "colorbar": {
              "outlinewidth": 0,
              "ticks": ""
             }
            },
            "type": "scattergeo"
           }
          ],
          "scattergl": [
           {
            "marker": {
             "colorbar": {
              "outlinewidth": 0,
              "ticks": ""
             }
            },
            "type": "scattergl"
           }
          ],
          "scattermapbox": [
           {
            "marker": {
             "colorbar": {
              "outlinewidth": 0,
              "ticks": ""
             }
            },
            "type": "scattermapbox"
           }
          ],
          "scatterpolar": [
           {
            "marker": {
             "colorbar": {
              "outlinewidth": 0,
              "ticks": ""
             }
            },
            "type": "scatterpolar"
           }
          ],
          "scatterpolargl": [
           {
            "marker": {
             "colorbar": {
              "outlinewidth": 0,
              "ticks": ""
             }
            },
            "type": "scatterpolargl"
           }
          ],
          "scatterternary": [
           {
            "marker": {
             "colorbar": {
              "outlinewidth": 0,
              "ticks": ""
             }
            },
            "type": "scatterternary"
           }
          ],
          "surface": [
           {
            "colorbar": {
             "outlinewidth": 0,
             "ticks": ""
            },
            "colorscale": [
             [
              0,
              "#0d0887"
             ],
             [
              0.1111111111111111,
              "#46039f"
             ],
             [
              0.2222222222222222,
              "#7201a8"
             ],
             [
              0.3333333333333333,
              "#9c179e"
             ],
             [
              0.4444444444444444,
              "#bd3786"
             ],
             [
              0.5555555555555556,
              "#d8576b"
             ],
             [
              0.6666666666666666,
              "#ed7953"
             ],
             [
              0.7777777777777778,
              "#fb9f3a"
             ],
             [
              0.8888888888888888,
              "#fdca26"
             ],
             [
              1,
              "#f0f921"
             ]
            ],
            "type": "surface"
           }
          ],
          "table": [
           {
            "cells": {
             "fill": {
              "color": "#EBF0F8"
             },
             "line": {
              "color": "white"
             }
            },
            "header": {
             "fill": {
              "color": "#C8D4E3"
             },
             "line": {
              "color": "white"
             }
            },
            "type": "table"
           }
          ]
         },
         "layout": {
          "annotationdefaults": {
           "arrowcolor": "#2a3f5f",
           "arrowhead": 0,
           "arrowwidth": 1
          },
          "colorscale": {
           "diverging": [
            [
             0,
             "#8e0152"
            ],
            [
             0.1,
             "#c51b7d"
            ],
            [
             0.2,
             "#de77ae"
            ],
            [
             0.3,
             "#f1b6da"
            ],
            [
             0.4,
             "#fde0ef"
            ],
            [
             0.5,
             "#f7f7f7"
            ],
            [
             0.6,
             "#e6f5d0"
            ],
            [
             0.7,
             "#b8e186"
            ],
            [
             0.8,
             "#7fbc41"
            ],
            [
             0.9,
             "#4d9221"
            ],
            [
             1,
             "#276419"
            ]
           ],
           "sequential": [
            [
             0,
             "#0d0887"
            ],
            [
             0.1111111111111111,
             "#46039f"
            ],
            [
             0.2222222222222222,
             "#7201a8"
            ],
            [
             0.3333333333333333,
             "#9c179e"
            ],
            [
             0.4444444444444444,
             "#bd3786"
            ],
            [
             0.5555555555555556,
             "#d8576b"
            ],
            [
             0.6666666666666666,
             "#ed7953"
            ],
            [
             0.7777777777777778,
             "#fb9f3a"
            ],
            [
             0.8888888888888888,
             "#fdca26"
            ],
            [
             1,
             "#f0f921"
            ]
           ],
           "sequentialminus": [
            [
             0,
             "#0d0887"
            ],
            [
             0.1111111111111111,
             "#46039f"
            ],
            [
             0.2222222222222222,
             "#7201a8"
            ],
            [
             0.3333333333333333,
             "#9c179e"
            ],
            [
             0.4444444444444444,
             "#bd3786"
            ],
            [
             0.5555555555555556,
             "#d8576b"
            ],
            [
             0.6666666666666666,
             "#ed7953"
            ],
            [
             0.7777777777777778,
             "#fb9f3a"
            ],
            [
             0.8888888888888888,
             "#fdca26"
            ],
            [
             1,
             "#f0f921"
            ]
           ]
          },
          "colorway": [
           "#636efa",
           "#EF553B",
           "#00cc96",
           "#ab63fa",
           "#FFA15A",
           "#19d3f3",
           "#FF6692",
           "#B6E880",
           "#FF97FF",
           "#FECB52"
          ],
          "font": {
           "color": "#2a3f5f"
          },
          "geo": {
           "bgcolor": "white",
           "lakecolor": "white",
           "landcolor": "#E5ECF6",
           "showlakes": true,
           "showland": true,
           "subunitcolor": "white"
          },
          "hoverlabel": {
           "align": "left"
          },
          "hovermode": "closest",
          "mapbox": {
           "style": "light"
          },
          "paper_bgcolor": "white",
          "plot_bgcolor": "#E5ECF6",
          "polar": {
           "angularaxis": {
            "gridcolor": "white",
            "linecolor": "white",
            "ticks": ""
           },
           "bgcolor": "#E5ECF6",
           "radialaxis": {
            "gridcolor": "white",
            "linecolor": "white",
            "ticks": ""
           }
          },
          "scene": {
           "xaxis": {
            "backgroundcolor": "#E5ECF6",
            "gridcolor": "white",
            "gridwidth": 2,
            "linecolor": "white",
            "showbackground": true,
            "ticks": "",
            "zerolinecolor": "white"
           },
           "yaxis": {
            "backgroundcolor": "#E5ECF6",
            "gridcolor": "white",
            "gridwidth": 2,
            "linecolor": "white",
            "showbackground": true,
            "ticks": "",
            "zerolinecolor": "white"
           },
           "zaxis": {
            "backgroundcolor": "#E5ECF6",
            "gridcolor": "white",
            "gridwidth": 2,
            "linecolor": "white",
            "showbackground": true,
            "ticks": "",
            "zerolinecolor": "white"
           }
          },
          "shapedefaults": {
           "line": {
            "color": "#2a3f5f"
           }
          },
          "ternary": {
           "aaxis": {
            "gridcolor": "white",
            "linecolor": "white",
            "ticks": ""
           },
           "baxis": {
            "gridcolor": "white",
            "linecolor": "white",
            "ticks": ""
           },
           "bgcolor": "#E5ECF6",
           "caxis": {
            "gridcolor": "white",
            "linecolor": "white",
            "ticks": ""
           }
          },
          "title": {
           "x": 0.05
          },
          "xaxis": {
           "automargin": true,
           "gridcolor": "white",
           "linecolor": "white",
           "ticks": "",
           "zerolinecolor": "white",
           "zerolinewidth": 2
          },
          "yaxis": {
           "automargin": true,
           "gridcolor": "white",
           "linecolor": "white",
           "ticks": "",
           "zerolinecolor": "white",
           "zerolinewidth": 2
          }
         }
        },
        "title": {
         "text": "<b>dI/dt [A/s] versus I [A] all Steps</b>"
        },
        "xaxis": {
         "anchor": "y",
         "domain": [
          0,
          0.37
         ],
         "title": {
          "text": "time (s)"
         }
        },
        "xaxis2": {
         "anchor": "y3",
         "domain": [
          0.5700000000000001,
          0.9400000000000001
         ],
         "title": {
          "text": "time (s)"
         }
        },
        "xaxis3": {
         "anchor": "y5",
         "domain": [
          0,
          0.37
         ],
         "title": {
          "text": "time (s)"
         }
        },
        "xaxis4": {
         "anchor": "y7",
         "domain": [
          0.5700000000000001,
          0.9400000000000001
         ],
         "title": {
          "text": "time (s)"
         }
        },
        "xaxis5": {
         "anchor": "y9",
         "domain": [
          0,
          0.37
         ],
         "title": {
          "text": "time (s)"
         }
        },
        "xaxis6": {
         "anchor": "y11",
         "domain": [
          0.5700000000000001,
          0.9400000000000001
         ],
         "title": {
          "text": "time (s)"
         }
        },
        "yaxis": {
         "anchor": "x",
         "domain": [
          0.7777777777777778,
          1
         ],
         "title": {
          "text": "I [A]"
         }
        },
        "yaxis10": {
         "anchor": "x5",
         "overlaying": "y9",
         "showgrid": false,
         "side": "right",
         "title": {
          "text": "dI/dt [A/s]"
         }
        },
        "yaxis11": {
         "anchor": "x6",
         "domain": [
          0,
          0.22222222222222224
         ],
         "title": {
          "text": "I [A]"
         }
        },
        "yaxis12": {
         "anchor": "x6",
         "overlaying": "y11",
         "showgrid": false,
         "side": "right",
         "title": {
          "text": "dI/dt [A/s]"
         }
        },
        "yaxis2": {
         "anchor": "x",
         "overlaying": "y",
         "showgrid": false,
         "side": "right",
         "title": {
          "text": "dI/dt [A/s]"
         }
        },
        "yaxis3": {
         "anchor": "x2",
         "domain": [
          0.7777777777777778,
          1
         ],
         "title": {
          "text": "I [A]"
         }
        },
        "yaxis4": {
         "anchor": "x2",
         "overlaying": "y3",
         "showgrid": false,
         "side": "right",
         "title": {
          "text": "dI/dt [A/s]"
         }
        },
        "yaxis5": {
         "anchor": "x3",
         "domain": [
          0.3888888888888889,
          0.6111111111111112
         ],
         "title": {
          "text": "I [A]"
         }
        },
        "yaxis6": {
         "anchor": "x3",
         "overlaying": "y5",
         "showgrid": false,
         "side": "right",
         "title": {
          "text": "dI/dt [A/s]"
         }
        },
        "yaxis7": {
         "anchor": "x4",
         "domain": [
          0.3888888888888889,
          0.6111111111111112
         ],
         "title": {
          "text": "I [A]"
         }
        },
        "yaxis8": {
         "anchor": "x4",
         "overlaying": "y7",
         "showgrid": false,
         "side": "right",
         "title": {
          "text": "dI/dt [A/s]"
         }
        },
        "yaxis9": {
         "anchor": "x5",
         "domain": [
          0,
          0.22222222222222224
         ],
         "title": {
          "text": "I [A]"
         }
        }
       }
      },
      "text/html": [
       "<div>\n",
       "        \n",
       "        \n",
       "            <div id=\"ac07a7ee-6543-4873-a7ab-377f99f81a74\" class=\"plotly-graph-div\" style=\"height:800px; width:100%;\"></div>\n",
       "            <script type=\"text/javascript\">\n",
       "                require([\"plotly\"], function(Plotly) {\n",
       "                    window.PLOTLYENV=window.PLOTLYENV || {};\n",
       "                    \n",
       "                if (document.getElementById(\"ac07a7ee-6543-4873-a7ab-377f99f81a74\")) {\n",
       "                    Plotly.newPlot(\n",
       "                        'ac07a7ee-6543-4873-a7ab-377f99f81a74',\n",
       "                        [{\"name\": \"0-1A I[A]\", \"type\": \"scatter\", \"x\": [-0.08, -0.0775, -0.075, -0.0725, -0.07, -0.0675, -0.065, -0.0625, -0.06, -0.0575, -0.055, -0.0525, -0.05, -0.0475, -0.045, -0.0425, -0.04, -0.0375, -0.035, -0.0325, -0.03, -0.0275, -0.025, -0.0225, -0.02, -0.0175, -0.015, -0.0125, -0.01, -0.0075, -0.005, -0.0025, -0.0, 0.0025, 0.005, 0.0075, 0.01, 0.0125, 0.015, 0.0175, 0.02, 0.0225, 0.025, 0.0275, 0.03, 0.0325, 0.035, 0.0375, 0.04, 0.0425, 0.045, 0.0475, 0.05, 0.0525, 0.055, 0.0575, 0.06, 0.0625, 0.065, 0.0675, 0.07, 0.0725, 0.075, 0.0775, 0.08, 0.0825, 0.085, 0.0875, 0.09, 0.0925, 0.095, 0.0975, 0.1, 0.1025, 0.105, 0.1075, 0.11, 0.1125, 0.115, 0.1175, 0.12, 0.1225, 0.125, 0.1275, 0.13, 0.1325, 0.135, 0.1375, 0.14, 0.1425, 0.145, 0.1475, 0.15, 0.1525, 0.155, 0.1575, 0.16, 0.1625, 0.165, 0.1675, 0.17, 0.1725, 0.175, 0.1775, 0.18, 0.1825, 0.185, 0.1875, 0.19, 0.1925, 0.195, 0.1975, 0.2, 0.2025, 0.205, 0.2075, 0.21, 0.2125, 0.215, 0.2175, 0.22, 0.2225, 0.225, 0.2275, 0.23, 0.2325, 0.235, 0.2375, 0.24, 0.2425, 0.245, 0.2475, 0.25, 0.2525, 0.255, 0.2575, 0.26, 0.2625, 0.265, 0.2675, 0.27, 0.2725, 0.275, 0.2775, 0.28, 0.2825, 0.285, 0.2875, 0.29, 0.2925, 0.295, 0.2975, 0.3, 0.3025, 0.305, 0.3075, 0.31, 0.3125, 0.315, 0.3175, 0.32, 0.3225, 0.325, 0.3275, 0.33, 0.3325, 0.335, 0.3375, 0.34, 0.3425, 0.345, 0.3475, 0.35, 0.3525, 0.355, 0.3575, 0.36, 0.3625, 0.365, 0.3675, 0.37, 0.3725, 0.375, 0.3775, 0.38, 0.3825, 0.385, 0.3875, 0.39, 0.3925, 0.395, 0.3975, 0.4], \"xaxis\": \"x\", \"y\": [-0.005064, -0.006242, -0.004986, -0.006242, -0.004986, -0.004986, -0.006242, -0.006242, -0.006242, -0.006242, -0.002552, 0.004986, 0.016291999999999997, 0.02383, 0.03388, 0.04024, 0.047777999999999994, 0.05775, 0.066544, 0.076672, 0.0879, 0.099207, 0.11051400000000002, 0.123076, 0.139408, 0.153227, 0.169559, 0.182122, 0.199709, 0.217297, 0.233629, 0.251217, 0.268805, 0.28388, 0.30146799999999996, 0.319056, 0.336644, 0.352976, 0.369307, 0.384383, 0.403227, 0.419559, 0.43588999999999994, 0.453478, 0.46855399999999997, 0.483629, 0.499961, 0.516292, 0.530111, 0.5427529999999999, 0.559006, 0.5740810000000001, 0.5866439999999999, 0.60172, 0.6155390000000001, 0.6255890000000001, 0.639408, 0.651971, 0.6621, 0.6733279999999999, 0.68589, 0.6971970000000001, 0.704813, 0.717376, 0.72617, 0.738654, 0.747448, 0.757498, 0.7650359999999999, 0.77383, 0.782624, 0.7914180000000001, 0.799034, 0.806493, 0.8140310000000001, 0.820391, 0.82785, 0.8353879999999999, 0.841669, 0.847951, 0.8554879999999999, 0.860592, 0.865539, 0.8705639999999999, 0.8768450000000001, 0.88187, 0.885718, 0.891921, 0.895768, 0.9007149999999999, 0.904483, 0.9070739999999999, 0.9107649999999999, 0.91579, 0.919637, 0.92215, 0.92584, 0.9284309999999999, 0.9322, 0.93589, 0.939659, 0.94225, 0.943507, 0.945941, 0.9485319999999999, 0.949788, 0.953557, 0.9560690000000001, 0.9585819999999999, 0.959838, 0.9623510000000001, 0.963607, 0.9648629999999999, 0.9661200000000001, 0.967376, 0.9686319999999999, 0.969888, 0.971145, 0.9735790000000001, 0.974835, 0.9761700000000001, 0.977426, 0.9786819999999999, 0.981117, 0.981195, 0.981195, 0.9824510000000001, 0.983708, 0.983708, 0.984964, 0.9862200000000001, 0.9862200000000001, 0.9862200000000001, 0.987476, 0.988733, 0.988733, 0.988733, 0.9899889999999999, 0.9899889999999999, 0.991245, 0.992502, 0.991245, 0.992502, 0.993758, 0.993758, 0.994936, 0.996192, 0.9962700000000001, 0.995014, 0.996192, 0.9962700000000001, 0.9962700000000001, 0.997527, 0.997527, 0.997527, 0.997527, 0.998704, 0.998783, 0.998783, 0.998783, 1.000039, 0.998783, 0.9999610000000001, 0.9999610000000001, 1.000039, 1.000039, 1.000039, 1.000039, 1.000039, 1.001217, 1.000039, 1.000039, 1.000039, 1.000039, 1.000039, 1.000039, 1.001296, 1.001296, 1.001296, 1.001296, 1.001296, 1.001296, 1.001296, 1.001296, 1.001296, 1.001296, 1.001296, 1.001296, 1.001296, 1.001296, 1.002552, 1.001296, 1.001296], \"yaxis\": \"y\"}, {\"name\": \"0-1A dI/dt[A/s]\", \"type\": \"scatter\", \"x\": [-0.08, -0.0775, -0.075, -0.0725, -0.07, -0.0675, -0.065, -0.0625, -0.06, -0.0575, -0.055, -0.0525, -0.05, -0.0475, -0.045, -0.0425, -0.04, -0.0375, -0.035, -0.0325, -0.03, -0.0275, -0.025, -0.0225, -0.02, -0.0175, -0.015, -0.0125, -0.01, -0.0075, -0.005, -0.0025, -0.0, 0.0025, 0.005, 0.0075, 0.01, 0.0125, 0.015, 0.0175, 0.02, 0.0225, 0.025, 0.0275, 0.03, 0.0325, 0.035, 0.0375, 0.04, 0.0425, 0.045, 0.0475, 0.05, 0.0525, 0.055, 0.0575, 0.06, 0.0625, 0.065, 0.0675, 0.07, 0.0725, 0.075, 0.0775, 0.08, 0.0825, 0.085, 0.0875, 0.09, 0.0925, 0.095, 0.0975, 0.1, 0.1025, 0.105, 0.1075, 0.11, 0.1125, 0.115, 0.1175, 0.12, 0.1225, 0.125, 0.1275, 0.13, 0.1325, 0.135, 0.1375, 0.14, 0.1425, 0.145, 0.1475, 0.15, 0.1525, 0.155, 0.1575, 0.16, 0.1625, 0.165, 0.1675, 0.17, 0.1725, 0.175, 0.1775, 0.18, 0.1825, 0.185, 0.1875, 0.19, 0.1925, 0.195, 0.1975, 0.2, 0.2025, 0.205, 0.2075, 0.21, 0.2125, 0.215, 0.2175, 0.22, 0.2225, 0.225, 0.2275, 0.23, 0.2325, 0.235, 0.2375, 0.24, 0.2425, 0.245, 0.2475, 0.25, 0.2525, 0.255, 0.2575, 0.26, 0.2625, 0.265, 0.2675, 0.27, 0.2725, 0.275, 0.2775, 0.28, 0.2825, 0.285, 0.2875, 0.29, 0.2925, 0.295, 0.2975, 0.3, 0.3025, 0.305, 0.3075, 0.31, 0.3125, 0.315, 0.3175, 0.32, 0.3225, 0.325, 0.3275, 0.33, 0.3325, 0.335, 0.3375, 0.34, 0.3425, 0.345, 0.3475, 0.35, 0.3525, 0.355, 0.3575, 0.36, 0.3625, 0.365, 0.3675, 0.37, 0.3725, 0.375, 0.3775, 0.38, 0.3825, 0.385, 0.3875, 0.39, 0.3925, 0.395, 0.3975, 0.4], \"xaxis\": \"x\", \"y\": [-0.29847541265879407, -0.33420801801374633, -0.29354019279642785, -0.1872836098455828, -0.025326029165825936, 0.18331220408373916, 0.43042419359281237, 0.7085649776828191, 1.011002388277916, 1.3316702060773524, 1.6651235365316497, 2.0064963327982515, 2.351460993409825, 2.696189963930057, 3.0373192733976175, 3.3719139378690817, 3.6974351648657926, 4.011709294008143, 4.312898410583353, 4.599472570239708, 4.870183574431185, 5.124040237651675, 5.360285088897411, 5.578372451179801, 5.777947844278705, 5.958828657278171, 6.120986038762865, 6.264527953873781, 6.389683358726442, 6.496787443983564, 6.586267900647106, 6.658632162391839, 6.714455580003889, 6.754370484713281, 6.779056098419256, 6.789229250001089, 6.785635858085245, 6.7690431418020705, 6.740232522211732, 6.6999931782098265, 6.649116221838023, 6.588389459024178, 6.518592702859696, 6.440493607589378, 6.35484399254072, 6.262376626255481, 6.16380244210645, 6.05980815768658, 5.9510542712461625, 5.838173409426357, 5.721769001494244, 5.602414256225637, 5.4806514185071284, 5.3569912836382745, 5.231912948208469, 5.1058637773008835, 4.979259568637869, 4.852484895128436, 4.725893608108831, 4.5998094843818595, 4.47452700095935, 4.350312222195229, 4.227403784763775, 4.106013966689078, 3.9863298273672614, 3.868514406242804, 3.7527079685042812, 3.6390292868529786, 3.5275769490702036, 3.4184306817656696, 3.3116526813300395, 3.207288943739705, 3.1053705854709426, 3.00591514837398, 2.908927881934977, 2.8144029969156366, 2.722324884906125, 2.632669298857019, 2.545404490170305, 2.4604922984280035, 2.3778891903195714, 2.2975472447962284, 2.219415081931354, 2.1434387334013474, 2.069562452920926, 1.9977294653703197, 1.9278826537398492, 1.8599651833892255, 1.7939210634754028, 1.7296956457429173, 1.6672360611955979, 1.606491595477154, 1.5474140040812152, 1.4899577687886376, 1.4340802969912065, 1.3797420658066564, 1.326906713119362, 1.2755410778956184, 1.2256151923198049, 1.1771022284810577, 1.1299784025056754, 1.0842228391821207, 1.0398174002596914, 0.9967464797217342, 0.954996769437078, 0.9145569986812099, 0.8754176510905385, 0.837570662668571, 0.8010091045036267, 0.7657268538811906, 0.731718257483374, 0.6989777903602405, 0.6674997143339825, 0.6372777394602265, 0.6083046921126254, 0.5805721931901058, 0.5540703498561452, 0.5287874641213879, 0.5047097614586669, 0.4818211425085632, 0.4601029607847833, 0.4395338291191635, 0.4200894574101035, 0.401742524037461, 0.3844625830959556, 0.3682160093708715, 0.35296598273256397, 0.33867251337146875, 0.3252925090127423, 0.31277988496429376, 0.3010857175387338, 0.29015844107061817, 0.2799440884093727, 0.270386574412143, 0.26142802159223333, 0.25300912669093556, 0.2450695665389251, 0.23754844115226703, 0.230384751580333, 0.2235179095637081, 0.2168882756053705, 0.21043772156801577, 0.2041102134162509, 0.19785240921178904, 0.19161426693933592, 0.18534965618815757, 0.17901696717558124, 0.17257970999011718, 0.16600709637430366, 0.15927459572955627, 0.15236445642662666, 0.14526618284179893, 0.13797695790668918, 0.13050200026995995, 0.12285484449538409, 0.11505753200878299, 0.10714069978809526, 0.09914355307362932, 0.09111370759294779, 0.08310688606043382, 0.0751864529147106, 0.06742277045656486, 0.05989235874848742, 0.05267684079443935, 0.045861653686311676, 0.039534505534268405, 0.03378355711621328, 0.028695306313090363, 0.024352152454835796, 0.0208296168071902, 0.01819319446957124, 0.016494812017139537, 0.01576886422020607, 0.016027802228191668, 0.017257244555874962, 0.019410581236127378, 0.022403040422696918, 0.026105185729507596, 0.03033581145905373, 0.03485420186490096, 0.039351719438800004, 0.04344268612752877, 0.04665452023551531, 0.04841709064395694, 0.04805124882230771, 0.04475649787600933, 0.03759775676445454, 0.025491176550468175, 0.007188964334348569, -0.018736830683075745, -0.05391161588475413, -0.10017668674120817, -0.15960884054862223], \"yaxis\": \"y2\"}, {\"name\": \"0-2A I[A]\", \"type\": \"scatter\", \"x\": [-0.08, -0.0775, -0.075, -0.0725, -0.07, -0.0675, -0.065, -0.0625, -0.06, -0.0575, -0.055, -0.0525, -0.05, -0.0475, -0.045, -0.0425, -0.04, -0.0375, -0.035, -0.0325, -0.03, -0.0275, -0.025, -0.0225, -0.02, -0.0175, -0.015, -0.0125, -0.01, -0.0075, -0.005, -0.0025, -0.0, 0.0025, 0.005, 0.0075, 0.01, 0.0125, 0.015, 0.0175, 0.02, 0.0225, 0.025, 0.0275, 0.03, 0.0325, 0.035, 0.0375, 0.04, 0.0425, 0.045, 0.0475, 0.05, 0.0525, 0.055, 0.0575, 0.06, 0.0625, 0.065, 0.0675, 0.07, 0.0725, 0.075, 0.0775, 0.08, 0.0825, 0.085, 0.0875, 0.09, 0.0925, 0.095, 0.0975, 0.1, 0.1025, 0.105, 0.1075, 0.11, 0.1125, 0.115, 0.1175, 0.12, 0.1225, 0.125, 0.1275, 0.13, 0.1325, 0.135, 0.1375, 0.14, 0.1425, 0.145, 0.1475, 0.15, 0.1525, 0.155, 0.1575, 0.16, 0.1625, 0.165, 0.1675, 0.17, 0.1725, 0.175, 0.1775, 0.18, 0.1825, 0.185, 0.1875, 0.19, 0.1925, 0.195, 0.1975, 0.2, 0.2025, 0.205, 0.2075, 0.21, 0.2125, 0.215, 0.2175, 0.22, 0.2225, 0.225, 0.2275, 0.23, 0.2325, 0.235, 0.2375, 0.24, 0.2425, 0.245, 0.2475, 0.25, 0.2525, 0.255, 0.2575, 0.26, 0.2625, 0.265, 0.2675, 0.27, 0.2725, 0.275, 0.2775, 0.28, 0.2825, 0.285, 0.2875, 0.29, 0.2925, 0.295, 0.2975, 0.3, 0.3025, 0.305, 0.3075, 0.31, 0.3125, 0.315, 0.3175, 0.32, 0.3225, 0.325, 0.3275, 0.33, 0.3325, 0.335, 0.3375, 0.34, 0.3425, 0.345, 0.3475, 0.35, 0.3525, 0.355, 0.3575, 0.36, 0.3625, 0.365, 0.3675, 0.37, 0.3725, 0.375, 0.3775, 0.38, 0.3825, 0.385, 0.3875, 0.39, 0.3925, 0.395, 0.3975, 0.4], \"xaxis\": \"x2\", \"y\": [-0.006242, -0.006242, -0.004986, -0.006242, -0.004986, -0.004986, -0.004986, -0.005064, -0.005064, -0.004986, -0.004986, -0.004986, -0.004986, -0.006242, -0.004986, -0.004986, -0.004986, -0.006242, -0.0038079999999999998, 0.007498, 0.027599000000000002, 0.046443, 0.06403099999999999, 0.080363, 0.096694, 0.113026, 0.128101, 0.148202, 0.169559, 0.192172, 0.217297, 0.242423, 0.268805, 0.29644299999999996, 0.325338, 0.356745, 0.385639, 0.419559, 0.452222, 0.484885, 0.5188050000000001, 0.552725, 0.5866439999999999, 0.6218199999999999, 0.65574, 0.689659, 0.7223229999999999, 0.757498, 0.7914180000000001, 0.824081, 0.8592569999999999, 0.891921, 0.923328, 0.957247, 0.987398, 1.018805, 1.047699, 1.079106, 1.108001, 1.1356389999999998, 1.1632770000000001, 1.189659, 1.2172969999999999, 1.242423, 1.267549, 1.2926739999999999, 1.3165440000000002, 1.3404129999999999, 1.363026, 1.384383, 1.406996, 1.428353, 1.448453, 1.4672969999999999, 1.487398, 1.5049860000000002, 1.5250860000000002, 1.5426739999999999, 1.559006, 1.572825, 1.5904129999999999, 1.606745, 1.62182, 1.634383, 1.649458, 1.6632770000000001, 1.6758400000000002, 1.6871470000000002, 1.699709, 1.711016, 1.7235790000000002, 1.733629, 1.7450139999999998, 1.75373, 1.7662919999999998, 1.7726520000000001, 1.7826240000000002, 1.791418, 1.801468, 1.807828, 1.816544, 1.8241599999999998, 1.830441, 1.839157, 1.8466939999999998, 1.850542, 1.8580009999999998, 1.8643610000000002, 1.869307, 1.873155, 1.880614, 1.885718, 1.889486, 1.8944330000000003, 1.899458, 1.9033060000000002, 1.9070740000000002, 1.910843, 1.914612, 1.9183810000000001, 1.9234060000000002, 1.927175, 1.929609, 1.9321220000000001, 1.9347130000000001, 1.9384810000000001, 1.9409939999999999, 1.944763, 1.946019, 1.948532, 1.950966, 1.9523009999999998, 1.953557, 1.955991, 1.958582, 1.9598380000000002, 1.9623509999999997, 1.9647849999999998, 1.964863, 1.967297, 1.968632, 1.968632, 1.969888, 1.9711450000000001, 1.972323, 1.9724009999999998, 1.973657, 1.9749139999999998, 1.9749139999999998, 1.9773479999999999, 1.978682, 1.979939, 1.981195, 1.981195, 1.9824509999999997, 1.9824509999999997, 1.983629, 1.9848849999999998, 1.984964, 1.984964, 1.98622, 1.9874759999999998, 1.9874759999999998, 1.988733, 1.9886540000000001, 1.988733, 1.988733, 1.9899099999999998, 1.989989, 1.989989, 1.991167, 1.989989, 1.991167, 1.9912450000000002, 1.9912450000000002, 1.9912450000000002, 1.992423, 1.992502, 1.992502, 1.992502, 1.992502, 1.9937580000000001, 1.9937580000000001, 1.9937580000000001, 1.9937580000000001, 1.994936, 1.9937580000000001, 1.9937580000000001, 1.9937580000000001, 1.9950139999999998, 1.9950139999999998, 1.9950139999999998, 1.9950139999999998], \"yaxis\": \"y3\"}, {\"name\": \"0-2A dI/dt[A/s]\", \"type\": \"scatter\", \"x\": [-0.08, -0.0775, -0.075, -0.0725, -0.07, -0.0675, -0.065, -0.0625, -0.06, -0.0575, -0.055, -0.0525, -0.05, -0.0475, -0.045, -0.0425, -0.04, -0.0375, -0.035, -0.0325, -0.03, -0.0275, -0.025, -0.0225, -0.02, -0.0175, -0.015, -0.0125, -0.01, -0.0075, -0.005, -0.0025, -0.0, 0.0025, 0.005, 0.0075, 0.01, 0.0125, 0.015, 0.0175, 0.02, 0.0225, 0.025, 0.0275, 0.03, 0.0325, 0.035, 0.0375, 0.04, 0.0425, 0.045, 0.0475, 0.05, 0.0525, 0.055, 0.0575, 0.06, 0.0625, 0.065, 0.0675, 0.07, 0.0725, 0.075, 0.0775, 0.08, 0.0825, 0.085, 0.0875, 0.09, 0.0925, 0.095, 0.0975, 0.1, 0.1025, 0.105, 0.1075, 0.11, 0.1125, 0.115, 0.1175, 0.12, 0.1225, 0.125, 0.1275, 0.13, 0.1325, 0.135, 0.1375, 0.14, 0.1425, 0.145, 0.1475, 0.15, 0.1525, 0.155, 0.1575, 0.16, 0.1625, 0.165, 0.1675, 0.17, 0.1725, 0.175, 0.1775, 0.18, 0.1825, 0.185, 0.1875, 0.19, 0.1925, 0.195, 0.1975, 0.2, 0.2025, 0.205, 0.2075, 0.21, 0.2125, 0.215, 0.2175, 0.22, 0.2225, 0.225, 0.2275, 0.23, 0.2325, 0.235, 0.2375, 0.24, 0.2425, 0.245, 0.2475, 0.25, 0.2525, 0.255, 0.2575, 0.26, 0.2625, 0.265, 0.2675, 0.27, 0.2725, 0.275, 0.2775, 0.28, 0.2825, 0.285, 0.2875, 0.29, 0.2925, 0.295, 0.2975, 0.3, 0.3025, 0.305, 0.3075, 0.31, 0.3125, 0.315, 0.3175, 0.32, 0.3225, 0.325, 0.3275, 0.33, 0.3325, 0.335, 0.3375, 0.34, 0.3425, 0.345, 0.3475, 0.35, 0.3525, 0.355, 0.3575, 0.36, 0.3625, 0.365, 0.3675, 0.37, 0.3725, 0.375, 0.3775, 0.38, 0.3825, 0.385, 0.3875, 0.39, 0.3925, 0.395, 0.3975, 0.4], \"xaxis\": \"x2\", \"y\": [4.44847176609862, 2.9573900474430452, 1.7444233834222, 0.783345248160277, 0.049588976003969165, -0.4798271875987581, -0.8263726662208715, -1.01007481154668, -1.0495868889087436, -0.9622538362613628, -0.7641758430931578, -0.470269795294163, -0.09432863150661142, 0.350921343997328, 0.8537651473526715, 1.403445755979936, 1.9901126607150363, 2.6047722860842466, 3.2392402361006623, 3.886095323440495, 4.5386353403390505, 5.190834530027185, 5.837302718009132, 6.4732460629623425, 7.094429387518923, 7.697140049666707, 8.278153315985728, 8.83469919841307, 9.364430716705643, 9.865393549246322, 10.335997035314266, 10.774986492414914, 11.181416812739311, 11.554627303295808, 11.89421773473016, 12.200025564322239, 12.472104299119213, 12.710702965636154, 12.91624665302534, 13.089318097085417, 13.230640272950719, 13.341059964769624, 13.421532281148814, 13.473106085607617, 13.496910311753345, 13.494141133354695, 13.466049959955722, 13.413932229137842, 13.339116967001551, 13.242957088903252, 13.126820412945555, 12.992081359181958, 12.8401133079585, 12.672281591276331, 12.489937091519554, 12.294410422352884, 12.08700666705282, 11.86900064999491, 11.641632717477776, 11.40610500452211, 11.163578164739688, 10.915168540823807, 10.661945753668238, 10.404930688576782, 10.145093857480003, 9.883354116529537, 9.62057771889365, 9.357577683030206, 9.095113457165311, 8.833890861157203, 8.574562287375798, 8.317727142678333, 8.063932514011187, 7.813674040616867, 7.567396976273379, 7.325497425440977, 7.088323737638359, 6.856178044816731, 6.629317926946163, 6.407958191473859, 6.1922727527584005, 5.982396598028404, 5.778427826856948, 5.580429751586443, 5.388433046580203, 5.202437934619099, 5.022416399202135, 4.848314411950371, 4.68005416475335, 4.517536296736063, 4.360642106563182, 4.209235741034952, 4.063166351366865, 3.922270208980871, 3.7863727730732553, 3.655290702658493, 3.528833806223923, 3.4068069225641464, 3.2890117267972663, 3.1752484559984246, 3.065317549318385, 2.9590211978863525, 2.8561648002279902, 2.7565583193585894, 2.660017538143654, 2.5663652099458787, 2.475432102008046, 2.387057929448451, 2.301092178172375, 2.217394815432737, 2.135836887194241, 2.056301001886478, 1.978681700552734, 1.902885713826084, 1.8288321065898572, 1.756452311600718, 1.6856900537764297, 1.6165011672707248, 1.5488533078818065, 1.4827255637579473, 1.4181079677867139, 1.35500091547312, 1.293414492528818, 1.233367716815719, 1.1748876997031825, 1.1180087323156336, 1.0627713025615222, 1.0092210492559417, 0.957407660056468, 0.907383720354197, 0.8592035206695492, 0.812921830521061, 0.7685926471397799, 0.7262679278301771, 0.6859963151646351, 0.647821864639134, 0.6117827848012478, 0.5779102002897805, 0.5462269486249305, 0.5167464219960358, 0.4894714657138408, 0.46439334537933874, 0.4414907952493863, 0.42072916067435706, 0.40205964788853343, 0.38541869484148705, 0.37072747716291055, 0.35789156375438225, 0.3468007369023258, 0.33732899222574453, 0.32933473413593006, 0.3226611829362547, 0.3171370100498496, 0.31257721827999596, 0.3087842844081372, 0.30554958183203595, 0.30265510133089, 0.2998754884708976, 0.29698041652656926, 0.293737314215873, 0.2899144679371535, 0.2852845185674955, 0.27962837332821344, 0.2727395535422694, 0.26442899958816923, 0.254530354663574, 0.2429057494322393, 0.22945210996936893, 0.2141080118405636, 0.19686110353330832, 0.1777561228302016, 0.15690353014806568, 0.1344887831803625, 0.11078227766554782, 0.08614997938298607, 0.06106477297265478, 0.03611855345474346, 0.01203508680810117, -0.01031633371727203, -0.029906408488326264, -0.045530502063449774, -0.05579243566351266, -0.059087373262638465, -0.05358377272134618, -0.03720437295503842, -0.007606187763279593, 0.037840523427123074, 0.10207433802248644, 0.18836583645710903, 0.30034188299671527, 0.4420110524111909, 0.6177902341605819, 0.8325324461062742], \"yaxis\": \"y4\"}, {\"name\": \"0-3A I[A]\", \"type\": \"scatter\", \"x\": [-0.08, -0.0775, -0.075, -0.0725, -0.07, -0.0675, -0.065, -0.0625, -0.06, -0.0575, -0.055, -0.0525, -0.05, -0.0475, -0.045, -0.0425, -0.04, -0.0375, -0.035, -0.0325, -0.03, -0.0275, -0.025, -0.0225, -0.02, -0.0175, -0.015, -0.0125, -0.01, -0.0075, -0.005, -0.0025, -0.0, 0.0025, 0.005, 0.0075, 0.01, 0.0125, 0.015, 0.0175, 0.02, 0.0225, 0.025, 0.0275, 0.03, 0.0325, 0.035, 0.0375, 0.04, 0.0425, 0.045, 0.0475, 0.05, 0.0525, 0.055, 0.0575, 0.06, 0.0625, 0.065, 0.0675, 0.07, 0.0725, 0.075, 0.0775, 0.08, 0.0825, 0.085, 0.0875, 0.09, 0.0925, 0.095, 0.0975, 0.1, 0.1025, 0.105, 0.1075, 0.11, 0.1125, 0.115, 0.1175, 0.12, 0.1225, 0.125, 0.1275, 0.13, 0.1325, 0.135, 0.1375, 0.14, 0.1425, 0.145, 0.1475, 0.15, 0.1525, 0.155, 0.1575, 0.16, 0.1625, 0.165, 0.1675, 0.17, 0.1725, 0.175, 0.1775, 0.18, 0.1825, 0.185, 0.1875, 0.19, 0.1925, 0.195, 0.1975, 0.2, 0.2025, 0.205, 0.2075, 0.21, 0.2125, 0.215, 0.2175, 0.22, 0.2225, 0.225, 0.2275, 0.23, 0.2325, 0.235, 0.2375, 0.24, 0.2425, 0.245, 0.2475, 0.25, 0.2525, 0.255, 0.2575, 0.26, 0.2625, 0.265, 0.2675, 0.27, 0.2725, 0.275, 0.2775, 0.28, 0.2825, 0.285, 0.2875, 0.29, 0.2925, 0.295, 0.2975, 0.3, 0.3025, 0.305, 0.3075, 0.31, 0.3125, 0.315, 0.3175, 0.32, 0.3225, 0.325, 0.3275, 0.33, 0.3325, 0.335, 0.3375, 0.34, 0.3425, 0.345, 0.3475, 0.35, 0.3525, 0.355, 0.3575, 0.36, 0.3625, 0.365, 0.3675, 0.37, 0.3725, 0.375, 0.3775, 0.38, 0.3825, 0.385, 0.3875, 0.39, 0.3925, 0.395, 0.3975, 0.4], \"xaxis\": \"x3\", \"y\": [-0.014808000000000002, -0.014808000000000002, -0.014808000000000002, -0.014808000000000002, -0.014808000000000002, -0.014808000000000002, -0.014808000000000002, -0.014808000000000002, -0.014808000000000002, -0.014808000000000002, -0.014808000000000002, -0.014808000000000002, -0.014808000000000002, -0.014808000000000002, -0.014808000000000002, -0.014808000000000002, -0.014808000000000002, -0.014808000000000002, -0.014808000000000002, -0.014808000000000002, -0.012453, 0.010159999999999999, 0.032773000000000004, 0.065437, 0.0981, 0.11082, 0.143326, 0.163427, 0.188552, 0.221216, 0.248854, 0.279005, 0.311668, 0.349356, 0.38955700000000004, 0.432271, 0.474984, 0.517698, 0.565437, 0.615688, 0.663427, 0.7136779999999999, 0.761417, 0.81418, 0.866944, 0.914683, 0.9649340000000001, 1.017698, 1.067949, 1.115688, 1.168452, 1.218703, 1.2689540000000001, 1.31418, 1.361919, 1.409658, 1.457396, 1.5051350000000001, 1.550361, 1.590562, 1.635788, 1.675989, 1.721216, 1.7614169999999998, 1.801618, 1.839306, 1.8769939999999998, 1.9197080000000002, 1.954884, 1.992572, 2.025236, 2.055386, 2.08805, 2.1207130000000003, 2.1533759999999997, 2.181015, 2.20614, 2.2364479999999998, 2.263929, 2.286542, 2.316693, 2.344331, 2.361919, 2.389557, 2.4096580000000003, 2.4347830000000004, 2.454884, 2.477497, 2.492572, 2.515342, 2.530261, 2.550518, 2.562924, 2.5805119999999997, 2.5981, 2.613175, 2.633276, 2.640971, 2.6535330000000004, 2.670964, 2.681172, 2.691065, 2.70614, 2.718703, 2.726398, 2.738803, 2.749011, 2.759061, 2.7640860000000003, 2.7764919999999997, 2.786699, 2.796592, 2.801775, 2.809155, 2.816693, 2.824388, 2.831925, 2.8394630000000003, 2.844331, 2.8470009999999997, 2.8545380000000002, 2.8595639999999998, 2.8669439999999997, 2.8721259999999997, 2.877151, 2.879664, 2.882177, 2.887202, 2.889714, 2.894739, 2.899765, 2.904633, 2.907302, 2.91217, 2.914683, 2.917352, 2.919865, 2.9223779999999997, 2.9247330000000002, 2.927403, 2.9299150000000003, 2.932428, 2.9347830000000004, 2.937453, 2.937453, 2.939966, 2.942478, 2.944991, 2.947346, 2.9475029999999998, 2.950016, 2.950016, 2.952528, 2.954884, 2.955041, 2.9573959999999997, 2.957553, 2.957553, 2.957553, 2.960066, 2.960066, 2.960066, 2.960066, 2.9625790000000003, 2.9625790000000003, 2.9625790000000003, 2.9625790000000003, 2.9625790000000003, 2.965091, 2.965091, 2.965091, 2.965091, 2.967447, 2.967604, 2.967604, 2.967604, 2.967604, 2.967604, 2.969959, 2.967604, 2.970116, 2.970116, 2.970116, 2.972629, 2.970116, 2.970116, 2.972629, 2.972629, 2.972629, 2.972629, 2.972629, 2.972629, 2.974984], \"yaxis\": \"y5\"}, {\"name\": \"0-3A dI/dt[A/s]\", \"type\": \"scatter\", \"x\": [-0.08, -0.0775, -0.075, -0.0725, -0.07, -0.0675, -0.065, -0.0625, -0.06, -0.0575, -0.055, -0.0525, -0.05, -0.0475, -0.045, -0.0425, -0.04, -0.0375, -0.035, -0.0325, -0.03, -0.0275, -0.025, -0.0225, -0.02, -0.0175, -0.015, -0.0125, -0.01, -0.0075, -0.005, -0.0025, -0.0, 0.0025, 0.005, 0.0075, 0.01, 0.0125, 0.015, 0.0175, 0.02, 0.0225, 0.025, 0.0275, 0.03, 0.0325, 0.035, 0.0375, 0.04, 0.0425, 0.045, 0.0475, 0.05, 0.0525, 0.055, 0.0575, 0.06, 0.0625, 0.065, 0.0675, 0.07, 0.0725, 0.075, 0.0775, 0.08, 0.0825, 0.085, 0.0875, 0.09, 0.0925, 0.095, 0.0975, 0.1, 0.1025, 0.105, 0.1075, 0.11, 0.1125, 0.115, 0.1175, 0.12, 0.1225, 0.125, 0.1275, 0.13, 0.1325, 0.135, 0.1375, 0.14, 0.1425, 0.145, 0.1475, 0.15, 0.1525, 0.155, 0.1575, 0.16, 0.1625, 0.165, 0.1675, 0.17, 0.1725, 0.175, 0.1775, 0.18, 0.1825, 0.185, 0.1875, 0.19, 0.1925, 0.195, 0.1975, 0.2, 0.2025, 0.205, 0.2075, 0.21, 0.2125, 0.215, 0.2175, 0.22, 0.2225, 0.225, 0.2275, 0.23, 0.2325, 0.235, 0.2375, 0.24, 0.2425, 0.245, 0.2475, 0.25, 0.2525, 0.255, 0.2575, 0.26, 0.2625, 0.265, 0.2675, 0.27, 0.2725, 0.275, 0.2775, 0.28, 0.2825, 0.285, 0.2875, 0.29, 0.2925, 0.295, 0.2975, 0.3, 0.3025, 0.305, 0.3075, 0.31, 0.3125, 0.315, 0.3175, 0.32, 0.3225, 0.325, 0.3275, 0.33, 0.3325, 0.335, 0.3375, 0.34, 0.3425, 0.345, 0.3475, 0.35, 0.3525, 0.355, 0.3575, 0.36, 0.3625, 0.365, 0.3675, 0.37, 0.3725, 0.375, 0.3775, 0.38, 0.3825, 0.385, 0.3875, 0.39, 0.3925, 0.395, 0.3975, 0.4], \"xaxis\": \"x3\", \"y\": [6.906645376157853, 4.787501839062029, 3.021395727225668, 1.5794072506144534, 0.43408263687421034, -0.44060848235598904, -1.0693155258869709, -1.475349215889036, -1.6807235886599514, -1.7061977243017488, -1.5713171579918104, -1.2944549371451721, -0.8928522903530904, -0.3826588755474809, 0.22102742361787264, 0.9041211826609565, 1.6535106304371023, 2.4570193791030697, 3.303368714958614, 4.182140473820908, 5.083740523186446, 5.999362872058402, 6.920954427963665, 7.841180419353833, 8.753390500277812, 9.651585552930545, 10.530385202422654, 11.384996056879595, 12.21118068476614, 13.005227340142634, 13.763920445393678, 14.484511839827428, 15.164692801424753, 15.802566847922016, 16.39662332233919, 16.94571176701643, 17.449017089197085, 17.90603552019349, 18.316551369193643, 18.680614571812065, 18.998519032556914, 19.270781759477575, 19.49812278837239, 19.681445893075523, 19.821820077504228, 19.920461844333918, 19.978718234377773, 19.998050629980554, 19.98001931499265, 19.926268783170094, 19.838513786149672, 19.718526111474823, 19.568122080498274, 19.389150755360998, 19.183482843644036, 18.953000288710435, 18.699586533198357, 18.42511744259404, 18.13145287530403, 17.8204288851606, 17.493850541831932, 17.15348535417014, 16.801057281114616, 16.438241314376693, 16.06665861676303, 15.687872199650272, 15.303383122802156, 14.914627199422206, 14.522972189060468, 14.129715460742005, 13.736082108456843, 13.343223500947145, 12.952216247546643, 12.564061561669995, 12.179685003416054, 11.799936582638532, 11.425591203750944, 11.057349433468879, 10.695838572653003, 10.341614013399465, 9.995160862531536, 9.656895812676442, 9.327169242165237, 9.006267525071177, 8.694415532802408, 8.391779308789115, 8.098468897953182, 7.814541312819209, 7.5400036183204, 7.274816117571207, 7.018895621119434, 6.772118782456237, 6.534325482850054, 6.305322248883268, 6.08488568640483, 5.872765914971392, 5.668689987231655, 5.472365278113996, 5.28348282910725, 5.101720633376287, 4.926746847930685, 4.758222919564107, 4.595806611804903, 4.439154920665198, 4.28792686754441, 4.141786158239334, 4.000403697625401, 3.8634599502178197, 3.730647137484169, 3.601671263463796, 3.4762539609663943, 3.3541341513500083, 3.23506951163842, 3.118837743522306, 3.0052376395859035, 2.894089942935828, 2.7852379972558925, 2.678548185186493, 2.573910153829985, 2.4712368270966447, 2.3704642055622056, 2.2715509554652478, 2.174477789473082, 2.0792466428554555, 1.98587964974962, 1.8944179252535633, 1.8049201601819487, 1.7174610364198735, 1.6321294719425392, 1.5490267057353133, 1.468264234011773, 1.3899616103466848, 1.314244123556211, 1.2412403684154576, 1.1710797255699763, 1.103889768301645, 1.039793615122239, 0.9789072485250223, 0.9213368215707955, 0.8671759753994763, 0.8165031921546948, 0.7693792092578615, 0.7258445224186207, 0.6859170062651536, 0.6495896829805883, 0.6168286708549253, 0.5875713462364445, 0.5617247539207586, 0.5391643026456432, 0.5197327839538133, 0.5032397543635092, 0.48946132243647433, 0.4781403840482845, 0.46898735086891996, 0.461681418806565, 0.45587242495470726, 0.4511833433317598, 0.44721347156016833, 0.4435423624347177, 0.43973455620628243, 0.43534517128804495, 0.4299264129932361, 0.4230350618538665, 0.4142410050013705, 0.4031368761130949, 0.3893488713615749, 0.37254881089526926, 0.3524675173849321, 0.3289095852460804, 0.3017696162755712, 0.2710499994901845, 0.23688031518374686, 0.19953844530676967, 0.15947347450919835, 0.11733046836653926, 0.07397721759648768, 0.030533039241692705, -0.011600271814067753, -0.050705245418591005, -0.08471319483373208, -0.11116623126599556, -0.12717673152863185, -0.12938415378508594, -0.11390909386846815, -0.07630447224196502, -0.011503739167462612, 0.0862340168119573, 0.22338217449630626, 0.4072080197442478, 0.6458376417767706, 0.9483244112033926, 1.324721167520913, 1.7861562463796368], \"yaxis\": \"y6\"}, {\"name\": \"0-4A I[A]\", \"type\": \"scatter\", \"x\": [-0.08, -0.0775, -0.075, -0.0725, -0.07, -0.0675, -0.065, -0.0625, -0.06, -0.0575, -0.055, -0.0525, -0.05, -0.0475, -0.045, -0.0425, -0.04, -0.0375, -0.035, -0.0325, -0.03, -0.0275, -0.025, -0.0225, -0.02, -0.0175, -0.015, -0.0125, -0.01, -0.0075, -0.005, -0.0025, -0.0, 0.0025, 0.005, 0.0075, 0.01, 0.0125, 0.015, 0.0175, 0.02, 0.0225, 0.025, 0.0275, 0.03, 0.0325, 0.035, 0.0375, 0.04, 0.0425, 0.045, 0.0475, 0.05, 0.0525, 0.055, 0.0575, 0.06, 0.0625, 0.065, 0.0675, 0.07, 0.0725, 0.075, 0.0775, 0.08, 0.0825, 0.085, 0.0875, 0.09, 0.0925, 0.095, 0.0975, 0.1, 0.1025, 0.105, 0.1075, 0.11, 0.1125, 0.115, 0.1175, 0.12, 0.1225, 0.125, 0.1275, 0.13, 0.1325, 0.135, 0.1375, 0.14, 0.1425, 0.145, 0.1475, 0.15, 0.1525, 0.155, 0.1575, 0.16, 0.1625, 0.165, 0.1675, 0.17, 0.1725, 0.175, 0.1775, 0.18, 0.1825, 0.185, 0.1875, 0.19, 0.1925, 0.195, 0.1975, 0.2, 0.2025, 0.205, 0.2075, 0.21, 0.2125, 0.215, 0.2175, 0.22, 0.2225, 0.225, 0.2275, 0.23, 0.2325, 0.235, 0.2375, 0.24, 0.2425, 0.245, 0.2475, 0.25, 0.2525, 0.255, 0.2575, 0.26, 0.2625, 0.265, 0.2675, 0.27, 0.2725, 0.275, 0.2775, 0.28, 0.2825, 0.285, 0.2875, 0.29, 0.2925, 0.295, 0.2975, 0.3, 0.3025, 0.305, 0.3075, 0.31, 0.3125, 0.315, 0.3175, 0.32, 0.3225, 0.325, 0.3275, 0.33, 0.3325, 0.335, 0.3375, 0.34, 0.3425, 0.345, 0.3475, 0.35, 0.3525, 0.355, 0.3575, 0.36, 0.3625, 0.365, 0.3675, 0.37, 0.3725, 0.375, 0.3775, 0.38, 0.3825, 0.385, 0.3875, 0.39, 0.3925, 0.395, 0.3975, 0.4], \"xaxis\": \"x4\", \"y\": [-0.014808000000000002, -0.014808000000000002, -0.014808000000000002, -0.014808000000000002, -0.014808000000000002, -0.014808000000000002, -0.014808000000000002, -0.014808000000000002, -0.014808000000000002, -0.012453, -0.014808000000000002, -0.014808000000000002, -0.014808000000000002, -0.014808000000000002, -0.014808000000000002, -0.014808000000000002, -0.014808000000000002, -0.014808000000000002, -0.014808000000000002, -0.014808000000000002, -0.014808000000000002, -0.014808000000000002, -0.014808000000000002, 0.005135, 0.040311, 0.083025, 0.11568800000000001, 0.148351, 0.183527, 0.21619000000000002, 0.24634099999999998, 0.279005, 0.316693, 0.361919, 0.40965799999999997, 0.459909, 0.507648, 0.5578989999999999, 0.620713, 0.6759890000000001, 0.743829, 0.801618, 0.8694569999999999, 0.934783, 0.995085, 1.067949, 1.135788, 1.1960899999999999, 1.2689540000000001, 1.3367930000000001, 1.40212, 1.469959, 1.540311, 1.6006129999999998, 1.670964, 1.741316, 1.801618, 1.866944, 1.9322709999999998, 1.992572, 2.050361, 2.113175, 2.165939, 2.2287529999999998, 2.279004, 2.336793, 2.39207, 2.4423209999999997, 2.495085, 2.5453360000000003, 2.593075, 2.6408139999999998, 2.683527, 2.726241, 2.768954, 2.811668, 2.8518689999999998, 2.889557, 2.929758, 2.962422, 3.00011, 3.037798, 3.070462, 3.105638, 3.1357880000000002, 3.163427, 3.1960900000000003, 3.223728, 3.251366, 3.281517, 3.3091550000000005, 3.3292559999999995, 3.359406, 3.38202, 3.404633, 3.429758, 3.4498589999999996, 3.4724720000000002, 3.492572, 3.5126730000000004, 3.5277480000000003, 3.550361, 3.563081, 3.5779989999999997, 3.5981, 3.61082, 3.6307629999999995, 3.6434830000000002, 3.6558889999999997, 3.6686089999999996, 3.6835269999999998, 3.693577, 3.70614, 3.718703, 3.726398, 3.736448, 3.748854, 3.761417, 3.766599, 3.774136, 3.7866989999999996, 3.7991050000000004, 3.8042870000000004, 3.8068, 3.8141800000000003, 3.821875, 3.831768, 3.8393059999999997, 3.8444879999999997, 3.847001, 3.8520260000000004, 3.859406, 3.8671010000000003, 3.8746389999999997, 3.879664, 3.884532, 3.884689, 3.889557, 3.8922269999999997, 3.894739, 3.899607, 3.90479, 3.9096580000000003, 3.912327, 3.9173519999999997, 3.919865, 3.9223779999999997, 3.9247330000000002, 3.927403, 3.927403, 3.9299150000000003, 3.932271, 3.93494, 3.937453, 3.9399660000000005, 3.942478, 3.9449910000000004, 3.9475029999999998, 3.950016, 3.952528, 3.9550410000000005, 3.957553, 3.9599089999999997, 3.9600660000000003, 3.962422, 3.9625790000000003, 3.9625790000000003, 3.9625790000000003, 3.965091, 3.965091, 3.965091, 3.965091, 3.965091, 3.965091, 3.967604, 3.967604, 3.967604, 3.967604, 3.967604, 3.967604, 3.967604, 3.967604, 3.9701160000000004, 3.9701160000000004, 3.9701160000000004, 3.9701160000000004, 3.9701160000000004, 3.9724720000000002, 3.972629, 3.9701160000000004, 3.972629, 3.972629, 3.972629], \"yaxis\": \"y7\"}, {\"name\": \"0-4A dI/dt[A/s]\", \"type\": \"scatter\", \"x\": [-0.08, -0.0775, -0.075, -0.0725, -0.07, -0.0675, -0.065, -0.0625, -0.06, -0.0575, -0.055, -0.0525, -0.05, -0.0475, -0.045, -0.0425, -0.04, -0.0375, -0.035, -0.0325, -0.03, -0.0275, -0.025, -0.0225, -0.02, -0.0175, -0.015, -0.0125, -0.01, -0.0075, -0.005, -0.0025, -0.0, 0.0025, 0.005, 0.0075, 0.01, 0.0125, 0.015, 0.0175, 0.02, 0.0225, 0.025, 0.0275, 0.03, 0.0325, 0.035, 0.0375, 0.04, 0.0425, 0.045, 0.0475, 0.05, 0.0525, 0.055, 0.0575, 0.06, 0.0625, 0.065, 0.0675, 0.07, 0.0725, 0.075, 0.0775, 0.08, 0.0825, 0.085, 0.0875, 0.09, 0.0925, 0.095, 0.0975, 0.1, 0.1025, 0.105, 0.1075, 0.11, 0.1125, 0.115, 0.1175, 0.12, 0.1225, 0.125, 0.1275, 0.13, 0.1325, 0.135, 0.1375, 0.14, 0.1425, 0.145, 0.1475, 0.15, 0.1525, 0.155, 0.1575, 0.16, 0.1625, 0.165, 0.1675, 0.17, 0.1725, 0.175, 0.1775, 0.18, 0.1825, 0.185, 0.1875, 0.19, 0.1925, 0.195, 0.1975, 0.2, 0.2025, 0.205, 0.2075, 0.21, 0.2125, 0.215, 0.2175, 0.22, 0.2225, 0.225, 0.2275, 0.23, 0.2325, 0.235, 0.2375, 0.24, 0.2425, 0.245, 0.2475, 0.25, 0.2525, 0.255, 0.2575, 0.26, 0.2625, 0.265, 0.2675, 0.27, 0.2725, 0.275, 0.2775, 0.28, 0.2825, 0.285, 0.2875, 0.29, 0.2925, 0.295, 0.2975, 0.3, 0.3025, 0.305, 0.3075, 0.31, 0.3125, 0.315, 0.3175, 0.32, 0.3225, 0.325, 0.3275, 0.33, 0.3325, 0.335, 0.3375, 0.34, 0.3425, 0.345, 0.3475, 0.35, 0.3525, 0.355, 0.3575, 0.36, 0.3625, 0.365, 0.3675, 0.37, 0.3725, 0.375, 0.3775, 0.38, 0.3825, 0.385, 0.3875, 0.39, 0.3925, 0.395, 0.3975, 0.4], \"xaxis\": \"x4\", \"y\": [8.831201055438228, 6.467093587097281, 4.422232904980179, 2.6812525990693867, 1.2284387121715739, 0.047835201878676514, -0.8766586165195882, -1.561198299769579, -2.021911841296024, -2.2748242415808555, -2.335788763572559, -2.2204245607877127, -1.9440603740343576, -1.5216840008560162, -0.9678972498652385, -0.296876100106207, 0.4776642065419878, 1.3424994041373246, 2.284922029164413, 3.2927630837093815, 4.3544097768125845, 5.458819578115355, 6.595530810639801, 7.754670002362689, 8.92695620916538, 10.103702514762162, 11.27681490632828, 12.438788717767634, 13.582702825877375, 14.7022117780833, 15.791536023935597, 16.845450416169307, 17.85927114084766, 18.828841229919618, 19.750514803434807, 20.621140182670466, 21.438042009535167, 22.199002501823543, 22.90224196820477, 23.54639870123519, 24.130508361192064, 24.653982958131447, 25.116589534277995, 25.518428643658503, 25.859912720794263, 26.141744425269444, 26.364895044094077, 26.530583028980693, 26.64025274095323, 26.69555347010541, 26.69831879382366, 26.65054633238642, 26.554377956547693, 26.412080497507812, 26.22602700556846, 25.9986785997624, 25.732566946840638, 25.430277404191354, 25.094432857555443, 24.727678280793203, 24.332666041445584, 23.91204197242129, 23.468432226827993, 23.00443092975211, 22.522588637676748, 22.0254016132118, 21.51530191989358, 20.994648338993944, 20.46571810756039, 19.930699474289522, 19.391685067316025, 18.85066606557823, 18.30952716309937, 17.77004231330105, 17.233871238341216, 16.70255668644484, 16.1775224182697, 15.660071901522985, 15.151387691317895, 14.652531472130171, 14.164444735686313, 13.687950067684689, 13.2237530149199, 12.772444503149117, 12.334503774906533, 11.910301815437712, 11.500105233992599, 11.104080566878803, 10.722298967941974, 10.354741251501924, 10.001303252235903, 9.661801466060432, 9.335978935724638, 9.02351134458548, 8.724013281895788, 8.43704464289099, 8.162117127019775, 7.898700797816469, 7.6462306681705385, 7.404113275101212, 7.17173320859693, 6.948459559634481, 6.733652253141113, 6.526668232413847, 6.326867462360768, 6.133618719877045, 5.946305140713525, 5.764329493347848, 5.587119151607888, 5.4141307391463425, 5.244854420308151, 5.078817813473814, 4.915589504607773, 4.754782140477484, 4.596055082854157, 4.439116606940759, 4.283725629316569, 4.129692952820568, 3.976882018037715, 3.825209153381012, 3.6746433182070053, 3.5252053359274704, 3.3769666167178887, 3.2300473721564202, 3.084614326954391, 2.9408779358755748, 2.7990891169645113, 2.6595355153402522, 2.5225373150334747, 2.388442619675887, 2.2576224262743327, 2.1304652198297926, 2.007371220185, 1.888746316202953, 1.7749957262115252, 1.666517427562031, 1.5636954021713514, 1.4668927490405395, 1.3764447189624782, 1.2926517309424739, 1.2157724342812202, 1.1460168847760492, 1.0835399081276407, 1.028434728328346, 0.9807269436553057, 0.94036893777022, 0.9072348184643388, 0.8811159816829779, 0.8617174036891377, 0.8486547695130078, 0.8414525512669542, 0.8395431553922776, 0.8422672635139996, 0.8488754973227053, 0.8585315436154595, 0.8703168816587095, 0.883237260914445, 0.8962310833641531, 0.908179850817298, 0.9179208439088278, 0.9242622058808863, 0.9260006107539773, 0.9219417020873166, 0.9109234951923355, 0.8918429425424854, 0.8636858688853231, 0.825560489728776, 0.7767347337696613, 0.7166775972042316, 0.6451047650385853, 0.5620287419508472, 0.4678137427194926, 0.3632355998759209, 0.24954695386677272, 0.12854799878504153, 0.0026630647558505416, -0.1249766742007381, -0.25044406963148447, -0.36892014034147635, -0.47459117268452644, -0.5605384576369339, -0.6186203342325776, -0.6393462004038994, -0.6117421436607273, -0.5232078350622977, -0.3593643213430262, -0.10389234080735932, 0.2616392202681119, 0.7579551233189541, 1.4082662269077915, 2.2384730012697176, 3.2773805283206823, 4.556925417629827], \"yaxis\": \"y8\"}, {\"name\": \"0-5A I[A]\", \"type\": \"scatter\", \"x\": [-0.08, -0.0775, -0.075, -0.0725, -0.07, -0.0675, -0.065, -0.0625, -0.06, -0.0575, -0.055, -0.0525, -0.05, -0.0475, -0.045, -0.0425, -0.04, -0.0375, -0.035, -0.0325, -0.03, -0.0275, -0.025, -0.0225, -0.02, -0.0175, -0.015, -0.0125, -0.01, -0.0075, -0.005, -0.0025, -0.0, 0.0025, 0.005, 0.0075, 0.01, 0.0125, 0.015, 0.0175, 0.02, 0.0225, 0.025, 0.0275, 0.03, 0.0325, 0.035, 0.0375, 0.04, 0.0425, 0.045, 0.0475, 0.05, 0.0525, 0.055, 0.0575, 0.06, 0.0625, 0.065, 0.0675, 0.07, 0.0725, 0.075, 0.0775, 0.08, 0.0825, 0.085, 0.0875, 0.09, 0.0925, 0.095, 0.0975, 0.1, 0.1025, 0.105, 0.1075, 0.11, 0.1125, 0.115, 0.1175, 0.12, 0.1225, 0.125, 0.1275, 0.13, 0.1325, 0.135, 0.1375, 0.14, 0.1425, 0.145, 0.1475, 0.15, 0.1525, 0.155, 0.1575, 0.16, 0.1625, 0.165, 0.1675, 0.17, 0.1725, 0.175, 0.1775, 0.18, 0.1825, 0.185, 0.1875, 0.19, 0.1925, 0.195, 0.1975, 0.2, 0.2025, 0.205, 0.2075, 0.21, 0.2125, 0.215, 0.2175, 0.22, 0.2225, 0.225, 0.2275, 0.23, 0.2325, 0.235, 0.2375, 0.24, 0.2425, 0.245, 0.2475, 0.25, 0.2525, 0.255, 0.2575, 0.26, 0.2625, 0.265, 0.2675, 0.27, 0.2725, 0.275, 0.2775, 0.28, 0.2825, 0.285, 0.2875, 0.29, 0.2925, 0.295, 0.2975, 0.3, 0.3025, 0.305, 0.3075, 0.31, 0.3125, 0.315, 0.3175, 0.32, 0.3225, 0.325, 0.3275, 0.33, 0.3325, 0.335, 0.3375, 0.34, 0.3425, 0.345, 0.3475, 0.35, 0.3525, 0.355, 0.3575, 0.36, 0.3625, 0.365, 0.3675, 0.37, 0.3725, 0.375, 0.3775, 0.38, 0.3825, 0.385, 0.3875, 0.39, 0.3925, 0.395, 0.3975, 0.4], \"xaxis\": \"x5\", \"y\": [-0.014808000000000002, -0.014808000000000002, -0.014808000000000002, -0.014808000000000002, -0.014808000000000002, -0.014808000000000002, -0.014808000000000002, -0.014808000000000002, -0.014808000000000002, -0.014808000000000002, -0.014808000000000002, -0.014808000000000002, -0.014808000000000002, -0.014808000000000002, -0.014808000000000002, -0.014808000000000002, -0.014808000000000002, -0.014808000000000002, -0.014808000000000002, -0.014808000000000002, -0.014808000000000002, -0.014808000000000002, -0.014808000000000002, -0.014808000000000002, -0.014808000000000002, 0.022723, 0.075487, 0.123226, 0.163427, 0.203628, 0.24131599999999997, 0.279005, 0.319206, 0.36945700000000004, 0.422221, 0.469959, 0.527748, 0.590562, 0.6533760000000001, 0.7237279999999999, 0.79408, 0.8694569999999999, 0.9448340000000001, 1.022723, 1.1006129999999998, 1.181015, 1.263929, 1.3468440000000002, 1.427246, 1.51016, 1.593075, 1.675989, 1.758904, 1.8418189999999999, 1.9247330000000002, 2.002623, 2.083025, 2.160914, 2.238803, 2.316693, 2.3945819999999998, 2.4724720000000002, 2.540311, 2.610663, 2.681015, 2.748854, 2.811668, 2.876994, 2.937296, 3.00011, 3.055386, 3.1182, 3.170964, 3.231266, 3.2840300000000004, 3.334281, 3.3945819999999998, 3.4423209999999997, 3.4900599999999997, 3.5377980000000004, 3.583025, 3.6332760000000004, 3.6734769999999997, 3.713678, 3.7563910000000003, 3.796592, 3.834281, 3.8719690000000004, 3.904633, 3.9423209999999997, 3.9724720000000002, 4.0076480000000005, 4.0428239999999995, 4.072973999999999, 4.0981, 4.130763, 4.1634269999999995, 4.188552, 4.211165, 4.241316, 4.258904, 4.286542, 4.3091550000000005, 4.329413, 4.3568940000000005, 4.372126000000001, 4.397094999999999, 4.41217, 4.434783, 4.452371, 4.469958999999999, 4.487547, 4.502623000000001, 4.522723, 4.535286, 4.552874, 4.568105999999999, 4.580512000000001, 4.595587, 4.60815, 4.6182, 4.633276, 4.645996, 4.655889, 4.668451999999999, 4.681172, 4.691065, 4.698601999999999, 4.711165, 4.7237279999999995, 4.72891, 4.733935, 4.748854, 4.761417, 4.768954, 4.7714669999999995, 4.774136, 4.781517, 4.789212, 4.799262000000001, 4.8068, 4.811825, 4.81685, 4.821875, 4.831768, 4.841819, 4.847001000000001, 4.849513, 4.852026, 4.857051, 4.861919, 4.864589, 4.8744819999999995, 4.879664, 4.884532, 4.887201999999999, 4.889714, 4.892227, 4.892227, 4.8947389999999995, 4.897252, 4.90212, 4.907145, 4.912326999999999, 4.91484, 4.9171949999999995, 4.919865, 4.922378, 4.92489, 4.927403, 4.927403, 4.929915, 4.932428, 4.932428, 4.932428, 4.93494, 4.93494, 4.939808, 4.9424779999999995, 4.9424779999999995, 4.9424779999999995, 4.944991, 4.949859, 4.952528, 4.9550410000000005, 4.957553, 4.960066, 4.962579, 4.965091, 4.965091, 4.967604, 4.967604, 4.970116], \"yaxis\": \"y9\"}, {\"name\": \"0-5A dI/dt[A/s]\", \"type\": \"scatter\", \"x\": [-0.08, -0.0775, -0.075, -0.0725, -0.07, -0.0675, -0.065, -0.0625, -0.06, -0.0575, -0.055, -0.0525, -0.05, -0.0475, -0.045, -0.0425, -0.04, -0.0375, -0.035, -0.0325, -0.03, -0.0275, -0.025, -0.0225, -0.02, -0.0175, -0.015, -0.0125, -0.01, -0.0075, -0.005, -0.0025, -0.0, 0.0025, 0.005, 0.0075, 0.01, 0.0125, 0.015, 0.0175, 0.02, 0.0225, 0.025, 0.0275, 0.03, 0.0325, 0.035, 0.0375, 0.04, 0.0425, 0.045, 0.0475, 0.05, 0.0525, 0.055, 0.0575, 0.06, 0.0625, 0.065, 0.0675, 0.07, 0.0725, 0.075, 0.0775, 0.08, 0.0825, 0.085, 0.0875, 0.09, 0.0925, 0.095, 0.0975, 0.1, 0.1025, 0.105, 0.1075, 0.11, 0.1125, 0.115, 0.1175, 0.12, 0.1225, 0.125, 0.1275, 0.13, 0.1325, 0.135, 0.1375, 0.14, 0.1425, 0.145, 0.1475, 0.15, 0.1525, 0.155, 0.1575, 0.16, 0.1625, 0.165, 0.1675, 0.17, 0.1725, 0.175, 0.1775, 0.18, 0.1825, 0.185, 0.1875, 0.19, 0.1925, 0.195, 0.1975, 0.2, 0.2025, 0.205, 0.2075, 0.21, 0.2125, 0.215, 0.2175, 0.22, 0.2225, 0.225, 0.2275, 0.23, 0.2325, 0.235, 0.2375, 0.24, 0.2425, 0.245, 0.2475, 0.25, 0.2525, 0.255, 0.2575, 0.26, 0.2625, 0.265, 0.2675, 0.27, 0.2725, 0.275, 0.2775, 0.28, 0.2825, 0.285, 0.2875, 0.29, 0.2925, 0.295, 0.2975, 0.3, 0.3025, 0.305, 0.3075, 0.31, 0.3125, 0.315, 0.3175, 0.32, 0.3225, 0.325, 0.3275, 0.33, 0.3325, 0.335, 0.3375, 0.34, 0.3425, 0.345, 0.3475, 0.35, 0.3525, 0.355, 0.3575, 0.36, 0.3625, 0.365, 0.3675, 0.37, 0.3725, 0.375, 0.3775, 0.38, 0.3825, 0.385, 0.3875, 0.39, 0.3925, 0.395, 0.3975, 0.4], \"xaxis\": \"x5\", \"y\": [10.35584070363087, 7.838685663865963, 5.602696252586705, 3.6446686243274407, 1.9595150771065875, 0.5404903581789284, -0.620596513914009, -1.5331843313064581, -2.2077751169623276, -2.655762330913781, -2.889271324037832, -2.9210115142307664, -2.7641397730926798, -2.4321345243330725, -1.9386800680529106, -1.2975606578495338, -0.522563870327339, 0.3726071809196263, 1.374413222458383, 2.4695502127309403, 3.645013159740344, 4.888152764250455, 6.186725276327808, 7.528935941494547, 8.903476401355851, 10.299556402313891, 11.70693015488257, 13.115917675173703, 14.517421429335428, 15.90293859108785, 17.26456921201887, 18.595020593975217, 19.88760814270951, 21.136252971924012, 22.335476516985505, 23.480392407873246, 24.56669584136366, 25.590650683050786, 26.549074520550988, 27.439321880143687, 28.259265810157146, 29.007278025619485, 29.68220780006017, 30.283359781866235, 30.81047090427036, 31.263686549874834, 31.64353612259607, 31.950908172049154, 32.187025207680335, 32.353418332397986, 32.45190181804895, 32.48454773783755, 32.45366076368867, 32.36175322961476, 32.211520555358504, 32.00581711794881, 31.747632652328228, 31.44006925588295, 31.08631906553515, 30.68964267003857, 30.253348314253948, 29.78077194647074, 29.275258154284508, 28.740142029137317, 28.178731994379092, 27.594293626613798, 26.990034495152862, 26.36909003961162, 25.734510501051343, 25.089248917590538, 24.436150191083662, 23.777941227294345, 23.117222147972917, 22.456458569384285, 21.797974938122973, 21.143948911496476, 20.496406766356166, 19.857219817007568, 19.228101819737656, 18.61060733855713, 18.00613104396948, 17.415907913946505, 16.84101430381198, 16.282369849410692, 15.740740165769937, 15.216740301443814, 14.71083890686853, 14.223363073348388, 13.75450379773655, 13.304322026475658, 12.872755231414704, 12.459624468726684, 12.064641871312682, 11.687418524292442, 11.327472672550366, 10.98423820882905, 10.657073390539022, 10.345269733283422, 10.048061029081772, 9.764632437415118, 9.494129597505854, 9.235667710694889, 8.988340542375479, 8.751229293699696, 8.523411294180743, 8.30396846737523, 8.091995523047622, 7.886607830586744, 7.686948929969619, 7.49219763824318, 7.30157471132981, 7.114349022943875, 6.929843224548042, 6.747438852572689, 6.566580851565, 6.386781484540769, 6.2076236045607605, 6.028763264469138, 5.849931644789322, 5.670936282990983, 5.491661590713624, 5.31206864905627, 5.132194275719359, 4.952149361622679, 4.772116478600747, 4.592346763930694, 4.413156091723826, 4.234920545680373, 4.058071212292072, 3.8830883183447256, 3.7104947414739584, 3.5408489275988124, 3.3747372542733842, 3.2127658843622804, 3.055552159980685, 2.9037155923159297, 2.757868508773033, 2.6186064248907535, 2.4864982145972654, 2.362076158685813, 2.2458259578254562, 2.138176803039464, 2.0394916033305215, 1.9500574770418773, 1.8700766206220862, 1.7996576756574214, 1.7388077224334353, 1.6874250357972223, 1.6452927467671685, 1.6120735611980415, 1.5873056947676716, 1.5704001917103874, 1.5606398030114939, 1.5571796082487062, 1.5590495738060142, 1.5651592490479622, 1.5743048108600632, 1.5851786760568736, 1.5963819104091073, 1.6064396723692909, 1.6138199391410168, 1.6169557723774126, 1.6142713906778212, 1.6042123259966665, 1.585279951251085, 1.5560706767085541, 1.5153201231534865, 1.461952590494782, 1.3951361511700462, 1.314343708669817, 1.2194203725740245, 1.1106575126118337, 0.9888738657520406, 0.8555040818929953, 0.7126951051895425, 0.5634108000482101, 0.4115452429624824, 0.26204511309639855, 0.12104162711984046, -0.004007523555575432, -0.10416576312220371, -0.16885426556642713, -0.1856771368033847, -0.14023463549773751, -0.015923909989755458, 0.2062732844786055, 0.5480164374216372, 1.033846267007167, 1.6914394129012393, 2.551878428843903, 3.649937680244001, 5.024385765922013, 6.7183050978277965], \"yaxis\": \"y10\"}, {\"name\": \"0-6A I[A]\", \"type\": \"scatter\", \"x\": [-0.08, -0.0775, -0.075, -0.0725, -0.07, -0.0675, -0.065, -0.0625, -0.06, -0.0575, -0.055, -0.0525, -0.05, -0.0475, -0.045, -0.0425, -0.04, -0.0375, -0.035, -0.0325, -0.03, -0.0275, -0.025, -0.0225, -0.02, -0.0175, -0.015, -0.0125, -0.01, -0.0075, -0.005, -0.0025, -0.0, 0.0025, 0.005, 0.0075, 0.01, 0.0125, 0.015, 0.0175, 0.02, 0.0225, 0.025, 0.0275, 0.03, 0.0325, 0.035, 0.0375, 0.04, 0.0425, 0.045, 0.0475, 0.05, 0.0525, 0.055, 0.0575, 0.06, 0.0625, 0.065, 0.0675, 0.07, 0.0725, 0.075, 0.0775, 0.08, 0.0825, 0.085, 0.0875, 0.09, 0.0925, 0.095, 0.0975, 0.1, 0.1025, 0.105, 0.1075, 0.11, 0.1125, 0.115, 0.1175, 0.12, 0.1225, 0.125, 0.1275, 0.13, 0.1325, 0.135, 0.1375, 0.14, 0.1425, 0.145, 0.1475, 0.15, 0.1525, 0.155, 0.1575, 0.16, 0.1625, 0.165, 0.1675, 0.17, 0.1725, 0.175, 0.1775, 0.18, 0.1825, 0.185, 0.1875, 0.19, 0.1925, 0.195, 0.1975, 0.2, 0.2025, 0.205, 0.2075, 0.21, 0.2125, 0.215, 0.2175, 0.22, 0.2225, 0.225, 0.2275, 0.23, 0.2325, 0.235, 0.2375, 0.24, 0.2425, 0.245, 0.2475, 0.25, 0.2525, 0.255, 0.2575, 0.26, 0.2625, 0.265, 0.2675, 0.27, 0.2725, 0.275, 0.2775, 0.28, 0.2825, 0.285, 0.2875, 0.29, 0.2925, 0.295, 0.2975, 0.3, 0.3025, 0.305, 0.3075, 0.31, 0.3125, 0.315, 0.3175, 0.32, 0.3225, 0.325, 0.3275, 0.33, 0.3325, 0.335, 0.3375, 0.34, 0.3425, 0.345, 0.3475, 0.35, 0.3525, 0.355, 0.3575, 0.36, 0.3625, 0.365, 0.3675, 0.37, 0.3725, 0.375, 0.3775, 0.38, 0.3825, 0.385, 0.3875, 0.39, 0.3925, 0.395, 0.3975, 0.4], \"xaxis\": \"x6\", \"y\": [-0.014808000000000002, -0.014808000000000002, -0.014808000000000002, -0.014808000000000002, -0.014808000000000002, -0.014808000000000002, -0.014808000000000002, -0.014808000000000002, -0.014808000000000002, -0.014808000000000002, -0.014808000000000002, -0.014808000000000002, -0.014808000000000002, -0.014808000000000002, -0.014808000000000002, -0.014808000000000002, -0.014808000000000002, -0.014808000000000002, -0.014808000000000002, -0.014808000000000002, -0.014808000000000002, -0.014808000000000002, -0.014808000000000002, -0.014808000000000002, -0.014808000000000002, -0.014808000000000002, 0.015184999999999999, 0.077999, 0.14081400000000002, 0.188552, 0.233778, 0.276492, 0.321718, 0.376994, 0.427246, 0.48001000000000005, 0.5453359999999999, 0.610663, 0.678502, 0.756391, 0.8342809999999999, 0.919708, 1.002623, 1.093075, 1.18604, 1.276492, 1.369457, 1.467447, 1.5604120000000001, 1.660914, 1.758904, 1.8568939999999998, 1.954884, 2.0478490000000003, 2.148351, 2.238803, 2.3342810000000003, 2.427246, 2.5176979999999998, 2.605638, 2.693577, 2.779004, 2.861919, 2.944834, 3.025236, 3.10815, 3.181015, 3.256391, 3.3292559999999995, 3.407145, 3.482522, 3.5528739999999996, 3.620713, 3.6835269999999998, 3.748854, 3.8091550000000005, 3.88202, 3.9423209999999997, 4.00011, 4.052874, 4.113175, 4.168451999999999, 4.218703, 4.2714669999999995, 4.319205, 4.369457, 4.414683, 4.459909, 4.51016, 4.593075, 4.635788, 4.678502, 4.718703, 4.756391000000001, 4.791567, 4.836793, 4.876994, 4.909658, 4.947346, 4.980009, 5.015185, 5.052874, 5.08805, 5.115688, 5.13092, 5.140814, 5.218703, 5.258904, 5.281674, 5.306643, 5.324231, 5.341976, 5.366944, 5.394582, 5.41217, 5.429915, 5.450016000000001, 5.480009, 5.4950849999999996, 5.515185, 5.530418, 5.548006, 5.570462, 5.593075, 5.60815, 5.620712999999999, 5.63092, 5.6409709999999995, 5.671121, 5.688552, 5.701115, 5.713678, 5.711165, 5.716347, 5.721373000000001, 5.733935, 5.749011, 5.764086, 5.781517, 5.7965919999999995, 5.804130000000001, 5.8091550000000005, 5.811668, 5.81685, 5.819363, 5.821875, 5.8269, 5.83695, 5.846844, 5.864432, 5.869457, 5.876994, 5.879507, 5.88202, 5.884689, 5.8821769999999995, 5.8821769999999995, 5.884689, 5.892227, 5.899765, 5.90479, 5.91217, 5.919708, 5.924733, 5.9297580000000005, 5.934783, 5.934783, 5.932428, 5.932428, 5.929915, 5.927403, 5.927403, 5.93494, 5.939966, 5.9424779999999995, 5.947346, 5.952371, 5.959909, 5.967447, 5.967447, 5.9649339999999995, 5.962422, 5.960066, 5.957553, 5.957553, 5.952528, 5.9550410000000005, 5.9550410000000005, 5.952528, 5.957553, 5.962422, 5.969958999999999, 5.974984], \"yaxis\": \"y11\"}, {\"name\": \"0-6A dI/dt[A/s]\", \"type\": \"scatter\", \"x\": [-0.08, -0.0775, -0.075, -0.0725, -0.07, -0.0675, -0.065, -0.0625, -0.06, -0.0575, -0.055, -0.0525, -0.05, -0.0475, -0.045, -0.0425, -0.04, -0.0375, -0.035, -0.0325, -0.03, -0.0275, -0.025, -0.0225, -0.02, -0.0175, -0.015, -0.0125, -0.01, -0.0075, -0.005, -0.0025, -0.0, 0.0025, 0.005, 0.0075, 0.01, 0.0125, 0.015, 0.0175, 0.02, 0.0225, 0.025, 0.0275, 0.03, 0.0325, 0.035, 0.0375, 0.04, 0.0425, 0.045, 0.0475, 0.05, 0.0525, 0.055, 0.0575, 0.06, 0.0625, 0.065, 0.0675, 0.07, 0.0725, 0.075, 0.0775, 0.08, 0.0825, 0.085, 0.0875, 0.09, 0.0925, 0.095, 0.0975, 0.1, 0.1025, 0.105, 0.1075, 0.11, 0.1125, 0.115, 0.1175, 0.12, 0.1225, 0.125, 0.1275, 0.13, 0.1325, 0.135, 0.1375, 0.14, 0.1425, 0.145, 0.1475, 0.15, 0.1525, 0.155, 0.1575, 0.16, 0.1625, 0.165, 0.1675, 0.17, 0.1725, 0.175, 0.1775, 0.18, 0.1825, 0.185, 0.1875, 0.19, 0.1925, 0.195, 0.1975, 0.2, 0.2025, 0.205, 0.2075, 0.21, 0.2125, 0.215, 0.2175, 0.22, 0.2225, 0.225, 0.2275, 0.23, 0.2325, 0.235, 0.2375, 0.24, 0.2425, 0.245, 0.2475, 0.25, 0.2525, 0.255, 0.2575, 0.26, 0.2625, 0.265, 0.2675, 0.27, 0.2725, 0.275, 0.2775, 0.28, 0.2825, 0.285, 0.2875, 0.29, 0.2925, 0.295, 0.2975, 0.3, 0.3025, 0.305, 0.3075, 0.31, 0.3125, 0.315, 0.3175, 0.32, 0.3225, 0.325, 0.3275, 0.33, 0.3325, 0.335, 0.3375, 0.34, 0.3425, 0.345, 0.3475, 0.35, 0.3525, 0.355, 0.3575, 0.36, 0.3625, 0.365, 0.3675, 0.37, 0.3725, 0.375, 0.3775, 0.38, 0.3825, 0.385, 0.3875, 0.39, 0.3925, 0.395, 0.3975, 0.4], \"xaxis\": \"x6\", \"y\": [11.87059948481885, 9.238390470261228, 6.839551798856856, 4.684810984240155, 2.781205860854218, 1.1324606401817228, -0.2606610397190572, -1.4000251640152257, -2.2898176045149086, -2.936254732370781, -3.347313536899943, -3.5324804282627937, -3.502517922417539, -3.2692484272004165, -2.8453543685745295, -2.2441939160426543, -1.4796315859309175, -0.5658830207219872, 0.48262673815329293, 1.6513921476662787, 2.9259438755337968, 4.29195395389603, 5.735329982401986, 7.242298970747365, 8.799481392922104, 10.39395600787771, 12.013315984017915, 13.645716847850153, 15.279916760309895, 16.90530960768475, 18.511951377720887, 20.090580275390323, 21.632631016934198, 23.13024372517428, 24.57626783370259, 25.964261392417065, 27.288486151970066, 28.5438987900355, 29.72613862788026, 30.83151217154575, 31.8569747980062, 32.800109892971676, 33.65910573354551, 34.43273039572833, 35.12030495378357, 35.7216752257429, 36.2371823068339, 36.66763212035664, 37.014264203520966, 37.27871993398165, 37.46301039127472, 37.56948403606471, 37.60079437905964, 37.55986780063837, 37.44987167166266, 37.27418291561538, 37.03635714211512, 36.740098472007496, 36.38923016462314, 35.987666148423834, 35.53938354712883, 35.04839628452564, 34.51872984252165, 33.954397238586076, 33.359376280564575, 32.73758814892341, 32.09287734879406, 31.428993066744066, 30.749571959995784, 30.05812239885013, 29.358010176349637, 28.652445692731312, 27.944472615978206, 27.2369580137763, 26.532583946421596, 25.833840504702316, 25.143020271499907, 24.462214180813227, 23.79330874311088, 23.137984601358074, 22.497716377745576, 21.87377376707153, 21.267223828889016, 20.678934426935612, 20.109578761005857, 19.55964093331034, 19.029422488492088, 18.51904986383485, 18.028482683803986, 17.5575228309081, 17.105824222955448, 16.672903225107838, 16.25814962370121, 15.860838087612429, 15.480140042000468, 15.115135878537702, 14.764827425781537, 14.428150603102235, 14.103988181598934, 13.791182575682758, 13.488548589502155, 13.194886043117066, 12.908992204299805, 12.629673953058731, 12.355759607429771, 12.086110340781719, 11.819631122810486, 11.555281118577462, 11.292083482365381, 11.029134485773886, 10.765611922384446, 10.500782734455953, 10.234009810492743, 9.964757906145817, 9.692598644768625, 9.417214558047062, 9.13840213146183, 8.85607382393722, 8.57025903581965, 8.281104004438173, 7.988870611750249, 7.693934094165929, 7.396779650395027, 7.097997949202632, 6.798279545210265, 6.4984082174128, 6.199253251782778, 5.901760696362157, 5.606943624451329, 5.3158714489594985, 5.029658338718534, 4.749450795485341, 4.476414458559475, 4.211720212358749, 3.9565296809975443, 3.7119802027761466, 3.4791693866809617, 3.259139362378015, 3.052860844782078, 2.8612171442028966, 2.6849882631913005, 2.524835231442374, 2.3812848409132528, 2.2547149539505433, 2.1453405684170406, 2.053200835064402, 1.9781472340120452, 1.9198331289018036, 1.8777049294564492, 1.85099510529691, 1.8387173065641313, 1.8396638594767722, 1.8524059181028463, 1.875296566761822, 1.9064771810010335, 1.9438873688470935, 1.9852788278366305, 2.0282334678101606, 2.0701861635491206, 2.1084525163943972, 2.1402620185255614, 2.1627970291018492, 2.173237986576428, 2.16881529735452, 2.146868356715906, 2.1049121741335988, 2.04071209140443, 1.9523670987260715, 1.8384022705676415, 1.697870860437412, 1.5304666107520966, 1.3366468518454333, 1.117766981743543, 0.8762269365463808, 0.615630279351798, 0.34095655445651474, 0.058747572165636086, -0.22269169161403113, -0.4930768769915801, -0.7399119801640737, -0.9482403088935349, -1.1003778905903232, -1.1756285500090513, -1.1499798529274656, -0.9957790918474814, -0.6813884682679827, -0.17081860549725647, 0.5766604958282819, 1.6069319689593513, 2.971468990364283, 4.727797040055844, 6.9399824896257485, 9.679148515546744], \"yaxis\": \"y12\"}],\n",
       "                        {\"annotations\": [{\"font\": {\"size\": 16}, \"showarrow\": false, \"text\": \"Step 0-1A\", \"x\": 0.185, \"xanchor\": \"center\", \"xref\": \"paper\", \"y\": 1.0, \"yanchor\": \"bottom\", \"yref\": \"paper\"}, {\"font\": {\"size\": 16}, \"showarrow\": false, \"text\": \"Step 0-2A\", \"x\": 0.7550000000000001, \"xanchor\": \"center\", \"xref\": \"paper\", \"y\": 1.0, \"yanchor\": \"bottom\", \"yref\": \"paper\"}, {\"font\": {\"size\": 16}, \"showarrow\": false, \"text\": \"Step 0-3A\", \"x\": 0.185, \"xanchor\": \"center\", \"xref\": \"paper\", \"y\": 0.6111111111111112, \"yanchor\": \"bottom\", \"yref\": \"paper\"}, {\"font\": {\"size\": 16}, \"showarrow\": false, \"text\": \"Step 0-4A\", \"x\": 0.7550000000000001, \"xanchor\": \"center\", \"xref\": \"paper\", \"y\": 0.6111111111111112, \"yanchor\": \"bottom\", \"yref\": \"paper\"}, {\"font\": {\"size\": 16}, \"showarrow\": false, \"text\": \"Step 0-5A\", \"x\": 0.185, \"xanchor\": \"center\", \"xref\": \"paper\", \"y\": 0.22222222222222224, \"yanchor\": \"bottom\", \"yref\": \"paper\"}, {\"font\": {\"size\": 16}, \"showarrow\": false, \"text\": \"Step 0-6A\", \"x\": 0.7550000000000001, \"xanchor\": \"center\", \"xref\": \"paper\", \"y\": 0.22222222222222224, \"yanchor\": \"bottom\", \"yref\": \"paper\"}], \"height\": 800, \"template\": {\"data\": {\"bar\": [{\"error_x\": {\"color\": \"#2a3f5f\"}, \"error_y\": {\"color\": \"#2a3f5f\"}, \"marker\": {\"line\": {\"color\": \"#E5ECF6\", \"width\": 0.5}}, \"type\": \"bar\"}], \"barpolar\": [{\"marker\": {\"line\": {\"color\": \"#E5ECF6\", \"width\": 0.5}}, \"type\": \"barpolar\"}], \"carpet\": [{\"aaxis\": {\"endlinecolor\": \"#2a3f5f\", \"gridcolor\": \"white\", \"linecolor\": \"white\", \"minorgridcolor\": \"white\", \"startlinecolor\": \"#2a3f5f\"}, \"baxis\": {\"endlinecolor\": \"#2a3f5f\", \"gridcolor\": \"white\", \"linecolor\": \"white\", \"minorgridcolor\": \"white\", \"startlinecolor\": \"#2a3f5f\"}, \"type\": \"carpet\"}], \"choropleth\": [{\"colorbar\": {\"outlinewidth\": 0, \"ticks\": \"\"}, \"type\": \"choropleth\"}], \"contour\": [{\"colorbar\": {\"outlinewidth\": 0, \"ticks\": \"\"}, \"colorscale\": [[0.0, \"#0d0887\"], [0.1111111111111111, \"#46039f\"], [0.2222222222222222, \"#7201a8\"], [0.3333333333333333, \"#9c179e\"], [0.4444444444444444, \"#bd3786\"], [0.5555555555555556, \"#d8576b\"], [0.6666666666666666, \"#ed7953\"], [0.7777777777777778, \"#fb9f3a\"], [0.8888888888888888, \"#fdca26\"], [1.0, \"#f0f921\"]], \"type\": \"contour\"}], \"contourcarpet\": [{\"colorbar\": {\"outlinewidth\": 0, \"ticks\": \"\"}, \"type\": \"contourcarpet\"}], \"heatmap\": [{\"colorbar\": {\"outlinewidth\": 0, \"ticks\": \"\"}, \"colorscale\": [[0.0, \"#0d0887\"], [0.1111111111111111, \"#46039f\"], [0.2222222222222222, \"#7201a8\"], [0.3333333333333333, \"#9c179e\"], [0.4444444444444444, \"#bd3786\"], [0.5555555555555556, \"#d8576b\"], [0.6666666666666666, \"#ed7953\"], [0.7777777777777778, \"#fb9f3a\"], [0.8888888888888888, \"#fdca26\"], [1.0, \"#f0f921\"]], \"type\": \"heatmap\"}], \"heatmapgl\": [{\"colorbar\": {\"outlinewidth\": 0, \"ticks\": \"\"}, \"colorscale\": [[0.0, \"#0d0887\"], [0.1111111111111111, \"#46039f\"], [0.2222222222222222, \"#7201a8\"], [0.3333333333333333, \"#9c179e\"], [0.4444444444444444, \"#bd3786\"], [0.5555555555555556, \"#d8576b\"], [0.6666666666666666, \"#ed7953\"], [0.7777777777777778, \"#fb9f3a\"], [0.8888888888888888, \"#fdca26\"], [1.0, \"#f0f921\"]], \"type\": \"heatmapgl\"}], \"histogram\": [{\"marker\": {\"colorbar\": {\"outlinewidth\": 0, \"ticks\": \"\"}}, \"type\": \"histogram\"}], \"histogram2d\": [{\"colorbar\": {\"outlinewidth\": 0, \"ticks\": \"\"}, \"colorscale\": [[0.0, \"#0d0887\"], [0.1111111111111111, \"#46039f\"], [0.2222222222222222, \"#7201a8\"], [0.3333333333333333, \"#9c179e\"], [0.4444444444444444, \"#bd3786\"], [0.5555555555555556, \"#d8576b\"], [0.6666666666666666, \"#ed7953\"], [0.7777777777777778, \"#fb9f3a\"], [0.8888888888888888, \"#fdca26\"], [1.0, \"#f0f921\"]], \"type\": \"histogram2d\"}], \"histogram2dcontour\": [{\"colorbar\": {\"outlinewidth\": 0, \"ticks\": \"\"}, \"colorscale\": [[0.0, \"#0d0887\"], [0.1111111111111111, \"#46039f\"], [0.2222222222222222, \"#7201a8\"], [0.3333333333333333, \"#9c179e\"], [0.4444444444444444, \"#bd3786\"], [0.5555555555555556, \"#d8576b\"], [0.6666666666666666, \"#ed7953\"], [0.7777777777777778, \"#fb9f3a\"], [0.8888888888888888, \"#fdca26\"], [1.0, \"#f0f921\"]], \"type\": \"histogram2dcontour\"}], \"mesh3d\": [{\"colorbar\": {\"outlinewidth\": 0, \"ticks\": \"\"}, \"type\": \"mesh3d\"}], \"parcoords\": [{\"line\": {\"colorbar\": {\"outlinewidth\": 0, \"ticks\": \"\"}}, \"type\": \"parcoords\"}], \"scatter\": [{\"marker\": {\"colorbar\": {\"outlinewidth\": 0, \"ticks\": \"\"}}, \"type\": \"scatter\"}], \"scatter3d\": [{\"line\": {\"colorbar\": {\"outlinewidth\": 0, \"ticks\": \"\"}}, \"marker\": {\"colorbar\": {\"outlinewidth\": 0, \"ticks\": \"\"}}, \"type\": \"scatter3d\"}], \"scattercarpet\": [{\"marker\": {\"colorbar\": {\"outlinewidth\": 0, \"ticks\": \"\"}}, \"type\": \"scattercarpet\"}], \"scattergeo\": [{\"marker\": {\"colorbar\": {\"outlinewidth\": 0, \"ticks\": \"\"}}, \"type\": \"scattergeo\"}], \"scattergl\": [{\"marker\": {\"colorbar\": {\"outlinewidth\": 0, \"ticks\": \"\"}}, \"type\": \"scattergl\"}], \"scattermapbox\": [{\"marker\": {\"colorbar\": {\"outlinewidth\": 0, \"ticks\": \"\"}}, \"type\": \"scattermapbox\"}], \"scatterpolar\": [{\"marker\": {\"colorbar\": {\"outlinewidth\": 0, \"ticks\": \"\"}}, \"type\": \"scatterpolar\"}], \"scatterpolargl\": [{\"marker\": {\"colorbar\": {\"outlinewidth\": 0, \"ticks\": \"\"}}, \"type\": \"scatterpolargl\"}], \"scatterternary\": [{\"marker\": {\"colorbar\": {\"outlinewidth\": 0, \"ticks\": \"\"}}, \"type\": \"scatterternary\"}], \"surface\": [{\"colorbar\": {\"outlinewidth\": 0, \"ticks\": \"\"}, \"colorscale\": [[0.0, \"#0d0887\"], [0.1111111111111111, \"#46039f\"], [0.2222222222222222, \"#7201a8\"], [0.3333333333333333, \"#9c179e\"], [0.4444444444444444, \"#bd3786\"], [0.5555555555555556, \"#d8576b\"], [0.6666666666666666, \"#ed7953\"], [0.7777777777777778, \"#fb9f3a\"], [0.8888888888888888, \"#fdca26\"], [1.0, \"#f0f921\"]], \"type\": \"surface\"}], \"table\": [{\"cells\": {\"fill\": {\"color\": \"#EBF0F8\"}, \"line\": {\"color\": \"white\"}}, \"header\": {\"fill\": {\"color\": \"#C8D4E3\"}, \"line\": {\"color\": \"white\"}}, \"type\": \"table\"}]}, \"layout\": {\"annotationdefaults\": {\"arrowcolor\": \"#2a3f5f\", \"arrowhead\": 0, \"arrowwidth\": 1}, \"colorscale\": {\"diverging\": [[0, \"#8e0152\"], [0.1, \"#c51b7d\"], [0.2, \"#de77ae\"], [0.3, \"#f1b6da\"], [0.4, \"#fde0ef\"], [0.5, \"#f7f7f7\"], [0.6, \"#e6f5d0\"], [0.7, \"#b8e186\"], [0.8, \"#7fbc41\"], [0.9, \"#4d9221\"], [1, \"#276419\"]], \"sequential\": [[0.0, \"#0d0887\"], [0.1111111111111111, \"#46039f\"], [0.2222222222222222, \"#7201a8\"], [0.3333333333333333, \"#9c179e\"], [0.4444444444444444, \"#bd3786\"], [0.5555555555555556, \"#d8576b\"], [0.6666666666666666, \"#ed7953\"], [0.7777777777777778, \"#fb9f3a\"], [0.8888888888888888, \"#fdca26\"], [1.0, \"#f0f921\"]], \"sequentialminus\": [[0.0, \"#0d0887\"], [0.1111111111111111, \"#46039f\"], [0.2222222222222222, \"#7201a8\"], [0.3333333333333333, \"#9c179e\"], [0.4444444444444444, \"#bd3786\"], [0.5555555555555556, \"#d8576b\"], [0.6666666666666666, \"#ed7953\"], [0.7777777777777778, \"#fb9f3a\"], [0.8888888888888888, \"#fdca26\"], [1.0, \"#f0f921\"]]}, \"colorway\": [\"#636efa\", \"#EF553B\", \"#00cc96\", \"#ab63fa\", \"#FFA15A\", \"#19d3f3\", \"#FF6692\", \"#B6E880\", \"#FF97FF\", \"#FECB52\"], \"font\": {\"color\": \"#2a3f5f\"}, \"geo\": {\"bgcolor\": \"white\", \"lakecolor\": \"white\", \"landcolor\": \"#E5ECF6\", \"showlakes\": true, \"showland\": true, \"subunitcolor\": \"white\"}, \"hoverlabel\": {\"align\": \"left\"}, \"hovermode\": \"closest\", \"mapbox\": {\"style\": \"light\"}, \"paper_bgcolor\": \"white\", \"plot_bgcolor\": \"#E5ECF6\", \"polar\": {\"angularaxis\": {\"gridcolor\": \"white\", \"linecolor\": \"white\", \"ticks\": \"\"}, \"bgcolor\": \"#E5ECF6\", \"radialaxis\": {\"gridcolor\": \"white\", \"linecolor\": \"white\", \"ticks\": \"\"}}, \"scene\": {\"xaxis\": {\"backgroundcolor\": \"#E5ECF6\", \"gridcolor\": \"white\", \"gridwidth\": 2, \"linecolor\": \"white\", \"showbackground\": true, \"ticks\": \"\", \"zerolinecolor\": \"white\"}, \"yaxis\": {\"backgroundcolor\": \"#E5ECF6\", \"gridcolor\": \"white\", \"gridwidth\": 2, \"linecolor\": \"white\", \"showbackground\": true, \"ticks\": \"\", \"zerolinecolor\": \"white\"}, \"zaxis\": {\"backgroundcolor\": \"#E5ECF6\", \"gridcolor\": \"white\", \"gridwidth\": 2, \"linecolor\": \"white\", \"showbackground\": true, \"ticks\": \"\", \"zerolinecolor\": \"white\"}}, \"shapedefaults\": {\"line\": {\"color\": \"#2a3f5f\"}}, \"ternary\": {\"aaxis\": {\"gridcolor\": \"white\", \"linecolor\": \"white\", \"ticks\": \"\"}, \"baxis\": {\"gridcolor\": \"white\", \"linecolor\": \"white\", \"ticks\": \"\"}, \"bgcolor\": \"#E5ECF6\", \"caxis\": {\"gridcolor\": \"white\", \"linecolor\": \"white\", \"ticks\": \"\"}}, \"title\": {\"x\": 0.05}, \"xaxis\": {\"automargin\": true, \"gridcolor\": \"white\", \"linecolor\": \"white\", \"ticks\": \"\", \"zerolinecolor\": \"white\", \"zerolinewidth\": 2}, \"yaxis\": {\"automargin\": true, \"gridcolor\": \"white\", \"linecolor\": \"white\", \"ticks\": \"\", \"zerolinecolor\": \"white\", \"zerolinewidth\": 2}}}, \"title\": {\"text\": \"<b>dI/dt [A/s] versus I [A] all Steps</b>\"}, \"xaxis\": {\"anchor\": \"y\", \"domain\": [0.0, 0.37], \"title\": {\"text\": \"time (s)\"}}, \"xaxis2\": {\"anchor\": \"y3\", \"domain\": [0.5700000000000001, 0.9400000000000001], \"title\": {\"text\": \"time (s)\"}}, \"xaxis3\": {\"anchor\": \"y5\", \"domain\": [0.0, 0.37], \"title\": {\"text\": \"time (s)\"}}, \"xaxis4\": {\"anchor\": \"y7\", \"domain\": [0.5700000000000001, 0.9400000000000001], \"title\": {\"text\": \"time (s)\"}}, \"xaxis5\": {\"anchor\": \"y9\", \"domain\": [0.0, 0.37], \"title\": {\"text\": \"time (s)\"}}, \"xaxis6\": {\"anchor\": \"y11\", \"domain\": [0.5700000000000001, 0.9400000000000001], \"title\": {\"text\": \"time (s)\"}}, \"yaxis\": {\"anchor\": \"x\", \"domain\": [0.7777777777777778, 1.0], \"title\": {\"text\": \"I [A]\"}}, \"yaxis10\": {\"anchor\": \"x5\", \"overlaying\": \"y9\", \"showgrid\": false, \"side\": \"right\", \"title\": {\"text\": \"dI/dt [A/s]\"}}, \"yaxis11\": {\"anchor\": \"x6\", \"domain\": [0.0, 0.22222222222222224], \"title\": {\"text\": \"I [A]\"}}, \"yaxis12\": {\"anchor\": \"x6\", \"overlaying\": \"y11\", \"showgrid\": false, \"side\": \"right\", \"title\": {\"text\": \"dI/dt [A/s]\"}}, \"yaxis2\": {\"anchor\": \"x\", \"overlaying\": \"y\", \"showgrid\": false, \"side\": \"right\", \"title\": {\"text\": \"dI/dt [A/s]\"}}, \"yaxis3\": {\"anchor\": \"x2\", \"domain\": [0.7777777777777778, 1.0], \"title\": {\"text\": \"I [A]\"}}, \"yaxis4\": {\"anchor\": \"x2\", \"overlaying\": \"y3\", \"showgrid\": false, \"side\": \"right\", \"title\": {\"text\": \"dI/dt [A/s]\"}}, \"yaxis5\": {\"anchor\": \"x3\", \"domain\": [0.3888888888888889, 0.6111111111111112], \"title\": {\"text\": \"I [A]\"}}, \"yaxis6\": {\"anchor\": \"x3\", \"overlaying\": \"y5\", \"showgrid\": false, \"side\": \"right\", \"title\": {\"text\": \"dI/dt [A/s]\"}}, \"yaxis7\": {\"anchor\": \"x4\", \"domain\": [0.3888888888888889, 0.6111111111111112], \"title\": {\"text\": \"I [A]\"}}, \"yaxis8\": {\"anchor\": \"x4\", \"overlaying\": \"y7\", \"showgrid\": false, \"side\": \"right\", \"title\": {\"text\": \"dI/dt [A/s]\"}}, \"yaxis9\": {\"anchor\": \"x5\", \"domain\": [0.0, 0.22222222222222224], \"title\": {\"text\": \"I [A]\"}}},\n",
       "                        {\"responsive\": true}\n",
       "                    ).then(function(){\n",
       "                            \n",
       "var gd = document.getElementById('ac07a7ee-6543-4873-a7ab-377f99f81a74');\n",
       "var x = new MutationObserver(function (mutations, observer) {{\n",
       "        var display = window.getComputedStyle(gd).display;\n",
       "        if (!display || display === 'none') {{\n",
       "            console.log([gd, 'removed!']);\n",
       "            Plotly.purge(gd);\n",
       "            observer.disconnect();\n",
       "        }}\n",
       "}});\n",
       "\n",
       "// Listen for the removal of the full notebook cells\n",
       "var notebookContainer = gd.closest('#notebook-container');\n",
       "if (notebookContainer) {{\n",
       "    x.observe(notebookContainer, {childList: true});\n",
       "}}\n",
       "\n",
       "// Listen for the clearing of the current output cell\n",
       "var outputEl = gd.closest('.output');\n",
       "if (outputEl) {{\n",
       "    x.observe(outputEl, {childList: true});\n",
       "}}\n",
       "\n",
       "                        })\n",
       "                };\n",
       "                });\n",
       "            </script>\n",
       "        </div>"
      ]
     },
     "metadata": {},
     "output_type": "display_data"
    }
   ],
   "source": [
    "#Muliple Y-Axes Subplots\n",
    "from plotly.subplots import make_subplots\n",
    "\n",
    "fig = make_subplots(rows=3, cols=2,subplot_titles=(\"Step 0-1A\", \"Step 0-2A\", \"Step 0-3A\", \"Step 0-4A\", \"Step 0-5A\", \"Step 0-6A\"),\n",
    "                    specs=[[{\"secondary_y\": True}, {\"secondary_y\": True}],\n",
    "                           [{\"secondary_y\": True}, {\"secondary_y\": True}],\n",
    "                           [{\"secondary_y\": True}, {\"secondary_y\": True}]])\n",
    "\n",
    "# Top left\n",
    "fig.add_trace(\n",
    "    go.Scatter(x=lista_de_dfs[0]['time(s)'], y=lista_de_dfs[0]['I(A)'], name=\"0-1A I[A]\"),\n",
    "    row=1, col=1, secondary_y=False)\n",
    "\n",
    "fig.add_trace(\n",
    "    go.Scatter(x=lista_de_dfs[0]['time(s)'], y=lista_de_dfs[0]['dI/dt'], name=\"0-1A dI/dt[A/s]\"),\n",
    "    row=1, col=1, secondary_y=True,\n",
    ")\n",
    "\n",
    "# Top right\n",
    "fig.add_trace(\n",
    "    go.Scatter(x=lista_de_dfs[1]['time(s)'], y=lista_de_dfs[1]['I(A)'], name=\"0-2A I[A]\"),\n",
    "    row=1, col=2, secondary_y=False,\n",
    ")\n",
    "\n",
    "fig.add_trace(\n",
    "    go.Scatter(x=lista_de_dfs[1]['time(s)'], y=lista_de_dfs[1]['dI/dt'], name=\"0-2A dI/dt[A/s]\"),\n",
    "    row=1, col=2, secondary_y=True,\n",
    ")\n",
    "\n",
    "# Middle left\n",
    "fig.add_trace(\n",
    "    go.Scatter(x=lista_de_dfs[2]['time(s)'], y=lista_de_dfs[2]['I(A)'], name=\"0-3A I[A]\"),\n",
    "    row=2, col=1, secondary_y=False,\n",
    ")\n",
    "\n",
    "fig.add_trace(\n",
    "    go.Scatter(x=lista_de_dfs[2]['time(s)'], y=lista_de_dfs[2]['dI/dt'], name=\"0-3A dI/dt[A/s]\"),\n",
    "    row=2, col=1, secondary_y=True,\n",
    ")\n",
    "\n",
    "\n",
    "# Middle right\n",
    "fig.add_trace(\n",
    "    go.Scatter(x=lista_de_dfs[3]['time(s)'], y=lista_de_dfs[3]['I(A)'], name=\"0-4A I[A]\"),\n",
    "    row=2, col=2, secondary_y=False,\n",
    ")\n",
    "\n",
    "fig.add_trace(\n",
    "    go.Scatter(x=lista_de_dfs[3]['time(s)'], y=lista_de_dfs[3]['dI/dt'], name=\"0-4A dI/dt[A/s]\"),\n",
    "    row=2, col=2, secondary_y=True,\n",
    ")\n",
    "\n",
    "# Bottom left\n",
    "fig.add_trace(\n",
    "    go.Scatter(x=lista_de_dfs[4]['time(s)'], y=lista_de_dfs[4]['I(A)'], name=\"0-5A I[A]\"),\n",
    "    row=3, col=1, secondary_y=False,\n",
    ")\n",
    "\n",
    "fig.add_trace(\n",
    "    go.Scatter(x=lista_de_dfs[4]['time(s)'], y=lista_de_dfs[4]['dI/dt'], name=\"0-5A dI/dt[A/s]\"),\n",
    "    row=3, col=1, secondary_y=True,\n",
    ")\n",
    "\n",
    "# Bottom right\n",
    "fig.add_trace(\n",
    "    go.Scatter(x=lista_de_dfs[5]['time(s)'], y=lista_de_dfs[5]['I(A)'], name=\"0-6A I[A]\"),\n",
    "    row=3, col=2, secondary_y=False,\n",
    ")\n",
    "\n",
    "fig.add_trace(\n",
    "    go.Scatter(x=lista_de_dfs[5]['time(s)'], y=lista_de_dfs[5]['dI/dt'], name=\"0-6A dI/dt[A/s]\"),\n",
    "    row=3, col=2, secondary_y=True,\n",
    ")\n",
    "\n",
    "# Update xaxis properties\n",
    "fig.update_xaxes(title_text=\"time (s)\", row=1, col=1)\n",
    "fig.update_xaxes(title_text=\"time (s)\", row=1, col=2)\n",
    "fig.update_xaxes(title_text=\"time (s)\", row=2, col=1)\n",
    "fig.update_xaxes(title_text=\"time (s)\", row=2, col=2)\n",
    "fig.update_xaxes(title_text=\"time (s)\", row=3, col=1)\n",
    "fig.update_xaxes(title_text=\"time (s)\", row=3, col=2)\n",
    "\n",
    "# secondary_y=False\n",
    "# secondary_y=True, showgrid=False\n",
    "\n",
    "# Update yaxis properties\n",
    "fig.update_yaxes(title_text=\"I [A]\",secondary_y=False, row=1, col=1)\n",
    "fig.update_yaxes(title_text=\"dI/dt [A/s]\",secondary_y=True, showgrid=False, row=1, col=1)\n",
    "\n",
    "fig.update_yaxes(title_text=\"I [A]\", secondary_y=False, row=1, col=2)\n",
    "fig.update_yaxes(title_text=\"dI/dt [A/s]\",secondary_y=True, showgrid=False, row=1, col=2)\n",
    "\n",
    "fig.update_yaxes(title_text=\"I [A]\", secondary_y=False, row=2, col=1)\n",
    "fig.update_yaxes(title_text=\"dI/dt [A/s]\",secondary_y=True, showgrid=False, row=2, col=1)\n",
    "\n",
    "fig.update_yaxes(title_text=\"I [A]\", secondary_y=False, row=2, col=2)\n",
    "fig.update_yaxes(title_text=\"dI/dt [A/s]\",secondary_y=True, showgrid=False, row=2, col=2)\n",
    "\n",
    "fig.update_yaxes(title_text=\"I [A]\", secondary_y=False, row=3, col=1)\n",
    "fig.update_yaxes(title_text=\"dI/dt [A/s]\",secondary_y=True, showgrid=False, row=3, col=1)\n",
    "\n",
    "fig.update_yaxes(title_text=\"I [A]\", secondary_y=False, row=3, col=2)\n",
    "fig.update_yaxes(title_text=\"dI/dt [A/s]\",secondary_y=True, showgrid=False, row=3, col=2)\n",
    "\n",
    "# Update title and height\n",
    "fig.update_layout(title_text=\"<b>dI/dt [A/s] versus I [A] all Steps</b>\", height=800)\n",
    "\n",
    "fig.show()"
   ]
  },
  {
   "cell_type": "code",
   "execution_count": 84,
   "metadata": {},
   "outputs": [
    {
     "data": {
      "application/vnd.plotly.v1+json": {
       "config": {
        "plotlyServerURL": "https://plot.ly"
       },
       "data": [
        {
         "mode": "lines",
         "name": "L(H)",
         "type": "scatter",
         "x": [
          1,
          2,
          3,
          4,
          5,
          6
         ],
         "y": [
          0.013971593439398538,
          0.01397159343939854,
          0.01397159343939854,
          0.014282073293607395,
          0.014592553147816253,
          0.015213512856233964
         ]
        }
       ],
       "layout": {
        "template": {
         "data": {
          "bar": [
           {
            "error_x": {
             "color": "#2a3f5f"
            },
            "error_y": {
             "color": "#2a3f5f"
            },
            "marker": {
             "line": {
              "color": "#E5ECF6",
              "width": 0.5
             }
            },
            "type": "bar"
           }
          ],
          "barpolar": [
           {
            "marker": {
             "line": {
              "color": "#E5ECF6",
              "width": 0.5
             }
            },
            "type": "barpolar"
           }
          ],
          "carpet": [
           {
            "aaxis": {
             "endlinecolor": "#2a3f5f",
             "gridcolor": "white",
             "linecolor": "white",
             "minorgridcolor": "white",
             "startlinecolor": "#2a3f5f"
            },
            "baxis": {
             "endlinecolor": "#2a3f5f",
             "gridcolor": "white",
             "linecolor": "white",
             "minorgridcolor": "white",
             "startlinecolor": "#2a3f5f"
            },
            "type": "carpet"
           }
          ],
          "choropleth": [
           {
            "colorbar": {
             "outlinewidth": 0,
             "ticks": ""
            },
            "type": "choropleth"
           }
          ],
          "contour": [
           {
            "colorbar": {
             "outlinewidth": 0,
             "ticks": ""
            },
            "colorscale": [
             [
              0,
              "#0d0887"
             ],
             [
              0.1111111111111111,
              "#46039f"
             ],
             [
              0.2222222222222222,
              "#7201a8"
             ],
             [
              0.3333333333333333,
              "#9c179e"
             ],
             [
              0.4444444444444444,
              "#bd3786"
             ],
             [
              0.5555555555555556,
              "#d8576b"
             ],
             [
              0.6666666666666666,
              "#ed7953"
             ],
             [
              0.7777777777777778,
              "#fb9f3a"
             ],
             [
              0.8888888888888888,
              "#fdca26"
             ],
             [
              1,
              "#f0f921"
             ]
            ],
            "type": "contour"
           }
          ],
          "contourcarpet": [
           {
            "colorbar": {
             "outlinewidth": 0,
             "ticks": ""
            },
            "type": "contourcarpet"
           }
          ],
          "heatmap": [
           {
            "colorbar": {
             "outlinewidth": 0,
             "ticks": ""
            },
            "colorscale": [
             [
              0,
              "#0d0887"
             ],
             [
              0.1111111111111111,
              "#46039f"
             ],
             [
              0.2222222222222222,
              "#7201a8"
             ],
             [
              0.3333333333333333,
              "#9c179e"
             ],
             [
              0.4444444444444444,
              "#bd3786"
             ],
             [
              0.5555555555555556,
              "#d8576b"
             ],
             [
              0.6666666666666666,
              "#ed7953"
             ],
             [
              0.7777777777777778,
              "#fb9f3a"
             ],
             [
              0.8888888888888888,
              "#fdca26"
             ],
             [
              1,
              "#f0f921"
             ]
            ],
            "type": "heatmap"
           }
          ],
          "heatmapgl": [
           {
            "colorbar": {
             "outlinewidth": 0,
             "ticks": ""
            },
            "colorscale": [
             [
              0,
              "#0d0887"
             ],
             [
              0.1111111111111111,
              "#46039f"
             ],
             [
              0.2222222222222222,
              "#7201a8"
             ],
             [
              0.3333333333333333,
              "#9c179e"
             ],
             [
              0.4444444444444444,
              "#bd3786"
             ],
             [
              0.5555555555555556,
              "#d8576b"
             ],
             [
              0.6666666666666666,
              "#ed7953"
             ],
             [
              0.7777777777777778,
              "#fb9f3a"
             ],
             [
              0.8888888888888888,
              "#fdca26"
             ],
             [
              1,
              "#f0f921"
             ]
            ],
            "type": "heatmapgl"
           }
          ],
          "histogram": [
           {
            "marker": {
             "colorbar": {
              "outlinewidth": 0,
              "ticks": ""
             }
            },
            "type": "histogram"
           }
          ],
          "histogram2d": [
           {
            "colorbar": {
             "outlinewidth": 0,
             "ticks": ""
            },
            "colorscale": [
             [
              0,
              "#0d0887"
             ],
             [
              0.1111111111111111,
              "#46039f"
             ],
             [
              0.2222222222222222,
              "#7201a8"
             ],
             [
              0.3333333333333333,
              "#9c179e"
             ],
             [
              0.4444444444444444,
              "#bd3786"
             ],
             [
              0.5555555555555556,
              "#d8576b"
             ],
             [
              0.6666666666666666,
              "#ed7953"
             ],
             [
              0.7777777777777778,
              "#fb9f3a"
             ],
             [
              0.8888888888888888,
              "#fdca26"
             ],
             [
              1,
              "#f0f921"
             ]
            ],
            "type": "histogram2d"
           }
          ],
          "histogram2dcontour": [
           {
            "colorbar": {
             "outlinewidth": 0,
             "ticks": ""
            },
            "colorscale": [
             [
              0,
              "#0d0887"
             ],
             [
              0.1111111111111111,
              "#46039f"
             ],
             [
              0.2222222222222222,
              "#7201a8"
             ],
             [
              0.3333333333333333,
              "#9c179e"
             ],
             [
              0.4444444444444444,
              "#bd3786"
             ],
             [
              0.5555555555555556,
              "#d8576b"
             ],
             [
              0.6666666666666666,
              "#ed7953"
             ],
             [
              0.7777777777777778,
              "#fb9f3a"
             ],
             [
              0.8888888888888888,
              "#fdca26"
             ],
             [
              1,
              "#f0f921"
             ]
            ],
            "type": "histogram2dcontour"
           }
          ],
          "mesh3d": [
           {
            "colorbar": {
             "outlinewidth": 0,
             "ticks": ""
            },
            "type": "mesh3d"
           }
          ],
          "parcoords": [
           {
            "line": {
             "colorbar": {
              "outlinewidth": 0,
              "ticks": ""
             }
            },
            "type": "parcoords"
           }
          ],
          "scatter": [
           {
            "marker": {
             "colorbar": {
              "outlinewidth": 0,
              "ticks": ""
             }
            },
            "type": "scatter"
           }
          ],
          "scatter3d": [
           {
            "line": {
             "colorbar": {
              "outlinewidth": 0,
              "ticks": ""
             }
            },
            "marker": {
             "colorbar": {
              "outlinewidth": 0,
              "ticks": ""
             }
            },
            "type": "scatter3d"
           }
          ],
          "scattercarpet": [
           {
            "marker": {
             "colorbar": {
              "outlinewidth": 0,
              "ticks": ""
             }
            },
            "type": "scattercarpet"
           }
          ],
          "scattergeo": [
           {
            "marker": {
             "colorbar": {
              "outlinewidth": 0,
              "ticks": ""
             }
            },
            "type": "scattergeo"
           }
          ],
          "scattergl": [
           {
            "marker": {
             "colorbar": {
              "outlinewidth": 0,
              "ticks": ""
             }
            },
            "type": "scattergl"
           }
          ],
          "scattermapbox": [
           {
            "marker": {
             "colorbar": {
              "outlinewidth": 0,
              "ticks": ""
             }
            },
            "type": "scattermapbox"
           }
          ],
          "scatterpolar": [
           {
            "marker": {
             "colorbar": {
              "outlinewidth": 0,
              "ticks": ""
             }
            },
            "type": "scatterpolar"
           }
          ],
          "scatterpolargl": [
           {
            "marker": {
             "colorbar": {
              "outlinewidth": 0,
              "ticks": ""
             }
            },
            "type": "scatterpolargl"
           }
          ],
          "scatterternary": [
           {
            "marker": {
             "colorbar": {
              "outlinewidth": 0,
              "ticks": ""
             }
            },
            "type": "scatterternary"
           }
          ],
          "surface": [
           {
            "colorbar": {
             "outlinewidth": 0,
             "ticks": ""
            },
            "colorscale": [
             [
              0,
              "#0d0887"
             ],
             [
              0.1111111111111111,
              "#46039f"
             ],
             [
              0.2222222222222222,
              "#7201a8"
             ],
             [
              0.3333333333333333,
              "#9c179e"
             ],
             [
              0.4444444444444444,
              "#bd3786"
             ],
             [
              0.5555555555555556,
              "#d8576b"
             ],
             [
              0.6666666666666666,
              "#ed7953"
             ],
             [
              0.7777777777777778,
              "#fb9f3a"
             ],
             [
              0.8888888888888888,
              "#fdca26"
             ],
             [
              1,
              "#f0f921"
             ]
            ],
            "type": "surface"
           }
          ],
          "table": [
           {
            "cells": {
             "fill": {
              "color": "#EBF0F8"
             },
             "line": {
              "color": "white"
             }
            },
            "header": {
             "fill": {
              "color": "#C8D4E3"
             },
             "line": {
              "color": "white"
             }
            },
            "type": "table"
           }
          ]
         },
         "layout": {
          "annotationdefaults": {
           "arrowcolor": "#2a3f5f",
           "arrowhead": 0,
           "arrowwidth": 1
          },
          "colorscale": {
           "diverging": [
            [
             0,
             "#8e0152"
            ],
            [
             0.1,
             "#c51b7d"
            ],
            [
             0.2,
             "#de77ae"
            ],
            [
             0.3,
             "#f1b6da"
            ],
            [
             0.4,
             "#fde0ef"
            ],
            [
             0.5,
             "#f7f7f7"
            ],
            [
             0.6,
             "#e6f5d0"
            ],
            [
             0.7,
             "#b8e186"
            ],
            [
             0.8,
             "#7fbc41"
            ],
            [
             0.9,
             "#4d9221"
            ],
            [
             1,
             "#276419"
            ]
           ],
           "sequential": [
            [
             0,
             "#0d0887"
            ],
            [
             0.1111111111111111,
             "#46039f"
            ],
            [
             0.2222222222222222,
             "#7201a8"
            ],
            [
             0.3333333333333333,
             "#9c179e"
            ],
            [
             0.4444444444444444,
             "#bd3786"
            ],
            [
             0.5555555555555556,
             "#d8576b"
            ],
            [
             0.6666666666666666,
             "#ed7953"
            ],
            [
             0.7777777777777778,
             "#fb9f3a"
            ],
            [
             0.8888888888888888,
             "#fdca26"
            ],
            [
             1,
             "#f0f921"
            ]
           ],
           "sequentialminus": [
            [
             0,
             "#0d0887"
            ],
            [
             0.1111111111111111,
             "#46039f"
            ],
            [
             0.2222222222222222,
             "#7201a8"
            ],
            [
             0.3333333333333333,
             "#9c179e"
            ],
            [
             0.4444444444444444,
             "#bd3786"
            ],
            [
             0.5555555555555556,
             "#d8576b"
            ],
            [
             0.6666666666666666,
             "#ed7953"
            ],
            [
             0.7777777777777778,
             "#fb9f3a"
            ],
            [
             0.8888888888888888,
             "#fdca26"
            ],
            [
             1,
             "#f0f921"
            ]
           ]
          },
          "colorway": [
           "#636efa",
           "#EF553B",
           "#00cc96",
           "#ab63fa",
           "#FFA15A",
           "#19d3f3",
           "#FF6692",
           "#B6E880",
           "#FF97FF",
           "#FECB52"
          ],
          "font": {
           "color": "#2a3f5f"
          },
          "geo": {
           "bgcolor": "white",
           "lakecolor": "white",
           "landcolor": "#E5ECF6",
           "showlakes": true,
           "showland": true,
           "subunitcolor": "white"
          },
          "hoverlabel": {
           "align": "left"
          },
          "hovermode": "closest",
          "mapbox": {
           "style": "light"
          },
          "paper_bgcolor": "white",
          "plot_bgcolor": "#E5ECF6",
          "polar": {
           "angularaxis": {
            "gridcolor": "white",
            "linecolor": "white",
            "ticks": ""
           },
           "bgcolor": "#E5ECF6",
           "radialaxis": {
            "gridcolor": "white",
            "linecolor": "white",
            "ticks": ""
           }
          },
          "scene": {
           "xaxis": {
            "backgroundcolor": "#E5ECF6",
            "gridcolor": "white",
            "gridwidth": 2,
            "linecolor": "white",
            "showbackground": true,
            "ticks": "",
            "zerolinecolor": "white"
           },
           "yaxis": {
            "backgroundcolor": "#E5ECF6",
            "gridcolor": "white",
            "gridwidth": 2,
            "linecolor": "white",
            "showbackground": true,
            "ticks": "",
            "zerolinecolor": "white"
           },
           "zaxis": {
            "backgroundcolor": "#E5ECF6",
            "gridcolor": "white",
            "gridwidth": 2,
            "linecolor": "white",
            "showbackground": true,
            "ticks": "",
            "zerolinecolor": "white"
           }
          },
          "shapedefaults": {
           "line": {
            "color": "#2a3f5f"
           }
          },
          "ternary": {
           "aaxis": {
            "gridcolor": "white",
            "linecolor": "white",
            "ticks": ""
           },
           "baxis": {
            "gridcolor": "white",
            "linecolor": "white",
            "ticks": ""
           },
           "bgcolor": "#E5ECF6",
           "caxis": {
            "gridcolor": "white",
            "linecolor": "white",
            "ticks": ""
           }
          },
          "title": {
           "x": 0.05
          },
          "xaxis": {
           "automargin": true,
           "gridcolor": "white",
           "linecolor": "white",
           "ticks": "",
           "zerolinecolor": "white",
           "zerolinewidth": 2
          },
          "yaxis": {
           "automargin": true,
           "gridcolor": "white",
           "linecolor": "white",
           "ticks": "",
           "zerolinecolor": "white",
           "zerolinewidth": 2
          }
         }
        },
        "title": {
         "text": "<b>Inductance as a function of current (L[H] x I[A])</b>",
         "x": 0,
         "xref": "paper"
        },
        "xaxis": {
         "title": {
          "text": "I[A]"
         }
        },
        "yaxis": {
         "title": {
          "text": "L(H)"
         }
        }
       }
      },
      "text/html": [
       "<div>\n",
       "        \n",
       "        \n",
       "            <div id=\"dc1abe5b-0101-4699-8f1a-e9dffda61995\" class=\"plotly-graph-div\" style=\"height:525px; width:100%;\"></div>\n",
       "            <script type=\"text/javascript\">\n",
       "                require([\"plotly\"], function(Plotly) {\n",
       "                    window.PLOTLYENV=window.PLOTLYENV || {};\n",
       "                    \n",
       "                if (document.getElementById(\"dc1abe5b-0101-4699-8f1a-e9dffda61995\")) {\n",
       "                    Plotly.newPlot(\n",
       "                        'dc1abe5b-0101-4699-8f1a-e9dffda61995',\n",
       "                        [{\"mode\": \"lines\", \"name\": \"L(H)\", \"type\": \"scatter\", \"x\": [1, 2, 3, 4, 5, 6], \"y\": [0.013971593439398538, 0.01397159343939854, 0.01397159343939854, 0.014282073293607395, 0.014592553147816253, 0.015213512856233964]}],\n",
       "                        {\"template\": {\"data\": {\"bar\": [{\"error_x\": {\"color\": \"#2a3f5f\"}, \"error_y\": {\"color\": \"#2a3f5f\"}, \"marker\": {\"line\": {\"color\": \"#E5ECF6\", \"width\": 0.5}}, \"type\": \"bar\"}], \"barpolar\": [{\"marker\": {\"line\": {\"color\": \"#E5ECF6\", \"width\": 0.5}}, \"type\": \"barpolar\"}], \"carpet\": [{\"aaxis\": {\"endlinecolor\": \"#2a3f5f\", \"gridcolor\": \"white\", \"linecolor\": \"white\", \"minorgridcolor\": \"white\", \"startlinecolor\": \"#2a3f5f\"}, \"baxis\": {\"endlinecolor\": \"#2a3f5f\", \"gridcolor\": \"white\", \"linecolor\": \"white\", \"minorgridcolor\": \"white\", \"startlinecolor\": \"#2a3f5f\"}, \"type\": \"carpet\"}], \"choropleth\": [{\"colorbar\": {\"outlinewidth\": 0, \"ticks\": \"\"}, \"type\": \"choropleth\"}], \"contour\": [{\"colorbar\": {\"outlinewidth\": 0, \"ticks\": \"\"}, \"colorscale\": [[0.0, \"#0d0887\"], [0.1111111111111111, \"#46039f\"], [0.2222222222222222, \"#7201a8\"], [0.3333333333333333, \"#9c179e\"], [0.4444444444444444, \"#bd3786\"], [0.5555555555555556, \"#d8576b\"], [0.6666666666666666, \"#ed7953\"], [0.7777777777777778, \"#fb9f3a\"], [0.8888888888888888, \"#fdca26\"], [1.0, \"#f0f921\"]], \"type\": \"contour\"}], \"contourcarpet\": [{\"colorbar\": {\"outlinewidth\": 0, \"ticks\": \"\"}, \"type\": \"contourcarpet\"}], \"heatmap\": [{\"colorbar\": {\"outlinewidth\": 0, \"ticks\": \"\"}, \"colorscale\": [[0.0, \"#0d0887\"], [0.1111111111111111, \"#46039f\"], [0.2222222222222222, \"#7201a8\"], [0.3333333333333333, \"#9c179e\"], [0.4444444444444444, \"#bd3786\"], [0.5555555555555556, \"#d8576b\"], [0.6666666666666666, \"#ed7953\"], [0.7777777777777778, \"#fb9f3a\"], [0.8888888888888888, \"#fdca26\"], [1.0, \"#f0f921\"]], \"type\": \"heatmap\"}], \"heatmapgl\": [{\"colorbar\": {\"outlinewidth\": 0, \"ticks\": \"\"}, \"colorscale\": [[0.0, \"#0d0887\"], [0.1111111111111111, \"#46039f\"], [0.2222222222222222, \"#7201a8\"], [0.3333333333333333, \"#9c179e\"], [0.4444444444444444, \"#bd3786\"], [0.5555555555555556, \"#d8576b\"], [0.6666666666666666, \"#ed7953\"], [0.7777777777777778, \"#fb9f3a\"], [0.8888888888888888, \"#fdca26\"], [1.0, \"#f0f921\"]], \"type\": \"heatmapgl\"}], \"histogram\": [{\"marker\": {\"colorbar\": {\"outlinewidth\": 0, \"ticks\": \"\"}}, \"type\": \"histogram\"}], \"histogram2d\": [{\"colorbar\": {\"outlinewidth\": 0, \"ticks\": \"\"}, \"colorscale\": [[0.0, \"#0d0887\"], [0.1111111111111111, \"#46039f\"], [0.2222222222222222, \"#7201a8\"], [0.3333333333333333, \"#9c179e\"], [0.4444444444444444, \"#bd3786\"], [0.5555555555555556, \"#d8576b\"], [0.6666666666666666, \"#ed7953\"], [0.7777777777777778, \"#fb9f3a\"], [0.8888888888888888, \"#fdca26\"], [1.0, \"#f0f921\"]], \"type\": \"histogram2d\"}], \"histogram2dcontour\": [{\"colorbar\": {\"outlinewidth\": 0, \"ticks\": \"\"}, \"colorscale\": [[0.0, \"#0d0887\"], [0.1111111111111111, \"#46039f\"], [0.2222222222222222, \"#7201a8\"], [0.3333333333333333, \"#9c179e\"], [0.4444444444444444, \"#bd3786\"], [0.5555555555555556, \"#d8576b\"], [0.6666666666666666, \"#ed7953\"], [0.7777777777777778, \"#fb9f3a\"], [0.8888888888888888, \"#fdca26\"], [1.0, \"#f0f921\"]], \"type\": \"histogram2dcontour\"}], \"mesh3d\": [{\"colorbar\": {\"outlinewidth\": 0, \"ticks\": \"\"}, \"type\": \"mesh3d\"}], \"parcoords\": [{\"line\": {\"colorbar\": {\"outlinewidth\": 0, \"ticks\": \"\"}}, \"type\": \"parcoords\"}], \"scatter\": [{\"marker\": {\"colorbar\": {\"outlinewidth\": 0, \"ticks\": \"\"}}, \"type\": \"scatter\"}], \"scatter3d\": [{\"line\": {\"colorbar\": {\"outlinewidth\": 0, \"ticks\": \"\"}}, \"marker\": {\"colorbar\": {\"outlinewidth\": 0, \"ticks\": \"\"}}, \"type\": \"scatter3d\"}], \"scattercarpet\": [{\"marker\": {\"colorbar\": {\"outlinewidth\": 0, \"ticks\": \"\"}}, \"type\": \"scattercarpet\"}], \"scattergeo\": [{\"marker\": {\"colorbar\": {\"outlinewidth\": 0, \"ticks\": \"\"}}, \"type\": \"scattergeo\"}], \"scattergl\": [{\"marker\": {\"colorbar\": {\"outlinewidth\": 0, \"ticks\": \"\"}}, \"type\": \"scattergl\"}], \"scattermapbox\": [{\"marker\": {\"colorbar\": {\"outlinewidth\": 0, \"ticks\": \"\"}}, \"type\": \"scattermapbox\"}], \"scatterpolar\": [{\"marker\": {\"colorbar\": {\"outlinewidth\": 0, \"ticks\": \"\"}}, \"type\": \"scatterpolar\"}], \"scatterpolargl\": [{\"marker\": {\"colorbar\": {\"outlinewidth\": 0, \"ticks\": \"\"}}, \"type\": \"scatterpolargl\"}], \"scatterternary\": [{\"marker\": {\"colorbar\": {\"outlinewidth\": 0, \"ticks\": \"\"}}, \"type\": \"scatterternary\"}], \"surface\": [{\"colorbar\": {\"outlinewidth\": 0, \"ticks\": \"\"}, \"colorscale\": [[0.0, \"#0d0887\"], [0.1111111111111111, \"#46039f\"], [0.2222222222222222, \"#7201a8\"], [0.3333333333333333, \"#9c179e\"], [0.4444444444444444, \"#bd3786\"], [0.5555555555555556, \"#d8576b\"], [0.6666666666666666, \"#ed7953\"], [0.7777777777777778, \"#fb9f3a\"], [0.8888888888888888, \"#fdca26\"], [1.0, \"#f0f921\"]], \"type\": \"surface\"}], \"table\": [{\"cells\": {\"fill\": {\"color\": \"#EBF0F8\"}, \"line\": {\"color\": \"white\"}}, \"header\": {\"fill\": {\"color\": \"#C8D4E3\"}, \"line\": {\"color\": \"white\"}}, \"type\": \"table\"}]}, \"layout\": {\"annotationdefaults\": {\"arrowcolor\": \"#2a3f5f\", \"arrowhead\": 0, \"arrowwidth\": 1}, \"colorscale\": {\"diverging\": [[0, \"#8e0152\"], [0.1, \"#c51b7d\"], [0.2, \"#de77ae\"], [0.3, \"#f1b6da\"], [0.4, \"#fde0ef\"], [0.5, \"#f7f7f7\"], [0.6, \"#e6f5d0\"], [0.7, \"#b8e186\"], [0.8, \"#7fbc41\"], [0.9, \"#4d9221\"], [1, \"#276419\"]], \"sequential\": [[0.0, \"#0d0887\"], [0.1111111111111111, \"#46039f\"], [0.2222222222222222, \"#7201a8\"], [0.3333333333333333, \"#9c179e\"], [0.4444444444444444, \"#bd3786\"], [0.5555555555555556, \"#d8576b\"], [0.6666666666666666, \"#ed7953\"], [0.7777777777777778, \"#fb9f3a\"], [0.8888888888888888, \"#fdca26\"], [1.0, \"#f0f921\"]], \"sequentialminus\": [[0.0, \"#0d0887\"], [0.1111111111111111, \"#46039f\"], [0.2222222222222222, \"#7201a8\"], [0.3333333333333333, \"#9c179e\"], [0.4444444444444444, \"#bd3786\"], [0.5555555555555556, \"#d8576b\"], [0.6666666666666666, \"#ed7953\"], [0.7777777777777778, \"#fb9f3a\"], [0.8888888888888888, \"#fdca26\"], [1.0, \"#f0f921\"]]}, \"colorway\": [\"#636efa\", \"#EF553B\", \"#00cc96\", \"#ab63fa\", \"#FFA15A\", \"#19d3f3\", \"#FF6692\", \"#B6E880\", \"#FF97FF\", \"#FECB52\"], \"font\": {\"color\": \"#2a3f5f\"}, \"geo\": {\"bgcolor\": \"white\", \"lakecolor\": \"white\", \"landcolor\": \"#E5ECF6\", \"showlakes\": true, \"showland\": true, \"subunitcolor\": \"white\"}, \"hoverlabel\": {\"align\": \"left\"}, \"hovermode\": \"closest\", \"mapbox\": {\"style\": \"light\"}, \"paper_bgcolor\": \"white\", \"plot_bgcolor\": \"#E5ECF6\", \"polar\": {\"angularaxis\": {\"gridcolor\": \"white\", \"linecolor\": \"white\", \"ticks\": \"\"}, \"bgcolor\": \"#E5ECF6\", \"radialaxis\": {\"gridcolor\": \"white\", \"linecolor\": \"white\", \"ticks\": \"\"}}, \"scene\": {\"xaxis\": {\"backgroundcolor\": \"#E5ECF6\", \"gridcolor\": \"white\", \"gridwidth\": 2, \"linecolor\": \"white\", \"showbackground\": true, \"ticks\": \"\", \"zerolinecolor\": \"white\"}, \"yaxis\": {\"backgroundcolor\": \"#E5ECF6\", \"gridcolor\": \"white\", \"gridwidth\": 2, \"linecolor\": \"white\", \"showbackground\": true, \"ticks\": \"\", \"zerolinecolor\": \"white\"}, \"zaxis\": {\"backgroundcolor\": \"#E5ECF6\", \"gridcolor\": \"white\", \"gridwidth\": 2, \"linecolor\": \"white\", \"showbackground\": true, \"ticks\": \"\", \"zerolinecolor\": \"white\"}}, \"shapedefaults\": {\"line\": {\"color\": \"#2a3f5f\"}}, \"ternary\": {\"aaxis\": {\"gridcolor\": \"white\", \"linecolor\": \"white\", \"ticks\": \"\"}, \"baxis\": {\"gridcolor\": \"white\", \"linecolor\": \"white\", \"ticks\": \"\"}, \"bgcolor\": \"#E5ECF6\", \"caxis\": {\"gridcolor\": \"white\", \"linecolor\": \"white\", \"ticks\": \"\"}}, \"title\": {\"x\": 0.05}, \"xaxis\": {\"automargin\": true, \"gridcolor\": \"white\", \"linecolor\": \"white\", \"ticks\": \"\", \"zerolinecolor\": \"white\", \"zerolinewidth\": 2}, \"yaxis\": {\"automargin\": true, \"gridcolor\": \"white\", \"linecolor\": \"white\", \"ticks\": \"\", \"zerolinecolor\": \"white\", \"zerolinewidth\": 2}}}, \"title\": {\"text\": \"<b>Inductance as a function of current (L[H] x I[A])</b>\", \"x\": 0, \"xref\": \"paper\"}, \"xaxis\": {\"title\": {\"text\": \"I[A]\"}}, \"yaxis\": {\"title\": {\"text\": \"L(H)\"}}},\n",
       "                        {\"responsive\": true}\n",
       "                    ).then(function(){\n",
       "                            \n",
       "var gd = document.getElementById('dc1abe5b-0101-4699-8f1a-e9dffda61995');\n",
       "var x = new MutationObserver(function (mutations, observer) {{\n",
       "        var display = window.getComputedStyle(gd).display;\n",
       "        if (!display || display === 'none') {{\n",
       "            console.log([gd, 'removed!']);\n",
       "            Plotly.purge(gd);\n",
       "            observer.disconnect();\n",
       "        }}\n",
       "}});\n",
       "\n",
       "// Listen for the removal of the full notebook cells\n",
       "var notebookContainer = gd.closest('#notebook-container');\n",
       "if (notebookContainer) {{\n",
       "    x.observe(notebookContainer, {childList: true});\n",
       "}}\n",
       "\n",
       "// Listen for the clearing of the current output cell\n",
       "var outputEl = gd.closest('.output');\n",
       "if (outputEl) {{\n",
       "    x.observe(outputEl, {childList: true});\n",
       "}}\n",
       "\n",
       "                        })\n",
       "                };\n",
       "                });\n",
       "            </script>\n",
       "        </div>"
      ]
     },
     "metadata": {},
     "output_type": "display_data"
    }
   ],
   "source": [
    "fig = go.Figure()\n",
    "fig.add_trace(go.Scatter(x=np.arange(1,7,1), y=_L_arr,\n",
    "             mode='lines',\n",
    "             name='L(H)'))\n",
    "# fig.update_layout(title='Inductance as a function of time',\n",
    "#                   yaxis_zeroline=False, xaxis_zeroline=False)\n",
    "fig.update_layout(\n",
    "    title=go.layout.Title(\n",
    "        text=\"<b>Inductance as a function of current (L[H] x I[A])</b>\",\n",
    "        xref=\"paper\",\n",
    "        x=0\n",
    "    ),\n",
    "    xaxis=go.layout.XAxis(\n",
    "        title=go.layout.xaxis.Title(\n",
    "            text=\"I[A]\"\n",
    "        )\n",
    "    ),\n",
    "    yaxis=go.layout.YAxis(\n",
    "        title=go.layout.yaxis.Title(\n",
    "            text=\"L(H)\"\n",
    "        )\n",
    "    )\n",
    ")\n",
    "\n",
    "fig.show()"
   ]
  }
 ],
 "metadata": {
  "kernelspec": {
   "display_name": "Python 3",
   "language": "python",
   "name": "python3"
  },
  "language_info": {
   "codemirror_mode": {
    "name": "ipython",
    "version": 3
   },
   "file_extension": ".py",
   "mimetype": "text/x-python",
   "name": "python",
   "nbconvert_exporter": "python",
   "pygments_lexer": "ipython3",
   "version": "3.6.4"
  }
 },
 "nbformat": 4,
 "nbformat_minor": 2
}
